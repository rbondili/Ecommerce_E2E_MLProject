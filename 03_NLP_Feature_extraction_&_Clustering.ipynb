{
  "nbformat": 4,
  "nbformat_minor": 0,
  "metadata": {
    "colab": {
      "name": "03. NLP Feature extraction & Clustering.ipynb",
      "provenance": [],
      "collapsed_sections": [],
      "include_colab_link": true
    },
    "kernelspec": {
      "name": "python3",
      "display_name": "Python 3"
    },
    "accelerator": "GPU"
  },
  "cells": [
    {
      "cell_type": "markdown",
      "metadata": {
        "id": "view-in-github",
        "colab_type": "text"
      },
      "source": [
        "<a href=\"https://colab.research.google.com/github/rbondili/Ecommerce_E2E_MLProject/blob/master/03_NLP_Feature_extraction_%26_Clustering.ipynb\" target=\"_parent\"><img src=\"https://colab.research.google.com/assets/colab-badge.svg\" alt=\"Open In Colab\"/></a>"
      ]
    },
    {
      "cell_type": "markdown",
      "metadata": {
        "id": "f4RJK2w6MBs1",
        "colab_type": "text"
      },
      "source": [
        "# 3) Product categories\n",
        "\n",
        "Products are uniquely identified through the `StockCode` variable. A shrort description of the products is given in the `Description` variable.\n",
        "\n",
        "In this section, we use the content of the variable `Description` to group the products into different categories.\n",
        "\n",
        "We extract keywords from `Description` with the function below."
      ]
    },
    {
      "cell_type": "code",
      "metadata": {
        "id": "YuX0q40nJz2-",
        "colab_type": "code",
        "colab": {
          "base_uri": "https://localhost:8080/",
          "height": 118
        },
        "outputId": "a8f731a6-35e1-4dcc-c3d5-b4b7398fcd6b"
      },
      "source": [
        "import pandas as pd\n",
        "\n",
        "from google.colab import drive\n",
        "drive.mount('/content/drive')\n",
        "relative_path = '/content/drive/My Drive/Colab Notebooks/Customer Segmentation/ecommerce-data/'\n",
        "\n",
        "df_dropna = pd.read_csv(relative_path + 'data_dropna.csv', encoding='latin', dtype={'CustomerID': str}) \n",
        "df_cleaned = pd.read_csv(relative_path + 'data_cleaned.csv', encoding='latin', dtype={'CustomerID': str}) "
      ],
      "execution_count": null,
      "outputs": [
        {
          "output_type": "stream",
          "text": [
            "Go to this URL in a browser: https://accounts.google.com/o/oauth2/auth?client_id=947318989803-6bn6qk8qdgf4n4g3pfee6491hc0brc4i.apps.googleusercontent.com&redirect_uri=urn%3aietf%3awg%3aoauth%3a2.0%3aoob&response_type=code&scope=email%20https%3a%2f%2fwww.googleapis.com%2fauth%2fdocs.test%20https%3a%2f%2fwww.googleapis.com%2fauth%2fdrive%20https%3a%2f%2fwww.googleapis.com%2fauth%2fdrive.photos.readonly%20https%3a%2f%2fwww.googleapis.com%2fauth%2fpeopleapi.readonly\n",
            "\n",
            "Enter your authorization code:\n",
            "··········\n",
            "Mounted at /content/drive\n"
          ],
          "name": "stdout"
        }
      ]
    },
    {
      "cell_type": "markdown",
      "metadata": {
        "id": "II6KN9i6MSar",
        "colab_type": "text"
      },
      "source": [
        "This function takes the dataframe and analyzes the content of the `Description` column by performing the following operations:\n",
        "\n",
        "* extract the names (proper, common) appearing in the products description\n",
        "* for each name, extract the root of the word and aggregate the set of names associated with this particular root\n",
        "* count the number of times each root appears in the dataframe\n",
        "* when several words are listed for the same root, we consider that the keyword associated with this root is the shortest one (this systematically selects the singular when there are singular/plural variants)"
      ]
    },
    {
      "cell_type": "code",
      "metadata": {
        "id": "mlMZrLIhL6NP",
        "colab_type": "code",
        "colab": {
          "base_uri": "https://localhost:8080/",
          "height": 98
        },
        "outputId": "f3c83554-16d9-42fe-cdc9-a9456ec094aa"
      },
      "source": [
        "\n",
        "# The function to extract keywords from (unique) Descriptions\n",
        "import nltk\n",
        "nltk.download('punkt')\n",
        "nltk.download('averaged_perceptron_tagger')\n",
        "\n",
        "is_noun = lambda pos: pos[:2] == 'NN'\n",
        "\n",
        "def keywords_inventory(dataframe, colonne = 'Description'):\n",
        "    stemmer = nltk.stem.SnowballStemmer(\"english\")\n",
        "    keywords_roots  = dict()  # collect the words / root\n",
        "    keywords_select = dict()  # association: root <-> keyword\n",
        "    category_keys   = []\n",
        "    count_keywords  = dict()\n",
        "    icount = 0\n",
        "    for s in dataframe[colonne]:\n",
        "        if pd.isnull(s): continue\n",
        "        lines = s.lower()\n",
        "        tokenized = nltk.word_tokenize(lines)\n",
        "        nouns = [word for (word, pos) in nltk.pos_tag(tokenized) if is_noun(pos)] \n",
        "        \n",
        "        for t in nouns:\n",
        "            t = t.lower() ; racine = stemmer.stem(t)\n",
        "            if racine in keywords_roots:                \n",
        "                keywords_roots[racine].add(t)\n",
        "                count_keywords[racine] += 1                \n",
        "            else:\n",
        "                keywords_roots[racine] = {t}\n",
        "                count_keywords[racine] = 1\n",
        "    \n",
        "    for s in keywords_roots.keys():\n",
        "        if len(keywords_roots[s]) > 1:  \n",
        "            min_length = 1000\n",
        "            for k in keywords_roots[s]:\n",
        "                if len(k) < min_length:\n",
        "                    clef = k ; min_length = len(k)            \n",
        "            category_keys.append(clef)\n",
        "            keywords_select[s] = clef\n",
        "        else:\n",
        "            category_keys.append(list(keywords_roots[s])[0])\n",
        "            keywords_select[s] = list(keywords_roots[s])[0]\n",
        "                   \n",
        "    print(\"Nb of keywords in variable '{}': {}\".format(colonne,len(category_keys)))\n",
        "    return category_keys, keywords_roots, keywords_select, count_keywords"
      ],
      "execution_count": null,
      "outputs": [
        {
          "output_type": "stream",
          "text": [
            "[nltk_data] Downloading package punkt to /root/nltk_data...\n",
            "[nltk_data]   Unzipping tokenizers/punkt.zip.\n",
            "[nltk_data] Downloading package averaged_perceptron_tagger to\n",
            "[nltk_data]     /root/nltk_data...\n",
            "[nltk_data]   Unzipping taggers/averaged_perceptron_tagger.zip.\n"
          ],
          "name": "stdout"
        }
      ]
    },
    {
      "cell_type": "markdown",
      "metadata": {
        "id": "RBRf8kEgMaZg",
        "colab_type": "text"
      },
      "source": [
        "## 3.1) Unique descriptions\n",
        "**Task**: extract unique descriptions. How many of them we have?\n",
        "Use keywords_invertory function."
      ]
    },
    {
      "cell_type": "code",
      "metadata": {
        "id": "Dd3fNDtCEYOW",
        "colab_type": "code",
        "colab": {
          "base_uri": "https://localhost:8080/",
          "height": 33
        },
        "outputId": "c68606bf-8dab-4999-94a1-771a56868255"
      },
      "source": [
        "df_produits = pd.DataFrame(df_dropna['Description'].unique()).rename(columns = {0:'Description'})\n",
        "print(\"number of different descriptions is:\", len(df_produits))"
      ],
      "execution_count": null,
      "outputs": [
        {
          "output_type": "stream",
          "text": [
            "number of different descriptions is: 3896\n"
          ],
          "name": "stdout"
        }
      ]
    },
    {
      "cell_type": "code",
      "metadata": {
        "id": "W1G07AaWMY1N",
        "colab_type": "code",
        "colab": {
          "base_uri": "https://localhost:8080/",
          "height": 118
        },
        "outputId": "ab172917-7536-40e2-a6ff-86222a97e389"
      },
      "source": [
        "# use the function\n",
        "keywords, keywords_roots, keywords_select, count_keywords = keywords_inventory(df_produits)\n",
        "print(keywords,'\\n', keywords_roots,'\\n',  keywords_select,'\\n',  count_keywords)"
      ],
      "execution_count": null,
      "outputs": [
        {
          "output_type": "stream",
          "text": [
            "Nb of keywords in variable 'Description': 1483\n",
            "['heart', 'holder', 'metal', 'lantern', 'cream', 'cupid', 'coat', 'hanger', 'union', 'flag', 'water', 'bottle', 'nest', 'box', 'glass', 'star', 'hand', 'jack', 'warmer', 'dot', 'bird', 'ornament', 'poppy', 'playhouse', 'bedroom', 'kitchen', 'feltcraft', 'princess', 'charlotte', 'doll', 'ivory', 'cosy', 'colour', 'teaspoons', 'vintage', 'jigsaw', 'block', 'alphabet', 'home', 'building', 'word', 'love', 'recipe', 'england', 'jam', 'jar', 'rack', 'paris', 'fashion', 'bath', 'alarm', 'clock', 'bakelike', 'pink', 'green', 'panda', 'bunny', 'sheet', 'tape', 'globe', 'head', 'tail', 'game', 'set/2', 'retrospot', 'tea', 'towel', 'round', 'snack', 'woodland', 'spaceboy', 'lunch', 'i', 'london', 'circus', 'bag', 'design', 'toadstool', 'night', 'light', 'seaside', 'puzzles', 'mini', 'parade', 'paint', 'postage', 'paper', 'chain', 'christmas', 'parasol', 'coffee', 'mug', 'planet', 'billboard', 'love/hate', 'wood', 'drawer', 'cabinet', 'finish', 's/3', 'picture', 'frame', 'wooden', 'sympathy', 'polkadot', 'baroque', 'charlie', 'lola', 'toy', 'strawberry', 'piece', 'cutlery', 'set', 'set/6', 'plate', 'pack', 'case', 'dinosaur', 'paisley', 'fairy', 'tomato', 'charlie+lola', 'coaster', 'wastepaper', 'bin', 'flora', 'doorsign', 'storage', 'suki', 'making', 'pc', 'tool', 'airline', 'lounge', 'sign', 'spot', 'knob', 'photo', 'clip', 'line', 'felt', 'egg', 'chicken', 'bank', 'shoulder', 'cook', 'gin', '+', 'breakfast', 'cup', 'saucer', 'flower', 'time', 'rabbit', 'zinc', 'winkie', 'candle', 'stick', 'cherry', 'money', 'milk', 'jug', 'funky', 'beaker', 'owl', 'balloon', 'art', 'cloche', 'gumball', 'monochrome', 'doormat', 'fancy', 'sweet', 'discount', 'snake', 'ladder', 'chocolate', 'calculator', 'tidy', 'table', 'pot', 'garden', 'thermometer', 'cake', 'tin', 'wicker', 'basket', 'lid', 'duck', 'board', 'hanging', 'medina', 'chalkboard', 'lovebird', 'birdcage', 'plant', 'card', 'enamel', 'fire', 'bucket', 'bread', 'ribbon', 'wire', 'chilli', 'garland', 'butterfiles', 'tale', 'cottage', 'letter', 'doorstop', 'decoration', 'magnet', 'fridge', 'homemade', 'enfants', 'caravan', 'hook', 'reindeer', 'cushion', 'cover', 'gold', 'umbrella', 'black/blue', 'diner', 'wall', 'measure', 'spoon', 'keepsake', 'disco', 'ball', 'popcorn', 'set/20', 'napkins', 'rain', 'hat', 'deluxe', 'kit', 'cube', 'plasters', 'tissue', 'grey', 'skull', 'mice', 'soldier', 'skittles', 'skipping', 'rope', 'dominoes', 'seventeen', 'sideboard', 'party', 'cone', 'carnival', 'candy', 'picnic', 'lamp', 'font', 'birthday', 'scotty', 'dog', 'bowl', 'cloth', 'travel', 'trinket', 'orange', 'quilt', 'babushka', 'string', 'doughnut', 'silk', 'purse', 'house', 'boudoir', 'square', 'cornice', 's/6', 'sew', 'crochet', 'reds', 'lavender', 'incense', 'tv', 'dinner', 'tray', 'placemat', 'family', 'rotator', 'battery', 'silver', 'mirror', 'ladies', 'gentlemen', 'bathroom', 'toilet', 'holiday', 'basil', 'set/10', 't-light', 'snowmen', 'santa', 'sponge', 'apple', 'pirate', 'treasure', 'chest', 'snowflake', 'oval', 'cigar', 'matches', 'hour', 'giant', 'tube', 'jazz', 'notebook', 'candleholder', 'candlestick', 'baroquecandlestick', 'flannel', 'style', 'football', 'celebration', 'girl', 'blue', 'invites', 'butterfly', 'cookie', 'cutter', 'sweetheart', 'car', 'trellis', 'set/5', 'slate', 'bake', 'pencil', 'harmonica', 'transfer', 'tattoos', 'pannetone', 'kids', 'pen', 'rectangle', 'face', 'wrap', 'cowboy', 'doilies', 'cat', 'eraser', 'angel', 'hldr', 'reel', 'spinning', 'top', 'marbles', 'strand', 'necklac', 'crystal', 'squarecushion', 'children', 'candelabra', 'luggage', 'tag', 'tassle', 'charm', 'acrylic', 'bangle', 'guns', 'roses', 'vanilla', 'scent', 'bell', 'stand', 'filigree', 'pattern', 'sticker', \"b'fly\", 'c/cover', 'w', 'bobbles', 'boom', 'speaker', 'dress', 'shopper', 'fruit', 'parcel', 'slipper', 'shoe', 'daisy', 'peg', 'craft', 'tree', 'friends', 'rosie', 'olivia', 'rex', 'cash+carry', 'tote', 'pinkwhite', 'red/white', 'valentine', 'decoupage', 'sock', 'bauble', 'village', 'turquoise', 'wreath', 'advent', 'calendar', 'gingham', 'sack', 'snap', 'drawerknob', 'apron', 'mushroom', 'chalk', 'hairband', 'purple', 'animal', 'fair', 'cupcake', 'lace', 'catch', 'cotton', 'beach', 'spade', 'boy', 'king', 'choice', 'caddy', 'biscuit', 'empire', 'fawn', 'gift', 'namaste', 'swagat', 'vase', 'chrysanthemum', 'scissor', 'tealight', 'place', 's/15', 'wc', 'soap', 'medium', 'washroom', 'bracelet', 'hair', 'grip', 'pack/2', 'dia', 'diamante', 'ring', 'ruby', 'montana', 'present', 'aid', 'monsoon', 'rubber', 'stationery', 'mittens', 'scandinavian', 'canvas', 'stamp', 'cinammon', 'stripe', 'provence', 'flock', 'office', 'record', 'size', 'horse', 'regency', 'cakestand', 'tier', 'longboard', 'playing', 'shirt', 'repair', 'foxy', 'gents', 'jet', \"'n\", 'grow', 'world', 'champion', 'seed', 'envelope', 'hi', 'polyester', 'filler', 'pad', 'scarf', 'pears', 'gazebo', 'birdhouse', 'antique', 'market', 'crate', 'bed', 'pizza', 'leaves', 'button', 'message', 'herb', 'marker', 'mint', 'rosemary', 'chives', 'parsley', 'thyme', 'merry', 'foil', 'handbag', 'easter', 'cut', 'season', 'toast', 'path', 'journal', 'squeezer', 'glove', 'licorice', 'des', 'roll', 'multicolour', 'confetti', 'morris', 'pistachio', 'honeycomb', 'english', 'level', 'platter', 'teacup', 'slice', 'fun', 'ass', 'col', 'sand', 'gecko', \"p'weight\", 'postcard', 'spring', 'chateau', 'scales', 'lizard', 'suction', 'engine/car', 'patch', 'psychedelic', 'flowerpower', 'life', 'rounders', 'childs', 'taper', 'confectionery', 'stopper', 'set/4', 'junk', 'mail', 'tile', 'finger', 'beurre', 'dish', 'diet', 'screen', 'print', 'peace', 'earth', 'cocktail', 'strongman', 'school', 'crayons', 'booze', 'women', 'lads', 'man', 'heat', 'person', 'shape', 'pan', 'bendy', 'straws', 'pantry', 'sketchbook', 'singing', 'emergency', 'frieze', 'door', 'joy', 'black+silver', 'regal', 'candlepot', 'swirlglass', 'pedestal', 'magazine', 'food', 'raffia', 'polka', 'jardin', 'bunting', 'kashmir', 'chocolatecandle', 'shelf', 'image', 'day', 'jewellery', 'lets', 'camouflage', 'torch', 'dragonfly', 'helicopter', 'shark', 'doctor', 'carriage', 'salt', 'pepper', 'porcelain', 'star+', 'moon', 'fringe', 'hammock', 'dec', 'crossbones', 'fabric', 'pony', 'cordon', 'barrier', 'teddy', 'air', 'hostess', 'stack', 'hut', 'blossom', 'passport', 'retro', 'mod', 'cardholder', 'book', 'spiral', 'coal', 'airmail', 'number', 'smiley', 'collage', 'childhood', 'memory', 'funk', 'monkey', 'choc+blue', 'glitter', 'b', 'c', 'cheese', 'geisha', 'newspaper', 'scandispot', 'jingle', 'key', 'instrument', 'crowns', 'chalet', 'motorbike', 'medicine', 'ma', 'campagne', 'yuletide', 'shade', 'base', 'folkart', 'smallfolkart', 'glass+zinc', 'set/3', 'eucalyptus', 'pinecone', 's/4', 'cacti', 'marshmallow', 'mum', 'indians', 'fuschia', 'brocade', 'swallows', 'm', 'v', 's', 'j', 'bingo', 'floor', 'fauna', 'ear', 'muff', 'headphones', 'tutti', 'frutti', 'brush', 'ladybird', 'bee', 'bamboo', 'ribs', 'lampshade', 'badges', 'creatures', 'pocket', 'brocante', 'maria', 'memo', 'room', 'salle', 'bain', 'robot', 'war', 'gliders', 'coathanger', 'bomb', 'pump', 'stencil', 'cute', 'toothpaste', 'purdey', 'account', 'penny', 'pig', 'loveheart', 'en', 'pin', 'area', 'portrait', 'plastic', 'elephant', 'rainbow', 'modelling', 'clay', 'disc', 'sugar', 'teapot', 'dairy', 'maid', 'pudding', 'container', 'moody', 'hen', 'wishes', 'thank', 'planter', 'stripey', 'dragon', 'ruler', 'digitalis', 'post', 'milkshake', 'baby', 'chart', 'figures', 'shine', 'army', 'camo', 'bookcover', 'carrot', 'chick', 'chunky', 'tassel', 'glass+bead', 'livingroom', 'posy', 'vine', 'food/drink', 'lilac', 'juicy', 'creepy', 'crawlie', 'memoboard', 'wash', 'cafe', 'bow', 'brooch', 'amethyst', 'pair', 'hairclip', 'gemstone', 'drop', 'earrings', 'hoop', 'leaf', 'clam', 'shell', 'cockle', 'fob', 'garage', 'chopsticks', 'frog', 'puppet', 'wine', 'candlestand', 'gaolers', 'champagne', 'curio', 'fan', 'charge', 'butter', 'farm', 'snowstorm', 'tinsel', 'space', 'cadet', 'monster', 'citronella', 'folk', 'burst', 'fanny', 'rest', 'stopmetal', 'way', 'corona', 'weekend', 'fishing', 'gnome', 'colander', 'blue/cream', 'strawbery', 'shop', 'washbag', 'feng', 'shui', 'pillar', 'novelty', 'toastrack', 'rustic', 'bead', 'croquet', 'choc', 'truffle', 'cabin', 'knitting', 'nancy', 'throw', 'lush', 'necklace+bracelet', 'salad', 'check', 'ludo', 'la', 'palmiera', 'display', 'pack/12', 'secateurs', 'leis', 'camphor', 'field', 'portobello', 'fairy,5', 'summer', \"b'draw\", 'liners', 'blue/yellow', 'green/blue', 'yellow/pink', 'a5', 'neighbourhood', 'witch', 'pharmacie', 'naughty', 'sound', 'hello', 'sailor', 'beware', 'cinnamon', 'jasmine', 'bone', 'circle', 'midnight', 'glamour', 'frappucino', 'phone', 'blue/green', 'pendant', 'spirit', 'skirt', 'mouse', 't-shirt', 'jewel', 'nurse', 'melamine', 'wool', 'peacock', 'footprints', 'album', 'gardenia', 'multi', 'mousey', 'laundry', 'cactus', 'cockerel', 'bouquet', 'danish', 'cast', 'iron', 'fork', 'trowel', 'pearl', 'lime', 'boudicca', 'pennant', 'labels', 'ream', 'pop', 'poncho', 'flask', 'keyring', 'chair', 'petit', 'dream', 'windsock', 'microwave', 'delight', 'organiser', 'leap', 'silicon', 'bulb', 'seat', 'madras', 'feather', 'sandalwood', 'rocket', 'sombrero', 'bitty', 'stone', 'glow', 'tiaras', 'robin', 'kensington', 'set/12', 'mobile', 's/12', 'bib', 'teatime', 'flu', 'embroidery', 'ashtray', 'shower', 'cap', 'queen', 'sky', 'economy', 'oil', 'burner', 'notelets', 'deco', 'w/knif', 'deco.white', 'sage', 'flowerpot', 'paperweight', 'carry-all', 'balm', 'tumbler', 'brown', 'travelogue', 'pink/white', 'clean', 'bullet', 'puppies', 'sunrise', 'carousel', 'sunglasses', 'blackchristmas', 'sweeties', 'wireless', 'doorbell', 'lattice', 'neckl', 'bronze', 'smokey', 'd.o.f', 'pouri', 'windmill', 'pale', 'bea', 'mao', 'goose', 'bear', 'du', 'cosmetics', 'flytrap', 'sunflower', 'butterfl', 'pouffe', 'regatta', 'budah', 'wise', 'potion', 'masala', 'favourites', 'banquet', 'xmas', 'nut', 'basin', 'eau', 'tigris', 'eye', 'vinyl', 'las', 'vegas', 'mould', 'voile', 'pointy', 'k', 'address', 'stool', 'photoframe', 'jungle', 'popsicles', 'twine', 'rnd', 'str', 'strap', 'beauty', 'cd', 'gebra', 'shutters', 'seafood', 'compact', 'magic', 'octagon', 'diva', 'chime', 'neckl.36', 'folding', 'edge', 'forties', 'blood', 'coney', 'island', 'pompom', 'curtain', 'grass', 'mixing', 'rosette', 'welcome', 'class', 'plaque', 'popart', 'rect', 'sharpener', 'asst', 'tortilla', 'w/sucker', 'origami', 'incense/candl', 'opium', 'sandlewood', 'incense/cand', 'rococo', 'sprig', 'cage', 'strawbry', 'mosaic', 'goblet', 'highlighter', 'kittens', 'silver/amethyst', 'slide', 'cartoon', 'vip', 'doc', 'russel', 'dad', 'scroll', 'marmalade', 'garld', 'neckl36', 'copper', 'turq', 'sundae', 'droplet', 'murano', 'twist', 'racing', 'silouette', 'demi', 'choker', 'orbit', 'pastel', 'flowe', 'beaten', 'charger', 'aperitif', 'spice', 'cannister', 'bertie', 'steel', 'mr', 'vippassport', 'asstd', 'butterfly/crystal', 'w/chime', 'screwdriver', 'spaceball', 'mrs', 'prince', 'chalice', 'blackboard', 'ice', 'bum', 'roccoco', 'chandelier', 'fly', 'swat', 'sheep', 'fruitbowl', 'freshwater', 'pink/amethyst', 'teal/fuschia', 'botanical', 'groovy', 'fruit+flowers', 'blackblue', 'bus', 'enamel+glass', 'comb', 'diamond', 'incense+flower', 'fluffy', 'desk', 'mock', 'lobster', 'diamon', 'raspberr', 'lazer', 'amber', 'band', 'delphinium', 'white/pink', 'toybox', 'banner', 'm.o.p', 'cannabis', 'd', 'dark', 'dolphin', 'wheelbarrow', 'rake', 'frangipani', 'rosebud', 'chenille', 'box/12', 'ladle', 'wedding', 'briar', 'poodle', 'pink/flower', 'waste', 'carpet', 'flamingo', 'bar', 'condiment', 'hilda', 'congratulations', 'icon', 'elvis', 'drawstring', 'hare', 'gordon', 'pool', 'sisters', 'citrus', 'beetles', 'crystal+glass', 'resin', 'ridge', 'crusoe', 'vegetables', 'flore', 'doiley', 'multicol', 'blond', 'glass/silver', 'hunt', 'start', 'rasta', 'key-chains', 'back', 'hen+chicks', 'petals', 'candystuft', 'st', 'george', 'savannah', 'hamper', 'barn', 'red/cream', 'r', 'suede', 'oyster', 'flame', 'lenses', 'support', 'g', 'ceramic', 'rectangular', 'unit', 'ivy', 's/2', 'list', 'cutglass', 'gold/m.o.p', 'silver/m.o.p', 'roman', 'peach', 'bazaar', 'tranquility', 'gauze', 'radio', 'buddha', 'pet', 'revolutionary', 'tie', 'jade', 'cluster', 'sea', 'windchime', 'pom-pom', 'vint', 'blue/nat', 'silver/nat', 'hopper', 'pole', 'monte', 'carlo', 'wallet', 'meadow', 'transport', 'calm', 'giraffe', 'revolver', 'pill', 'ticket', 'dotcomgiftshop', 'raspberry', 'berries', 'scallop', 'bling', 'riviera', 'heavens', 'fragrance', 'anemone', 'allium', 'artificial', 'buffalo', 'bill', 'pastry', 'dollcraft', 'nicole', 'mother', 'corer', 'triple', 'acapulco', 'mat', 'lives', 'jean-paul', 'bull', 'opener', 'guitar', 'ol', 'p', 'splodges', 'purple/turq', 'hole', 'punch', 'bonbons', 'amelie', 'gems', 'geometric', 'lt.blue', 'sanskrit', '/', 'turquois', 'kukui', 'coconut', 'lip', 'gloss', 'red/blue', 'flower/butterfly', 'mummy', 'cupboard', 'hibiscus', 'nativity', 'silver/black', 'goldie', 'hurricane', 'backpack', 'mop', 'yellow/orange', 'hardman', 'tahiti', 'aluminium', 'parlour', 'barrel', 'marie', 'antoienett', 'miniature', 'gel', 'cote', \"d'azure\", 'tropez', 'tone', 'page', 'run', 'laser', 'tongs', 'come', 'strainer', 'zinc/glass', 'point', 'snow', 'cinderella', 'miniture', 'antoinette', 'l', 'sequin', 'spliff', 'bundle', 'exercise', 'note', 'supplies', 'parisienne', 'chic', 'secret', 'bedside', 'dispenser', 'bon', 'montan', 'gerden', 'housework', 'y', 'peony', 'stiletto', 'flowr', 'capiz', 'quartz', 'braclet', 'lt', 'laurel', 'rocking', 'ollie', 'beak', 'ghost', 'disc/mirror', 'willie', 'icicle', 'push', 'e', 'knack', 'gymkhana', 'hold', 'bubblegum', 'h', 'sleigh', 'trim', 'mid', 'spike', 'meter', 'donkey', 'perfume', 'elixir', 'songbird', 'crackle', 'glaze', 'tonic', 'doorknob', 'bonne', 'swords', 'disposable', 'handle', 'hexagon', 'notepad', 'refectory', 'reto', 'madeline', 'mark', 'hens+flower', 'sucker', 'cracker', 'brass', 'hairslide', 'loaf', 'w/suck', 'tablecloth', 'bili', 'poster', 'park', 'ceature', 'forest', 'branch', 'pink/blue', 'frill', 'adult', 'jampot', 'sex', 'stuff', 'bubbles', 'patchwork', 'utensil', 'teddy/cake', 'dotcom', 'commission', 'france', 'foot', 'bonheur', 'botanique', 'sweeet', 'pants', 'makers', 'grinder', 'linen', 'spatula', 'whisk', 'toilette', 'chambre', 'le', 'draw', 'carry', 'jubilee', 'rebecca', 'rachel', 'susie', 'rucksack', 'peridot', 'sophie', 'claire', 'blk/whit', 'villa', 'dovecote', 'bicycle', 'saftey', 'stop', 'licence', 'haven', 'ahoy', 'nature', 'show', 'century', 'modern', 'work', 'baseball', 'boot', 'feeding', 'station', 'safety', 'metre', 'triobase', 'feeder', 'henrietta', 'carrier', 'helga', 'heidi', 'resolution', 'landmark', 'bridge', 'oxford', 'street', 'baker', 'hill', 'town', 'miror', 'decrotivevintage', 'pick', 'naughts', 'cross', 'blueberry', 'fondant', 'chrome', \"sil't\", 'squ', 'crome', 'candle+incense', 'panettone', 'czech', 'puncture', 'country', 'f', 'o', 't', 'z', 'birdie'] \n",
            " {'heart': {'heart', 'hearts'}, 'holder': {'holder', 'holders'}, 'metal': {'metal'}, 'lantern': {'lantern', 'lanterns'}, 'cream': {'cream'}, 'cupid': {'cupid'}, 'coat': {'coat'}, 'hanger': {'hangers', 'hanger'}, 'union': {'union'}, 'flag': {'flag', 'flags'}, 'water': {'watering', 'water'}, 'bottl': {'bottle', 'bottles'}, 'nest': {'nest', 'nesting'}, 'box': {'boxes', 'box'}, 'glass': {'glass', 'glasses'}, 'star': {'stars', 'star'}, 'hand': {'hand'}, 'jack': {'jack'}, 'warmer': {'warmer'}, 'dot': {'dots', 'dot'}, 'bird': {'bird', 'birds'}, 'ornament': {'ornament'}, 'poppi': {'poppies', 'poppy'}, 'playhous': {'playhouse'}, 'bedroom': {'bedroom'}, 'kitchen': {'kitchen'}, 'feltcraft': {'feltcraft'}, 'princess': {'princess'}, 'charlott': {'charlotte'}, 'doll': {'doll'}, 'ivori': {'ivory'}, 'cosi': {'cosy'}, 'colour': {'colours', 'colouring', 'colour'}, 'teaspoon': {'teaspoons'}, 'vintag': {'vintage'}, 'jigsaw': {'jigsaw'}, 'block': {'block', 'blocks'}, 'alphabet': {'alphabet'}, 'home': {'home'}, 'build': {'building'}, 'word': {'word'}, 'love': {'loves', 'love'}, 'recip': {'recipe'}, 'england': {'england'}, 'jam': {'jam'}, 'jar': {'jars', 'jar'}, 'rack': {'rack'}, 'pari': {'paris'}, 'fashion': {'fashion'}, 'bath': {'bath', 'baths'}, 'alarm': {'alarm'}, 'clock': {'clock'}, 'bakelik': {'bakelike'}, 'pink': {'pinks', 'pink'}, 'green': {'greens', 'green'}, 'panda': {'panda'}, 'bunni': {'bunny', 'bunnies'}, 'sheet': {'sheet'}, 'tape': {'tapes', 'tape'}, 'globe': {'globe'}, 'head': {'head', 'heads'}, 'tail': {'tails', 'tail'}, 'game': {'games', 'game'}, 'set/2': {'set/2'}, 'retrospot': {'retrospot'}, 'tea': {'tea'}, 'towel': {'towel', 'towels'}, 'round': {'round'}, 'snack': {'snack'}, 'woodland': {'woodland'}, 'spaceboy': {'spaceboy'}, 'lunch': {'lunch'}, 'i': {'i'}, 'london': {'london'}, 'circus': {'circus'}, 'bag': {'bag', 'bags'}, 'design': {'designs', 'design'}, 'toadstool': {'toadstools', 'toadstool'}, 'night': {'night'}, 'light': {'light', 'lights'}, 'seasid': {'seaside'}, 'puzzl': {'puzzles'}, 'mini': {'mini'}, 'parad': {'parade'}, 'paint': {'paint'}, 'postag': {'postage'}, 'paper': {'paper'}, 'chain': {'chain'}, 'christma': {'christmas'}, 'parasol': {'parasol', 'parasols'}, 'coffe': {'coffee'}, 'mug': {'mug', 'mugs'}, 'planet': {'planet'}, 'billboard': {'billboard'}, 'love/h': {'love/hate'}, 'wood': {'wood'}, 'drawer': {'drawer', 'drawers'}, 'cabinet': {'cabinet'}, 'finish': {'finish'}, 's/3': {'s/3'}, 'pictur': {'picture'}, 'frame': {'frame', 'frames'}, 'wooden': {'wooden'}, 'sympathi': {'sympathy'}, 'polkadot': {'polkadot', 'polkadots'}, 'baroqu': {'baroque'}, 'charli': {'charlie'}, 'lola': {'lola'}, 'toy': {'toys', 'toy'}, 'strawberri': {'strawberries', 'strawberry'}, 'piec': {'pieces', 'piece'}, 'cutleri': {'cutlery'}, 'set': {'setting', 'set', 'settings'}, 'set/6': {'set/6'}, 'plate': {'plate', 'plates'}, 'pack': {'pack'}, 'case': {'case', 'cases'}, 'dinosaur': {'dinosaur', 'dinosaurs'}, 'paisley': {'paisley'}, 'fairi': {'fairy'}, 'tomato': {'tomato'}, 'charlie+lola': {'charlie+lola'}, 'coaster': {'coaster', 'coasters'}, 'wastepap': {'wastepaper'}, 'bin': {'bin'}, 'flora': {'flora'}, 'doorsign': {'doorsign'}, 'storag': {'storage'}, 'suki': {'suki'}, 'make': {'making'}, 'pc': {'pc'}, 'tool': {'tool', 'tools'}, 'airlin': {'airline'}, 'loung': {'lounge'}, 'sign': {'sign'}, 'spot': {'spot', 'spots'}, 'knob': {'knob'}, 'photo': {'photo'}, 'clip': {'clips', 'clip'}, 'line': {'line'}, 'felt': {'felt'}, 'egg': {'eggs', 'egg'}, 'chicken': {'chicken'}, 'bank': {'bank'}, 'shoulder': {'shoulder'}, 'cook': {'cook'}, 'gin': {'gin'}, '+': {'+'}, 'breakfast': {'breakfast'}, 'cup': {'cup', 'cups'}, 'saucer': {'saucer'}, 'flower': {'flowers', 'flower'}, 'time': {'time'}, 'rabbit': {'rabbits', 'rabbit'}, 'zinc': {'zinc'}, 'winki': {'winkie'}, 'candl': {'candles', 'candle'}, 'stick': {'sticks', 'stick'}, 'cherri': {'cherry'}, 'money': {'money'}, 'milk': {'milk'}, 'jug': {'jug'}, 'funki': {'funky'}, 'beaker': {'beaker', 'beakers'}, 'owl': {'owl', 'owls'}, 'balloon': {'balloon', 'balloons'}, 'art': {'art'}, 'cloch': {'cloche'}, 'gumbal': {'gumball'}, 'monochrom': {'monochrome'}, 'doormat': {'doormat'}, 'fanci': {'fancy'}, 'sweet': {'sweet'}, 'discount': {'discount'}, 'snake': {'snake', 'snakes'}, 'ladder': {'ladders', 'ladder'}, 'chocol': {'chocolates', 'chocolate'}, 'calcul': {'calculator'}, 'tidi': {'tidy'}, 'tabl': {'table'}, 'pot': {'pot', 'pots'}, 'garden': {'gardens', 'gardeners', 'garden'}, 'thermomet': {'thermometer'}, 'cake': {'cake', 'cakes'}, 'tin': {'tin', 'tins'}, 'wicker': {'wicker'}, 'basket': {'basket', 'baskets'}, 'lid': {'lids', 'lid'}, 'duck': {'duck', 'ducks'}, 'board': {'board'}, 'hang': {'hanging'}, 'medina': {'medina'}, 'chalkboard': {'chalkboard'}, 'lovebird': {'lovebirds', 'lovebird'}, 'birdcag': {'birdcage'}, 'plant': {'plant'}, 'card': {'card', 'cards'}, 'enamel': {'enamel'}, 'fire': {'fire'}, 'bucket': {'bucket'}, 'bread': {'bread'}, 'ribbon': {'ribbon', 'ribbons'}, 'wire': {'wire'}, 'chilli': {'chilli'}, 'garland': {'garland'}, 'butterfil': {'butterfiles'}, 'tale': {'tale'}, 'cottag': {'cottage'}, 'letter': {'letter', 'letters'}, 'doorstop': {'doorstop'}, 'decor': {'decorations', 'decoration', 'decorative'}, 'magnet': {'magnets', 'magnet'}, 'fridg': {'fridge'}, 'homemad': {'homemade'}, 'enfant': {'enfants'}, 'caravan': {'caravan'}, 'hook': {'hooks', 'hook'}, 'reindeer': {'reindeer'}, 'cushion': {'cushions', 'cushion'}, 'cover': {'cover'}, 'gold': {'gold'}, 'umbrella': {'umbrella'}, 'black/blu': {'black/blue'}, 'diner': {'diner'}, 'wall': {'wall'}, 'measur': {'measuring', 'measure'}, 'spoon': {'spoons', 'spoon'}, 'keepsak': {'keepsake'}, 'disco': {'disco'}, 'ball': {'ball', 'balls'}, 'popcorn': {'popcorn'}, 'set/20': {'set/20'}, 'napkin': {'napkins'}, 'rain': {'rain'}, 'hat': {'hat'}, 'delux': {'deluxe'}, 'kit': {'kit'}, 'cube': {'cubes', 'cube'}, 'plaster': {'plasters'}, 'tissu': {'tissue', 'tissues'}, 'grey': {'grey'}, 'skull': {'skulls', 'skull'}, 'mice': {'mice'}, 'soldier': {'soldier', 'soldiers'}, 'skittl': {'skittles'}, 'skip': {'skipping'}, 'rope': {'rope'}, 'domino': {'dominoes'}, 'seventeen': {'seventeen'}, 'sideboard': {'sideboard'}, 'parti': {'party'}, 'cone': {'cone', 'cones'}, 'carniv': {'carnival'}, 'candi': {'candy'}, 'picnic': {'picnic'}, 'lamp': {'lamp'}, 'font': {'font', 'fonts'}, 'birthday': {'birthday'}, 'scotti': {'scotty', 'scotties', 'scottie'}, 'dog': {'dog', 'dogs'}, 'bowl': {'bowl', 'bowls'}, 'cloth': {'cloth', 'clothes'}, 'travel': {'travel'}, 'trinket': {'trinket'}, 'orang': {'orange'}, 'quilt': {'quilt'}, 'babushka': {'babushka'}, 'string': {'string'}, 'doughnut': {'doughnut', 'doughnuts'}, 'silk': {'silk'}, 'purs': {'purse'}, 'hous': {'house'}, 'boudoir': {'boudoir'}, 'squar': {'square'}, 'cornic': {'cornice'}, 's/6': {'s/6'}, 'sew': {'sewing', 'sew'}, 'crochet': {'crochet'}, 'red': {'reds'}, 'lavend': {'lavender'}, 'incens': {'incense'}, 'tv': {'tv'}, 'dinner': {'dinner'}, 'tray': {'tray', 'trays'}, 'placemat': {'placemats', 'placemat'}, 'famili': {'family'}, 'rotat': {'rotator'}, 'batteri': {'battery'}, 'silver': {'silver'}, 'mirror': {'mirror'}, 'ladi': {'ladies'}, 'gentlemen': {'gentlemen'}, 'bathroom': {'bathroom'}, 'toilet': {'toilet'}, 'holiday': {'holiday'}, 'basil': {'basil'}, 'set/10': {'set/10'}, 't-light': {'t-lights', 't-light'}, 'snowmen': {'snowmen'}, 'santa': {'santas', 'santa'}, 'spong': {'sponge'}, 'appl': {'apple', 'apples'}, 'pirat': {'pirate'}, 'treasur': {'treasure'}, 'chest': {'chests', 'chest'}, 'snowflak': {'snowflakes', 'snowflake'}, 'oval': {'oval'}, 'cigar': {'cigar'}, 'match': {'matches'}, 'hour': {'hour'}, 'giant': {'giant'}, 'tube': {'tube'}, 'jazz': {'jazz'}, 'notebook': {'notebooks', 'notebook'}, 'candlehold': {'candleholder'}, 'candlestick': {'candlestick'}, 'baroquecandlestick': {'baroquecandlestick'}, 'flannel': {'flannel'}, 'style': {'style'}, 'footbal': {'football'}, 'celebr': {'celebration'}, 'girl': {'girl', 'girls'}, 'blue': {'blues', 'blue'}, 'invit': {'invites'}, 'butterfli': {'butterfly', 'butterflies'}, 'cooki': {'cookie'}, 'cutter': {'cutter', 'cutters'}, 'sweetheart': {'sweetheart'}, 'car': {'car', 'cars'}, 'trelli': {'trellis'}, 'set/5': {'set/5'}, 'slate': {'slate'}, 'bake': {'baking', 'bake'}, 'pencil': {'pencil', 'pencils'}, 'harmonica': {'harmonica'}, 'transfer': {'transfer'}, 'tattoo': {'tattoos'}, 'panneton': {'pannetone'}, 'kid': {'kids'}, 'pen': {'pen', 'pens'}, 'rectangl': {'rectangle'}, 'face': {'face'}, 'wrap': {'wrap'}, 'cowboy': {'cowboy', 'cowboys'}, 'doili': {'doilies'}, 'cat': {'cat', 'cats'}, 'eras': {'erasers', 'eraser'}, 'angel': {'angel', 'angels'}, 'hldr': {'hldr'}, 'reel': {'reel'}, 'spin': {'spinning'}, 'top': {'tops', 'top'}, 'marbl': {'marbles'}, 'strand': {'strand'}, 'necklac': {'necklace', 'necklac'}, 'crystal': {'crystal', 'crystals'}, 'squarecushion': {'squarecushion'}, 'children': {'children', 'childrens'}, 'candelabra': {'candelabra'}, 'luggag': {'luggage'}, 'tag': {'tag', 'tags'}, 'tassl': {'tassle'}, 'charm': {'charm', 'charms'}, 'acryl': {'acrylic'}, 'bangl': {'bangle'}, 'gun': {'guns'}, 'rose': {'roses'}, 'vanilla': {'vanilla'}, 'scent': {'scent'}, 'bell': {'bell', 'belle', 'bells'}, 'stand': {'stand', 'standing'}, 'filigre': {'filigree'}, 'pattern': {'patterns', 'pattern'}, 'sticker': {'sticker', 'stickers'}, \"b'fli\": {\"b'fly\"}, 'c/cover': {'c/cover'}, 'w': {'w'}, 'bobbl': {'bobbles'}, 'boom': {'boom'}, 'speaker': {'speaker'}, 'dress': {'dress'}, 'shopper': {'shopper'}, 'fruit': {'fruit', 'fruits'}, 'parcel': {'parcel'}, 'slipper': {'slipper'}, 'shoe': {'shoes', 'shoe'}, 'daisi': {'daisy', 'daisies'}, 'peg': {'peg', 'pegs'}, 'craft': {'craft'}, 'tree': {'trees', 'tree'}, 'friend': {'friends'}, 'rosi': {'rosie'}, 'olivia': {'olivia'}, 'rex': {'rex'}, 'cash+carri': {'cash+carry'}, 'tote': {'tote'}, 'pinkwhit': {'pinkwhite'}, 'red/whit': {'red/white'}, 'valentin': {'valentine'}, 'decoupag': {'decoupage'}, 'sock': {'sock', 'socks'}, 'baubl': {'bauble', 'baubles'}, 'villag': {'village'}, 'turquois': {'turquoise'}, 'wreath': {'wreath'}, 'advent': {'advent'}, 'calendar': {'calendar'}, 'gingham': {'gingham'}, 'sack': {'sack'}, 'snap': {'snap'}, 'drawerknob': {'drawerknob'}, 'apron': {'apron'}, 'mushroom': {'mushroom', 'mushrooms'}, 'chalk': {'chalk'}, 'hairband': {'hairbands', 'hairband'}, 'purpl': {'purple'}, 'anim': {'animals', 'animal'}, 'fair': {'fair'}, 'cupcak': {'cupcakes', 'cupcake'}, 'lace': {'lace'}, 'catch': {'catch'}, 'cotton': {'cotton'}, 'beach': {'beach'}, 'spade': {'spade'}, 'boy': {'boys', 'boy'}, 'king': {'king', 'kings'}, 'choic': {'choice'}, 'caddi': {'caddy'}, 'biscuit': {'biscuit', 'biscuits'}, 'empir': {'empire'}, 'fawn': {'fawn'}, 'gift': {'gift'}, 'namast': {'namaste'}, 'swagat': {'swagat'}, 'vase': {'vase'}, 'chrysanthemum': {'chrysanthemums', 'chrysanthemum'}, 'scissor': {'scissor'}, 'tealight': {'tealight'}, 'place': {'place'}, 's/15': {'s/15'}, 'wc': {'wc'}, 'soap': {'soap'}, 'medium': {'medium'}, 'washroom': {'washroom'}, 'bracelet': {'bracelet'}, 'hair': {'hair'}, 'grip': {'grip'}, 'pack/2': {'pack/2'}, 'dia': {'dia'}, 'diamant': {'diamante'}, 'ring': {'ring', 'rings'}, 'rubi': {'ruby'}, 'montana': {'montana'}, 'present': {'present', 'presents'}, 'aid': {'aid'}, 'monsoon': {'monsoon'}, 'rubber': {'rubbers', 'rubber'}, 'stationeri': {'stationery'}, 'mitten': {'mittens'}, 'scandinavian': {'scandinavian'}, 'canva': {'canvas'}, 'stamp': {'stamps', 'stamp'}, 'cinammon': {'cinammon'}, 'stripe': {'stripes', 'stripe'}, 'provenc': {'provence'}, 'flock': {'flock'}, 'offic': {'office'}, 'record': {'record'}, 'size': {'sizes', 'size'}, 'hors': {'horse'}, 'regenc': {'regency'}, 'cakestand': {'cakestand'}, 'tier': {'tier'}, 'longboard': {'longboard'}, 'play': {'playing'}, 'shirt': {'shirt'}, 'repair': {'repair'}, 'foxi': {'foxy'}, 'gent': {'gents'}, 'jet': {'jet'}, \"'n\": {\"'n\"}, 'grow': {'grow'}, 'world': {'world'}, 'champion': {'champion'}, 'seed': {'seed'}, 'envelop': {'envelope', 'envelopes'}, 'hi': {'hi'}, 'polyest': {'polyester'}, 'filler': {'filler'}, 'pad': {'pad', 'pads'}, 'scarf': {'scarf'}, 'pear': {'pears'}, 'gazebo': {'gazebo'}, 'birdhous': {'birdhouse'}, 'antiqu': {'antique'}, 'market': {'market'}, 'crate': {'crate', 'crates'}, 'bed': {'bed'}, 'pizza': {'pizza'}, 'leav': {'leaves'}, 'button': {'button', 'buttons'}, 'messag': {'message'}, 'herb': {'herbs', 'herb'}, 'marker': {'marker'}, 'mint': {'mint'}, 'rosemari': {'rosemary'}, 'chive': {'chives'}, 'parsley': {'parsley'}, 'thyme': {'thyme'}, 'merri': {'merry'}, 'foil': {'foil'}, 'handbag': {'handbag'}, 'easter': {'easter'}, 'cut': {'cut'}, 'season': {'season'}, 'toast': {'toast'}, 'path': {'path'}, 'journal': {'journal'}, 'squeezer': {'squeezer'}, 'glove': {'glove', 'gloves'}, 'licoric': {'licorice'}, 'des': {'des'}, 'roll': {'roll'}, 'multicolour': {'multicolour'}, 'confetti': {'confetti'}, 'morri': {'morris'}, 'pistachio': {'pistachio'}, 'honeycomb': {'honeycomb'}, 'english': {'english'}, 'level': {'level'}, 'platter': {'platter'}, 'teacup': {'teacup'}, 'slice': {'slice'}, 'fun': {'fun'}, 'ass': {'ass'}, 'col': {'col'}, 'sand': {'sand'}, 'gecko': {'gecko'}, \"p'weight\": {\"p'weight\"}, 'postcard': {'postcard'}, 'spring': {'spring'}, 'chateau': {'chateau'}, 'scale': {'scales'}, 'lizard': {'lizard'}, 'suction': {'suction'}, 'engine/car': {'engine/car'}, 'patch': {'patch', 'patches'}, 'psychedel': {'psychedelic'}, 'flowerpow': {'flowerpower'}, 'life': {'life'}, 'rounder': {'rounders'}, 'child': {'childs'}, 'taper': {'taper'}, 'confectioneri': {'confectionery'}, 'stopper': {'stopper'}, 'set/4': {'set/4'}, 'junk': {'junk'}, 'mail': {'mail'}, 'tile': {'tile'}, 'finger': {'finger'}, 'beurr': {'beurre'}, 'dish': {'dish'}, 'diet': {'diet'}, 'screen': {'screen'}, 'print': {'print'}, 'peac': {'peace'}, 'earth': {'earth'}, 'cocktail': {'cocktail'}, 'strongman': {'strongman'}, 'school': {'school'}, 'crayon': {'crayons'}, 'booz': {'booze'}, 'women': {'women'}, 'lad': {'lads'}, 'man': {'man'}, 'heat': {'heat'}, 'person': {'person'}, 'shape': {'shapes', 'shape'}, 'pan': {'pan'}, 'bendi': {'bendy'}, 'straw': {'straws'}, 'pantri': {'pantry'}, 'sketchbook': {'sketchbook'}, 'sing': {'singing'}, 'emerg': {'emergency'}, 'friez': {'frieze'}, 'door': {'doors', 'door'}, 'joy': {'joy'}, 'black+silv': {'black+silver'}, 'regal': {'regal'}, 'candlepot': {'candlepot'}, 'swirlglass': {'swirlglass'}, 'pedest': {'pedestal'}, 'magazin': {'magazine'}, 'food': {'food'}, 'raffia': {'raffia'}, 'polka': {'polka'}, 'jardin': {'jardin'}, 'bunt': {'bunting'}, 'kashmir': {'kashmir'}, 'chocolatecandl': {'chocolatecandle'}, 'shelf': {'shelf'}, 'imag': {'images', 'image'}, 'day': {'day', 'days'}, 'jewelleri': {'jewellery'}, 'let': {'lets'}, 'camouflag': {'camouflage'}, 'torch': {'torch'}, 'dragonfli': {'dragonfly'}, 'helicopt': {'helicopter'}, 'shark': {'shark'}, 'doctor': {'doctor'}, 'carriag': {'carriage'}, 'salt': {'salt', 'salts'}, 'pepper': {'pepper'}, 'porcelain': {'porcelain'}, 'star+': {'star+'}, 'moon': {'moon'}, 'fring': {'fringe'}, 'hammock': {'hammock'}, 'dec': {'dec'}, 'crossbon': {'crossbones'}, 'fabric': {'fabric'}, 'poni': {'ponies', 'pony'}, 'cordon': {'cordon'}, 'barrier': {'barrier'}, 'teddi': {'teddy'}, 'air': {'air'}, 'hostess': {'hostess'}, 'stack': {'stacking', 'stack'}, 'hut': {'hut'}, 'blossom': {'blossom'}, 'passport': {'passport'}, 'retro': {'retro'}, 'mod': {'mod'}, 'cardhold': {'cardholder'}, 'book': {'book', 'books'}, 'spiral': {'spiral'}, 'coal': {'coal'}, 'airmail': {'airmail'}, 'number': {'number'}, 'smiley': {'smiley'}, 'collag': {'collage'}, 'childhood': {'childhood'}, 'memori': {'memory', 'memories'}, 'funk': {'funk'}, 'monkey': {'monkey'}, 'choc+blu': {'choc+blue'}, 'glitter': {'glitter'}, 'b': {'b'}, 'c': {'c'}, 'chees': {'cheese'}, 'geisha': {'geisha'}, 'newspap': {'newspaper'}, 'scandispot': {'scandispot'}, 'jingl': {'jingle'}, 'key': {'keys', 'key'}, 'instrument': {'instrument'}, 'crown': {'crowns'}, 'chalet': {'chalet'}, 'motorbik': {'motorbike'}, 'medicin': {'medicine'}, 'ma': {'ma'}, 'campagn': {'campagne'}, 'yuletid': {'yuletide'}, 'shade': {'shade'}, 'base': {'base'}, 'folkart': {'folkart'}, 'smallfolkart': {'smallfolkart'}, 'glass+zinc': {'glass+zinc'}, 'set/3': {'set/3'}, 'eucalyptus': {'eucalyptus'}, 'pinecon': {'pinecone'}, 's/4': {'s/4'}, 'cacti': {'cacti'}, 'marshmallow': {'marshmallow', 'marshmallows'}, 'mum': {'mum'}, 'indian': {'indians'}, 'fuschia': {'fuschia'}, 'brocad': {'brocade'}, 'swallow': {'swallows'}, 'm': {'m'}, 'v': {'v'}, 's': {'s'}, 'j': {'j'}, 'bingo': {'bingo'}, 'floor': {'floor'}, 'fauna': {'fauna'}, 'ear': {'ear'}, 'muff': {'muff'}, 'headphon': {'headphones'}, 'tutti': {'tutti'}, 'frutti': {'frutti'}, 'brush': {'brush'}, 'ladybird': {'ladybird'}, 'bee': {'bee'}, 'bamboo': {'bamboo'}, 'rib': {'ribs'}, 'lampshad': {'lampshade'}, 'badg': {'badges'}, 'creatur': {'creatures'}, 'pocket': {'pocket'}, 'brocant': {'brocante'}, 'maria': {'maria'}, 'memo': {'memo'}, 'room': {'room'}, 'sall': {'salle'}, 'bain': {'bain'}, 'robot': {'robot'}, 'war': {'war'}, 'glider': {'gliders'}, 'coathang': {'coathanger'}, 'bomb': {'bomb'}, 'pump': {'pump'}, 'stencil': {'stencil'}, 'cute': {'cute'}, 'toothpast': {'toothpaste'}, 'purdey': {'purdey'}, 'account': {'account'}, 'penni': {'penny'}, 'pig': {'pig'}, 'loveheart': {'loveheart'}, 'en': {'en'}, 'pin': {'pin'}, 'area': {'area'}, 'portrait': {'portrait', 'portraits'}, 'plastic': {'plastic'}, 'eleph': {'elephant'}, 'rainbow': {'rainbow'}, 'model': {'modelling'}, 'clay': {'clay'}, 'disc': {'disc'}, 'sugar': {'sugar'}, 'teapot': {'teapot'}, 'dairi': {'dairy'}, 'maid': {'maid', 'maids'}, 'pud': {'puddings', 'pudding'}, 'contain': {'container'}, 'moodi': {'moody'}, 'hen': {'hen'}, 'wish': {'wishes'}, 'thank': {'thank'}, 'planter': {'planters', 'planter'}, 'stripey': {'stripey'}, 'dragon': {'dragon', 'dragons'}, 'ruler': {'ruler'}, 'digitali': {'digitalis'}, 'post': {'post', 'poste'}, 'milkshak': {'milkshake'}, 'babi': {'baby'}, 'chart': {'chart'}, 'figur': {'figures'}, 'shine': {'shine'}, 'armi': {'army'}, 'camo': {'camo'}, 'bookcov': {'bookcover'}, 'carrot': {'carrot'}, 'chick': {'chick', 'chicks'}, 'chunki': {'chunky'}, 'tassel': {'tassel'}, 'glass+bead': {'glass+bead'}, 'livingroom': {'livingroom'}, 'posi': {'posies', 'posy'}, 'vine': {'vine'}, 'food/drink': {'food/drink'}, 'lilac': {'lilac'}, 'juici': {'juicy'}, 'creepi': {'creepy'}, 'crawli': {'crawlie', 'crawlies'}, 'memoboard': {'memoboard'}, 'wash': {'wash'}, 'cafe': {'cafe'}, 'bow': {'bows', 'bow'}, 'brooch': {'brooch'}, 'amethyst': {'amethyst'}, 'pair': {'pair'}, 'hairclip': {'hairclips', 'hairclip'}, 'gemston': {'gemstone'}, 'drop': {'drop'}, 'earring': {'earrings'}, 'hoop': {'hoop'}, 'leaf': {'leaf'}, 'clam': {'clam'}, 'shell': {'shells', 'shell'}, 'cockl': {'cockle'}, 'fob': {'fob'}, 'garag': {'garage'}, 'chopstick': {'chopsticks'}, 'frog': {'frog'}, 'puppet': {'puppet'}, 'wine': {'wine'}, 'candlestand': {'candlestand'}, 'gaoler': {'gaolers'}, 'champagn': {'champagne'}, 'curio': {'curio'}, 'fan': {'fan'}, 'charg': {'charge', 'charges'}, 'butter': {'butter'}, 'farm': {'farm'}, 'snowstorm': {'snowstorm'}, 'tinsel': {'tinsel'}, 'space': {'space'}, 'cadet': {'cadet'}, 'monster': {'monster', 'monsters'}, 'citronella': {'citronella'}, 'folk': {'folk'}, 'burst': {'burst'}, 'fanni': {'fanny'}, 'rest': {'rest'}, 'stopmet': {'stopmetal'}, 'way': {'way'}, 'corona': {'corona'}, 'weekend': {'weekend'}, 'fish': {'fishing'}, 'gnome': {'gnome'}, 'coland': {'colander'}, 'blue/cream': {'blue/cream'}, 'strawberi': {'strawbery'}, 'shop': {'shop', 'shopping'}, 'washbag': {'washbag'}, 'feng': {'feng'}, 'shui': {'shui'}, 'pillar': {'pillar'}, 'novelti': {'novelty'}, 'toastrack': {'toastrack'}, 'rustic': {'rustic'}, 'bead': {'bead', 'beads'}, 'croquet': {'croquet'}, 'choc': {'choc'}, 'truffl': {'truffle'}, 'cabin': {'cabin'}, 'knit': {'knitting'}, 'nanci': {'nancy'}, 'throw': {'throw'}, 'lush': {'lush'}, 'necklace+bracelet': {'necklace+bracelet'}, 'salad': {'salad'}, 'check': {'check'}, 'ludo': {'ludo'}, 'la': {'la'}, 'palmiera': {'palmiera'}, 'display': {'display'}, 'pack/12': {'pack/12'}, 'secateur': {'secateurs'}, 'lei': {'leis'}, 'camphor': {'camphor'}, 'field': {'field', 'fields'}, 'portobello': {'portobello'}, 'fairy,5': {'fairy,5'}, 'summer': {'summer'}, \"b'draw\": {\"b'draw\"}, 'liner': {'liners'}, 'blue/yellow': {'blue/yellow'}, 'green/blu': {'green/blue'}, 'yellow/pink': {'yellow/pink'}, 'a5': {'a5'}, 'neighbourhood': {'neighbourhood'}, 'witch': {'witch'}, 'pharmaci': {'pharmacie'}, 'naughti': {'naughty'}, 'sound': {'sound'}, 'hello': {'hello'}, 'sailor': {'sailor'}, 'bewar': {'beware'}, 'cinnamon': {'cinnamon'}, 'jasmin': {'jasmine'}, 'bone': {'bone'}, 'circl': {'circle', 'circles'}, 'midnight': {'midnight'}, 'glamour': {'glamour'}, 'frappucino': {'frappucino'}, 'phone': {'phone'}, 'blue/green': {'blue/green'}, 'pendant': {'pendant'}, 'spirit': {'spirit'}, 'skirt': {'skirt'}, 'mous': {'mouse'}, 't-shirt': {'t-shirt'}, 'jewel': {'jeweled', 'jewel', 'jewelled'}, 'nurs': {'nurse'}, 'melamin': {'melamine'}, 'wool': {'wool'}, 'peacock': {'peacock'}, 'footprint': {'footprints'}, 'album': {'album'}, 'gardenia': {'gardenia'}, 'multi': {'multi'}, 'mousey': {'mousey'}, 'laundri': {'laundry'}, 'cactus': {'cactus'}, 'cockerel': {'cockerel'}, 'bouquet': {'bouquet'}, 'danish': {'danish'}, 'cast': {'cast'}, 'iron': {'iron'}, 'fork': {'fork'}, 'trowel': {'trowel'}, 'pearl': {'pearls', 'pearl'}, 'lime': {'lime'}, 'boudicca': {'boudicca'}, 'pennant': {'pennant'}, 'label': {'labels'}, 'ream': {'ream'}, 'pop': {'pop'}, 'poncho': {'poncho'}, 'flask': {'flask'}, 'keyr': {'keyrings', 'keyring'}, 'chair': {'chair'}, 'petit': {'petit'}, 'dream': {'dreams', 'dream'}, 'windsock': {'windsock'}, 'microwav': {'microwave'}, 'delight': {'delight'}, 'organis': {'organiser'}, 'leap': {'leap'}, 'silicon': {'silicon'}, 'bulb': {'bulb'}, 'seat': {'seat'}, 'madra': {'madras'}, 'feather': {'feather', 'feathers'}, 'sandalwood': {'sandalwood'}, 'rocket': {'rocket'}, 'sombrero': {'sombrero'}, 'bitti': {'bitty'}, 'stone': {'stone', 'stones'}, 'glow': {'glowing', 'glow'}, 'tiara': {'tiaras'}, 'robin': {'robin'}, 'kensington': {'kensington'}, 'set/12': {'set/12'}, 'mobil': {'mobile'}, 's/12': {'s/12'}, 'bib': {'bib'}, 'teatim': {'teatime'}, 'flu': {'flu'}, 'embroideri': {'embroidery'}, 'ashtray': {'ashtray'}, 'shower': {'shower'}, 'cap': {'cap'}, 'queen': {'queen', 'queens'}, 'sky': {'skies', 'sky'}, 'economi': {'economy'}, 'oil': {'oil', 'oils'}, 'burner': {'burner'}, 'notelet': {'notelets'}, 'deco': {'deco'}, 'w/knif': {'w/knif'}, 'deco.whit': {'deco.white'}, 'sage': {'sage'}, 'flowerpot': {'flowerpot'}, 'paperweight': {'paperweight'}, 'carry-al': {'carry-all'}, 'balm': {'balm'}, 'tumbler': {'tumbler'}, 'brown': {'brown'}, 'travelogu': {'travelogue'}, 'pink/whit': {'pink/white'}, 'clean': {'clean'}, 'bullet': {'bullet'}, 'puppi': {'puppies'}, 'sunris': {'sunrise'}, 'carousel': {'carousel'}, 'sunglass': {'sunglasses'}, 'blackchristma': {'blackchristmas'}, 'sweeti': {'sweeties'}, 'wireless': {'wireless'}, 'doorbel': {'doorbell'}, 'lattic': {'lattice'}, 'neckl': {'neckl'}, 'bronz': {'bronze'}, 'smokey': {'smokey'}, 'd.o.f': {'d.o.f'}, 'pouri': {'pouri'}, 'windmil': {'windmill'}, 'pale': {'pale'}, 'bea': {'bea'}, 'mao': {'mao'}, 'goos': {'goose'}, 'bear': {'bear'}, 'du': {'du'}, 'cosmet': {'cosmetics'}, 'flytrap': {'flytrap'}, 'sunflow': {'sunflower'}, 'butterfl': {'butterfl'}, 'pouff': {'pouffe'}, 'regatta': {'regatta'}, 'budah': {'budah'}, 'wise': {'wise'}, 'potion': {'potion'}, 'masala': {'masala'}, 'favourit': {'favourites'}, 'banquet': {'banquet'}, 'xmas': {'xmas'}, 'nut': {'nut', 'nuts'}, 'basin': {'basin'}, 'eau': {'eau'}, 'tigri': {'tigris'}, 'eye': {'eye'}, 'vinyl': {'vinyl'}, 'las': {'las'}, 'vega': {'vegas'}, 'mould': {'mould', 'moulds'}, 'voil': {'voile'}, 'pointi': {'pointy'}, 'k': {'k'}, 'address': {'address'}, 'stool': {'stool'}, 'photofram': {'photoframe'}, 'jungl': {'jungle'}, 'popsicl': {'popsicles'}, 'twine': {'twine'}, 'rnd': {'rnd'}, 'str': {'str'}, 'strap': {'strap'}, 'beauti': {'beauty'}, 'cd': {'cd'}, 'gebra': {'gebra'}, 'shutter': {'shutters'}, 'seafood': {'seafood'}, 'compact': {'compact'}, 'magic': {'magic'}, 'octagon': {'octagon'}, 'diva': {'diva'}, 'chime': {'chime'}, 'neckl.36': {'neckl.36'}, 'fold': {'folding'}, 'edg': {'edge'}, 'forti': {'forties'}, 'blood': {'blood'}, 'coney': {'coney'}, 'island': {'island'}, 'pompom': {'pompom'}, 'curtain': {'curtain'}, 'grass': {'grass'}, 'mix': {'mixing'}, 'rosett': {'rosette'}, 'welcom': {'welcome'}, 'class': {'class'}, 'plaqu': {'plaque'}, 'popart': {'popart'}, 'rect': {'rect'}, 'sharpen': {'sharpener', 'sharpeners'}, 'asst': {'asst'}, 'tortilla': {'tortilla'}, 'w/sucker': {'w/sucker'}, 'origami': {'origami'}, 'incense/candl': {'incense/candle', 'incense/candl'}, 'opium': {'opium'}, 'sandlewood': {'sandlewood'}, 'incense/cand': {'incense/cand'}, 'rococo': {'rococo'}, 'sprig': {'sprig'}, 'cage': {'cage'}, 'strawbri': {'strawbry'}, 'mosaic': {'mosaic'}, 'goblet': {'goblet'}, 'highlight': {'highlighter'}, 'kitten': {'kittens'}, 'silver/amethyst': {'silver/amethyst'}, 'slide': {'slide', 'slides'}, 'cartoon': {'cartoon'}, 'vip': {'vip'}, 'doc': {'doc'}, 'russel': {'russel'}, 'dad': {'dads', 'dad'}, 'scroll': {'scroll'}, 'marmalad': {'marmalade'}, 'garld': {'garld'}, 'neckl36': {'neckl36'}, 'copper': {'copper'}, 'turq': {'turq'}, 'sunda': {'sundae'}, 'droplet': {'droplet'}, 'murano': {'murano'}, 'twist': {'twist'}, 'race': {'racing'}, 'silouett': {'silouette'}, 'demi': {'demi'}, 'choker': {'choker'}, 'orbit': {'orbit'}, 'pastel': {'pastel'}, 'flow': {'flowe'}, 'beaten': {'beaten'}, 'charger': {'charger'}, 'aperitif': {'aperitif'}, 'spice': {'spice'}, 'cannist': {'cannister'}, 'berti': {'bertie'}, 'steel': {'steel'}, 'mr': {'mr'}, 'vippassport': {'vippassport'}, 'asstd': {'asstd'}, 'butterfly/cryst': {'butterfly/crystal'}, 'w/chime': {'w/chime'}, 'screwdriv': {'screwdriver'}, 'spacebal': {'spaceball'}, 'mrs': {'mrs'}, 'princ': {'prince'}, 'chalic': {'chalice'}, 'blackboard': {'blackboard'}, 'ice': {'ice'}, 'bum': {'bum'}, 'roccoco': {'roccoco'}, 'chandeli': {'chandelier'}, 'fli': {'fly'}, 'swat': {'swat'}, 'sheep': {'sheep'}, 'fruitbowl': {'fruitbowl'}, 'freshwat': {'freshwater'}, 'pink/amethyst': {'pink/amethyst'}, 'teal/fuschia': {'teal/fuschia'}, 'botan': {'botanical'}, 'groovi': {'groovy'}, 'fruit+flow': {'fruit+flowers'}, 'blackblu': {'blackblue'}, 'bus': {'bus'}, 'enamel+glass': {'enamel+glass'}, 'comb': {'comb'}, 'diamond': {'diamond'}, 'incense+flow': {'incense+flower'}, 'fluffi': {'fluffy'}, 'desk': {'desk'}, 'mock': {'mock'}, 'lobster': {'lobster'}, 'diamon': {'diamon'}, 'raspberr': {'raspberr'}, 'lazer': {'lazer'}, 'amber': {'amber'}, 'band': {'band'}, 'delphinium': {'delphinium'}, 'white/pink': {'white/pink'}, 'toybox': {'toybox'}, 'banner': {'banner'}, 'm.o.p': {'m.o.p'}, 'cannabi': {'cannabis'}, 'd': {'d'}, 'dark': {'dark'}, 'dolphin': {'dolphin', 'dolphins'}, 'wheelbarrow': {'wheelbarrow'}, 'rake': {'rake'}, 'frangipani': {'frangipani'}, 'rosebud': {'rosebud'}, 'chenill': {'chenille'}, 'box/12': {'box/12'}, 'ladl': {'ladle'}, 'wed': {'wedding'}, 'briar': {'briar'}, 'poodl': {'poodle'}, 'pink/flow': {'pink/flower'}, 'wast': {'waste'}, 'carpet': {'carpet'}, 'flamingo': {'flamingo'}, 'bar': {'bar'}, 'condiment': {'condiment'}, 'hilda': {'hilda'}, 'congratul': {'congratulations'}, 'icon': {'icon'}, 'elvi': {'elvis'}, 'drawstr': {'drawstring'}, 'hare': {'hare'}, 'gordon': {'gordon'}, 'pool': {'pool'}, 'sister': {'sisters'}, 'citrus': {'citrus'}, 'beetl': {'beetles'}, 'crystal+glass': {'crystal+glass'}, 'resin': {'resin'}, 'ridg': {'ridge'}, 'cruso': {'crusoe'}, 'veget': {'vegetables'}, 'flore': {'flore'}, 'doiley': {'doiley'}, 'multicol': {'multicol'}, 'blond': {'blond'}, 'glass/silv': {'glass/silver'}, 'hunt': {'hunt'}, 'start': {'start'}, 'rasta': {'rasta'}, 'key-chain': {'key-chains'}, 'back': {'back'}, 'hen+chick': {'hen+chicks'}, 'petal': {'petals'}, 'candystuft': {'candystuft'}, 'st': {'st'}, 'georg': {'george'}, 'savannah': {'savannah'}, 'hamper': {'hamper'}, 'barn': {'barn'}, 'red/cream': {'red/cream'}, 'r': {'r'}, 'sued': {'suede'}, 'oyster': {'oyster'}, 'flame': {'flames', 'flame'}, 'lens': {'lenses'}, 'support': {'support'}, 'g': {'g'}, 'ceram': {'ceramic'}, 'rectangular': {'rectangular'}, 'unit': {'unit'}, 'ivi': {'ivy'}, 's/2': {'s/2'}, 'list': {'list'}, 'cutglass': {'cutglass'}, 'gold/m.o.p': {'gold/m.o.p'}, 'silver/m.o.p': {'silver/m.o.p'}, 'roman': {'roman'}, 'peach': {'peach'}, 'bazaar': {'bazaar'}, 'tranquil': {'tranquility'}, 'gauz': {'gauze'}, 'radio': {'radio'}, 'buddha': {'buddha'}, 'pet': {'pet'}, 'revolutionari': {'revolutionary'}, 'tie': {'tie'}, 'jade': {'jade'}, 'cluster': {'cluster'}, 'sea': {'sea'}, 'windchim': {'windchime'}, 'pom-pom': {'pom-pom'}, 'vint': {'vint'}, 'blue/nat': {'blue/nat'}, 'silver/nat': {'silver/nat'}, 'hopper': {'hopper'}, 'pole': {'pole'}, 'mont': {'monte'}, 'carlo': {'carlo'}, 'wallet': {'wallet'}, 'meadow': {'meadow'}, 'transport': {'transport'}, 'calm': {'calm'}, 'giraff': {'giraffe'}, 'revolv': {'revolver'}, 'pill': {'pill'}, 'ticket': {'ticket'}, 'dotcomgiftshop': {'dotcomgiftshop'}, 'raspberri': {'raspberry'}, 'berri': {'berries'}, 'scallop': {'scallop'}, 'bling': {'bling'}, 'riviera': {'riviera'}, 'heaven': {'heavens'}, 'fragranc': {'fragrance'}, 'anemon': {'anemone'}, 'allium': {'allium'}, 'artifici': {'artificial'}, 'buffalo': {'buffalo'}, 'bill': {'bill'}, 'pastri': {'pastry'}, 'dollcraft': {'dollcraft'}, 'nicol': {'nicole'}, 'mother': {'mother'}, 'corer': {'corer'}, 'tripl': {'triple'}, 'acapulco': {'acapulco'}, 'mat': {'mat'}, 'live': {'lives'}, 'jean-paul': {'jean-paul'}, 'bull': {'bull'}, 'open': {'opener'}, 'guitar': {'guitar'}, 'ol': {'ol'}, 'p': {'p'}, 'splodg': {'splodges'}, 'purple/turq': {'purple/turq'}, 'hole': {'hole'}, 'punch': {'punch'}, 'bonbon': {'bonbons'}, 'ameli': {'amelie'}, 'gem': {'gems'}, 'geometr': {'geometric'}, 'lt.blue': {'lt.blue'}, 'sanskrit': {'sanskrit'}, '/': {'/'}, 'turquoi': {'turquois'}, 'kukui': {'kukui'}, 'coconut': {'coconut'}, 'lip': {'lip'}, 'gloss': {'gloss'}, 'red/blu': {'red/blue'}, 'flower/butterfli': {'flower/butterfly'}, 'mummi': {'mummy'}, 'cupboard': {'cupboard'}, 'hibiscus': {'hibiscus'}, 'nativ': {'nativity'}, 'silver/black': {'silver/black'}, 'goldi': {'goldie'}, 'hurrican': {'hurricane'}, 'backpack': {'backpack'}, 'mop': {'mop'}, 'yellow/orang': {'yellow/orange'}, 'hardman': {'hardman'}, 'tahiti': {'tahiti'}, 'aluminium': {'aluminium'}, 'parlour': {'parlour'}, 'barrel': {'barrel'}, 'mari': {'marie'}, 'antoienett': {'antoienett'}, 'miniatur': {'miniature'}, 'gel': {'gel'}, 'cote': {'cote'}, \"d'azur\": {\"d'azure\"}, 'tropez': {'tropez'}, 'tone': {'tone'}, 'page': {'page'}, 'run': {'run'}, 'laser': {'laser'}, 'tong': {'tongs'}, 'come': {'come'}, 'strainer': {'strainer'}, 'zinc/glass': {'zinc/glass'}, 'point': {'point'}, 'snow': {'snow'}, 'cinderella': {'cinderella'}, 'minitur': {'miniture'}, 'antoinett': {'antoinette'}, 'l': {'l'}, 'sequin': {'sequin'}, 'spliff': {'spliff'}, 'bundl': {'bundle'}, 'exercis': {'exercise'}, 'note': {'note'}, 'suppli': {'supplies'}, 'parisienn': {'parisienne'}, 'chic': {'chic'}, 'secret': {'secret'}, 'bedsid': {'bedside'}, 'dispens': {'dispenser'}, 'bon': {'bon'}, 'montan': {'montan'}, 'gerden': {'gerden'}, 'housework': {'housework'}, 'y': {'y'}, 'peoni': {'peony'}, 'stiletto': {'stiletto'}, 'flowr': {'flowr'}, 'capiz': {'capiz'}, 'quartz': {'quartz'}, 'braclet': {'braclet'}, 'lt': {'lt'}, 'laurel': {'laurel'}, 'rock': {'rocking'}, 'olli': {'ollie'}, 'beak': {'beak'}, 'ghost': {'ghost'}, 'disc/mirror': {'disc/mirror'}, 'willi': {'willie'}, 'icicl': {'icicle'}, 'push': {'push'}, 'e': {'e'}, 'knack': {'knack'}, 'gymkhana': {'gymkhana'}, 'hold': {'hold'}, 'bubblegum': {'bubblegum'}, 'h': {'h'}, 'sleigh': {'sleigh'}, 'trim': {'trim'}, 'mid': {'mid'}, 'spike': {'spike'}, 'meter': {'meter'}, 'donkey': {'donkey'}, 'perfum': {'perfume'}, 'elixir': {'elixir'}, 'songbird': {'songbird'}, 'crackl': {'crackle'}, 'glaze': {'glaze'}, 'tonic': {'tonic'}, 'doorknob': {'doorknob'}, 'bonn': {'bonne'}, 'sword': {'swords'}, 'dispos': {'disposable'}, 'handl': {'handle'}, 'hexagon': {'hexagon'}, 'notepad': {'notepad'}, 'refectori': {'refectory'}, 'reto': {'reto'}, 'madelin': {'madeline'}, 'mark': {'mark'}, 'hens+flow': {'hens+flower'}, 'sucker': {'sucker'}, 'cracker': {'cracker', 'crackers'}, 'brass': {'brass'}, 'hairslid': {'hairslide'}, 'loaf': {'loaf'}, 'w/suck': {'w/suck'}, 'tablecloth': {'tablecloth'}, 'bili': {'bili'}, 'poster': {'poster'}, 'park': {'park'}, 'ceatur': {'ceature'}, 'forest': {'forest'}, 'branch': {'branch'}, 'pink/blu': {'pink/blue'}, 'frill': {'frill'}, 'adult': {'adult'}, 'jampot': {'jampot'}, 'sex': {'sex'}, 'stuff': {'stuff'}, 'bubbl': {'bubbles'}, 'patchwork': {'patchwork'}, 'utensil': {'utensil'}, 'teddy/cak': {'teddy/cake'}, 'dotcom': {'dotcom'}, 'commiss': {'commission'}, 'franc': {'france'}, 'foot': {'foot'}, 'bonheur': {'bonheur'}, 'botaniqu': {'botanique'}, 'sweeet': {'sweeet'}, 'pant': {'pants'}, 'maker': {'makers'}, 'grinder': {'grinder'}, 'linen': {'linen'}, 'spatula': {'spatula'}, 'whisk': {'whisk'}, 'toilett': {'toilette'}, 'chambr': {'chambre'}, 'le': {'le'}, 'draw': {'draw'}, 'carri': {'carry'}, 'jubile': {'jubilee'}, 'rebecca': {'rebecca'}, 'rachel': {'rachel'}, 'susi': {'susie'}, 'rucksack': {'rucksack'}, 'peridot': {'peridot'}, 'sophi': {'sophie'}, 'clair': {'claire'}, 'blk/whit': {'blk/whit'}, 'villa': {'villa'}, 'dovecot': {'dovecote'}, 'bicycl': {'bicycle'}, 'saftey': {'saftey'}, 'stop': {'stop'}, 'licenc': {'licence'}, 'haven': {'haven'}, 'ahoy': {'ahoy'}, 'natur': {'nature'}, 'show': {'show'}, 'centuri': {'century'}, 'modern': {'modern'}, 'work': {'work'}, 'basebal': {'baseball'}, 'boot': {'boot'}, 'feed': {'feeding'}, 'station': {'station'}, 'safeti': {'safety'}, 'metr': {'metre'}, 'triobas': {'triobase'}, 'feeder': {'feeder'}, 'henrietta': {'henrietta'}, 'carrier': {'carrier'}, 'helga': {'helga'}, 'heidi': {'heidi'}, 'resolut': {'resolution'}, 'landmark': {'landmark'}, 'bridg': {'bridge'}, 'oxford': {'oxford'}, 'street': {'street'}, 'baker': {'baker'}, 'hill': {'hill'}, 'town': {'town'}, 'miror': {'miror'}, 'decrotivevintag': {'decrotivevintage'}, 'pick': {'pick'}, 'naught': {'naughts'}, 'cross': {'cross', 'crosses'}, 'blueberri': {'blueberry'}, 'fondant': {'fondant'}, 'chrome': {'chrome'}, \"sil't\": {\"sil't\"}, 'squ': {'squ'}, 'crome': {'crome'}, 'candle+incens': {'candle+incense'}, 'panetton': {'panettone'}, 'czech': {'czech'}, 'punctur': {'puncture'}, 'countri': {'country'}, 'f': {'f'}, 'o': {'o'}, 't': {'t'}, 'z': {'z'}, 'birdi': {'birdie'}} \n",
            " {'heart': 'heart', 'holder': 'holder', 'metal': 'metal', 'lantern': 'lantern', 'cream': 'cream', 'cupid': 'cupid', 'coat': 'coat', 'hanger': 'hanger', 'union': 'union', 'flag': 'flag', 'water': 'water', 'bottl': 'bottle', 'nest': 'nest', 'box': 'box', 'glass': 'glass', 'star': 'star', 'hand': 'hand', 'jack': 'jack', 'warmer': 'warmer', 'dot': 'dot', 'bird': 'bird', 'ornament': 'ornament', 'poppi': 'poppy', 'playhous': 'playhouse', 'bedroom': 'bedroom', 'kitchen': 'kitchen', 'feltcraft': 'feltcraft', 'princess': 'princess', 'charlott': 'charlotte', 'doll': 'doll', 'ivori': 'ivory', 'cosi': 'cosy', 'colour': 'colour', 'teaspoon': 'teaspoons', 'vintag': 'vintage', 'jigsaw': 'jigsaw', 'block': 'block', 'alphabet': 'alphabet', 'home': 'home', 'build': 'building', 'word': 'word', 'love': 'love', 'recip': 'recipe', 'england': 'england', 'jam': 'jam', 'jar': 'jar', 'rack': 'rack', 'pari': 'paris', 'fashion': 'fashion', 'bath': 'bath', 'alarm': 'alarm', 'clock': 'clock', 'bakelik': 'bakelike', 'pink': 'pink', 'green': 'green', 'panda': 'panda', 'bunni': 'bunny', 'sheet': 'sheet', 'tape': 'tape', 'globe': 'globe', 'head': 'head', 'tail': 'tail', 'game': 'game', 'set/2': 'set/2', 'retrospot': 'retrospot', 'tea': 'tea', 'towel': 'towel', 'round': 'round', 'snack': 'snack', 'woodland': 'woodland', 'spaceboy': 'spaceboy', 'lunch': 'lunch', 'i': 'i', 'london': 'london', 'circus': 'circus', 'bag': 'bag', 'design': 'design', 'toadstool': 'toadstool', 'night': 'night', 'light': 'light', 'seasid': 'seaside', 'puzzl': 'puzzles', 'mini': 'mini', 'parad': 'parade', 'paint': 'paint', 'postag': 'postage', 'paper': 'paper', 'chain': 'chain', 'christma': 'christmas', 'parasol': 'parasol', 'coffe': 'coffee', 'mug': 'mug', 'planet': 'planet', 'billboard': 'billboard', 'love/h': 'love/hate', 'wood': 'wood', 'drawer': 'drawer', 'cabinet': 'cabinet', 'finish': 'finish', 's/3': 's/3', 'pictur': 'picture', 'frame': 'frame', 'wooden': 'wooden', 'sympathi': 'sympathy', 'polkadot': 'polkadot', 'baroqu': 'baroque', 'charli': 'charlie', 'lola': 'lola', 'toy': 'toy', 'strawberri': 'strawberry', 'piec': 'piece', 'cutleri': 'cutlery', 'set': 'set', 'set/6': 'set/6', 'plate': 'plate', 'pack': 'pack', 'case': 'case', 'dinosaur': 'dinosaur', 'paisley': 'paisley', 'fairi': 'fairy', 'tomato': 'tomato', 'charlie+lola': 'charlie+lola', 'coaster': 'coaster', 'wastepap': 'wastepaper', 'bin': 'bin', 'flora': 'flora', 'doorsign': 'doorsign', 'storag': 'storage', 'suki': 'suki', 'make': 'making', 'pc': 'pc', 'tool': 'tool', 'airlin': 'airline', 'loung': 'lounge', 'sign': 'sign', 'spot': 'spot', 'knob': 'knob', 'photo': 'photo', 'clip': 'clip', 'line': 'line', 'felt': 'felt', 'egg': 'egg', 'chicken': 'chicken', 'bank': 'bank', 'shoulder': 'shoulder', 'cook': 'cook', 'gin': 'gin', '+': '+', 'breakfast': 'breakfast', 'cup': 'cup', 'saucer': 'saucer', 'flower': 'flower', 'time': 'time', 'rabbit': 'rabbit', 'zinc': 'zinc', 'winki': 'winkie', 'candl': 'candle', 'stick': 'stick', 'cherri': 'cherry', 'money': 'money', 'milk': 'milk', 'jug': 'jug', 'funki': 'funky', 'beaker': 'beaker', 'owl': 'owl', 'balloon': 'balloon', 'art': 'art', 'cloch': 'cloche', 'gumbal': 'gumball', 'monochrom': 'monochrome', 'doormat': 'doormat', 'fanci': 'fancy', 'sweet': 'sweet', 'discount': 'discount', 'snake': 'snake', 'ladder': 'ladder', 'chocol': 'chocolate', 'calcul': 'calculator', 'tidi': 'tidy', 'tabl': 'table', 'pot': 'pot', 'garden': 'garden', 'thermomet': 'thermometer', 'cake': 'cake', 'tin': 'tin', 'wicker': 'wicker', 'basket': 'basket', 'lid': 'lid', 'duck': 'duck', 'board': 'board', 'hang': 'hanging', 'medina': 'medina', 'chalkboard': 'chalkboard', 'lovebird': 'lovebird', 'birdcag': 'birdcage', 'plant': 'plant', 'card': 'card', 'enamel': 'enamel', 'fire': 'fire', 'bucket': 'bucket', 'bread': 'bread', 'ribbon': 'ribbon', 'wire': 'wire', 'chilli': 'chilli', 'garland': 'garland', 'butterfil': 'butterfiles', 'tale': 'tale', 'cottag': 'cottage', 'letter': 'letter', 'doorstop': 'doorstop', 'decor': 'decoration', 'magnet': 'magnet', 'fridg': 'fridge', 'homemad': 'homemade', 'enfant': 'enfants', 'caravan': 'caravan', 'hook': 'hook', 'reindeer': 'reindeer', 'cushion': 'cushion', 'cover': 'cover', 'gold': 'gold', 'umbrella': 'umbrella', 'black/blu': 'black/blue', 'diner': 'diner', 'wall': 'wall', 'measur': 'measure', 'spoon': 'spoon', 'keepsak': 'keepsake', 'disco': 'disco', 'ball': 'ball', 'popcorn': 'popcorn', 'set/20': 'set/20', 'napkin': 'napkins', 'rain': 'rain', 'hat': 'hat', 'delux': 'deluxe', 'kit': 'kit', 'cube': 'cube', 'plaster': 'plasters', 'tissu': 'tissue', 'grey': 'grey', 'skull': 'skull', 'mice': 'mice', 'soldier': 'soldier', 'skittl': 'skittles', 'skip': 'skipping', 'rope': 'rope', 'domino': 'dominoes', 'seventeen': 'seventeen', 'sideboard': 'sideboard', 'parti': 'party', 'cone': 'cone', 'carniv': 'carnival', 'candi': 'candy', 'picnic': 'picnic', 'lamp': 'lamp', 'font': 'font', 'birthday': 'birthday', 'scotti': 'scotty', 'dog': 'dog', 'bowl': 'bowl', 'cloth': 'cloth', 'travel': 'travel', 'trinket': 'trinket', 'orang': 'orange', 'quilt': 'quilt', 'babushka': 'babushka', 'string': 'string', 'doughnut': 'doughnut', 'silk': 'silk', 'purs': 'purse', 'hous': 'house', 'boudoir': 'boudoir', 'squar': 'square', 'cornic': 'cornice', 's/6': 's/6', 'sew': 'sew', 'crochet': 'crochet', 'red': 'reds', 'lavend': 'lavender', 'incens': 'incense', 'tv': 'tv', 'dinner': 'dinner', 'tray': 'tray', 'placemat': 'placemat', 'famili': 'family', 'rotat': 'rotator', 'batteri': 'battery', 'silver': 'silver', 'mirror': 'mirror', 'ladi': 'ladies', 'gentlemen': 'gentlemen', 'bathroom': 'bathroom', 'toilet': 'toilet', 'holiday': 'holiday', 'basil': 'basil', 'set/10': 'set/10', 't-light': 't-light', 'snowmen': 'snowmen', 'santa': 'santa', 'spong': 'sponge', 'appl': 'apple', 'pirat': 'pirate', 'treasur': 'treasure', 'chest': 'chest', 'snowflak': 'snowflake', 'oval': 'oval', 'cigar': 'cigar', 'match': 'matches', 'hour': 'hour', 'giant': 'giant', 'tube': 'tube', 'jazz': 'jazz', 'notebook': 'notebook', 'candlehold': 'candleholder', 'candlestick': 'candlestick', 'baroquecandlestick': 'baroquecandlestick', 'flannel': 'flannel', 'style': 'style', 'footbal': 'football', 'celebr': 'celebration', 'girl': 'girl', 'blue': 'blue', 'invit': 'invites', 'butterfli': 'butterfly', 'cooki': 'cookie', 'cutter': 'cutter', 'sweetheart': 'sweetheart', 'car': 'car', 'trelli': 'trellis', 'set/5': 'set/5', 'slate': 'slate', 'bake': 'bake', 'pencil': 'pencil', 'harmonica': 'harmonica', 'transfer': 'transfer', 'tattoo': 'tattoos', 'panneton': 'pannetone', 'kid': 'kids', 'pen': 'pen', 'rectangl': 'rectangle', 'face': 'face', 'wrap': 'wrap', 'cowboy': 'cowboy', 'doili': 'doilies', 'cat': 'cat', 'eras': 'eraser', 'angel': 'angel', 'hldr': 'hldr', 'reel': 'reel', 'spin': 'spinning', 'top': 'top', 'marbl': 'marbles', 'strand': 'strand', 'necklac': 'necklac', 'crystal': 'crystal', 'squarecushion': 'squarecushion', 'children': 'children', 'candelabra': 'candelabra', 'luggag': 'luggage', 'tag': 'tag', 'tassl': 'tassle', 'charm': 'charm', 'acryl': 'acrylic', 'bangl': 'bangle', 'gun': 'guns', 'rose': 'roses', 'vanilla': 'vanilla', 'scent': 'scent', 'bell': 'bell', 'stand': 'stand', 'filigre': 'filigree', 'pattern': 'pattern', 'sticker': 'sticker', \"b'fli\": \"b'fly\", 'c/cover': 'c/cover', 'w': 'w', 'bobbl': 'bobbles', 'boom': 'boom', 'speaker': 'speaker', 'dress': 'dress', 'shopper': 'shopper', 'fruit': 'fruit', 'parcel': 'parcel', 'slipper': 'slipper', 'shoe': 'shoe', 'daisi': 'daisy', 'peg': 'peg', 'craft': 'craft', 'tree': 'tree', 'friend': 'friends', 'rosi': 'rosie', 'olivia': 'olivia', 'rex': 'rex', 'cash+carri': 'cash+carry', 'tote': 'tote', 'pinkwhit': 'pinkwhite', 'red/whit': 'red/white', 'valentin': 'valentine', 'decoupag': 'decoupage', 'sock': 'sock', 'baubl': 'bauble', 'villag': 'village', 'turquois': 'turquoise', 'wreath': 'wreath', 'advent': 'advent', 'calendar': 'calendar', 'gingham': 'gingham', 'sack': 'sack', 'snap': 'snap', 'drawerknob': 'drawerknob', 'apron': 'apron', 'mushroom': 'mushroom', 'chalk': 'chalk', 'hairband': 'hairband', 'purpl': 'purple', 'anim': 'animal', 'fair': 'fair', 'cupcak': 'cupcake', 'lace': 'lace', 'catch': 'catch', 'cotton': 'cotton', 'beach': 'beach', 'spade': 'spade', 'boy': 'boy', 'king': 'king', 'choic': 'choice', 'caddi': 'caddy', 'biscuit': 'biscuit', 'empir': 'empire', 'fawn': 'fawn', 'gift': 'gift', 'namast': 'namaste', 'swagat': 'swagat', 'vase': 'vase', 'chrysanthemum': 'chrysanthemum', 'scissor': 'scissor', 'tealight': 'tealight', 'place': 'place', 's/15': 's/15', 'wc': 'wc', 'soap': 'soap', 'medium': 'medium', 'washroom': 'washroom', 'bracelet': 'bracelet', 'hair': 'hair', 'grip': 'grip', 'pack/2': 'pack/2', 'dia': 'dia', 'diamant': 'diamante', 'ring': 'ring', 'rubi': 'ruby', 'montana': 'montana', 'present': 'present', 'aid': 'aid', 'monsoon': 'monsoon', 'rubber': 'rubber', 'stationeri': 'stationery', 'mitten': 'mittens', 'scandinavian': 'scandinavian', 'canva': 'canvas', 'stamp': 'stamp', 'cinammon': 'cinammon', 'stripe': 'stripe', 'provenc': 'provence', 'flock': 'flock', 'offic': 'office', 'record': 'record', 'size': 'size', 'hors': 'horse', 'regenc': 'regency', 'cakestand': 'cakestand', 'tier': 'tier', 'longboard': 'longboard', 'play': 'playing', 'shirt': 'shirt', 'repair': 'repair', 'foxi': 'foxy', 'gent': 'gents', 'jet': 'jet', \"'n\": \"'n\", 'grow': 'grow', 'world': 'world', 'champion': 'champion', 'seed': 'seed', 'envelop': 'envelope', 'hi': 'hi', 'polyest': 'polyester', 'filler': 'filler', 'pad': 'pad', 'scarf': 'scarf', 'pear': 'pears', 'gazebo': 'gazebo', 'birdhous': 'birdhouse', 'antiqu': 'antique', 'market': 'market', 'crate': 'crate', 'bed': 'bed', 'pizza': 'pizza', 'leav': 'leaves', 'button': 'button', 'messag': 'message', 'herb': 'herb', 'marker': 'marker', 'mint': 'mint', 'rosemari': 'rosemary', 'chive': 'chives', 'parsley': 'parsley', 'thyme': 'thyme', 'merri': 'merry', 'foil': 'foil', 'handbag': 'handbag', 'easter': 'easter', 'cut': 'cut', 'season': 'season', 'toast': 'toast', 'path': 'path', 'journal': 'journal', 'squeezer': 'squeezer', 'glove': 'glove', 'licoric': 'licorice', 'des': 'des', 'roll': 'roll', 'multicolour': 'multicolour', 'confetti': 'confetti', 'morri': 'morris', 'pistachio': 'pistachio', 'honeycomb': 'honeycomb', 'english': 'english', 'level': 'level', 'platter': 'platter', 'teacup': 'teacup', 'slice': 'slice', 'fun': 'fun', 'ass': 'ass', 'col': 'col', 'sand': 'sand', 'gecko': 'gecko', \"p'weight\": \"p'weight\", 'postcard': 'postcard', 'spring': 'spring', 'chateau': 'chateau', 'scale': 'scales', 'lizard': 'lizard', 'suction': 'suction', 'engine/car': 'engine/car', 'patch': 'patch', 'psychedel': 'psychedelic', 'flowerpow': 'flowerpower', 'life': 'life', 'rounder': 'rounders', 'child': 'childs', 'taper': 'taper', 'confectioneri': 'confectionery', 'stopper': 'stopper', 'set/4': 'set/4', 'junk': 'junk', 'mail': 'mail', 'tile': 'tile', 'finger': 'finger', 'beurr': 'beurre', 'dish': 'dish', 'diet': 'diet', 'screen': 'screen', 'print': 'print', 'peac': 'peace', 'earth': 'earth', 'cocktail': 'cocktail', 'strongman': 'strongman', 'school': 'school', 'crayon': 'crayons', 'booz': 'booze', 'women': 'women', 'lad': 'lads', 'man': 'man', 'heat': 'heat', 'person': 'person', 'shape': 'shape', 'pan': 'pan', 'bendi': 'bendy', 'straw': 'straws', 'pantri': 'pantry', 'sketchbook': 'sketchbook', 'sing': 'singing', 'emerg': 'emergency', 'friez': 'frieze', 'door': 'door', 'joy': 'joy', 'black+silv': 'black+silver', 'regal': 'regal', 'candlepot': 'candlepot', 'swirlglass': 'swirlglass', 'pedest': 'pedestal', 'magazin': 'magazine', 'food': 'food', 'raffia': 'raffia', 'polka': 'polka', 'jardin': 'jardin', 'bunt': 'bunting', 'kashmir': 'kashmir', 'chocolatecandl': 'chocolatecandle', 'shelf': 'shelf', 'imag': 'image', 'day': 'day', 'jewelleri': 'jewellery', 'let': 'lets', 'camouflag': 'camouflage', 'torch': 'torch', 'dragonfli': 'dragonfly', 'helicopt': 'helicopter', 'shark': 'shark', 'doctor': 'doctor', 'carriag': 'carriage', 'salt': 'salt', 'pepper': 'pepper', 'porcelain': 'porcelain', 'star+': 'star+', 'moon': 'moon', 'fring': 'fringe', 'hammock': 'hammock', 'dec': 'dec', 'crossbon': 'crossbones', 'fabric': 'fabric', 'poni': 'pony', 'cordon': 'cordon', 'barrier': 'barrier', 'teddi': 'teddy', 'air': 'air', 'hostess': 'hostess', 'stack': 'stack', 'hut': 'hut', 'blossom': 'blossom', 'passport': 'passport', 'retro': 'retro', 'mod': 'mod', 'cardhold': 'cardholder', 'book': 'book', 'spiral': 'spiral', 'coal': 'coal', 'airmail': 'airmail', 'number': 'number', 'smiley': 'smiley', 'collag': 'collage', 'childhood': 'childhood', 'memori': 'memory', 'funk': 'funk', 'monkey': 'monkey', 'choc+blu': 'choc+blue', 'glitter': 'glitter', 'b': 'b', 'c': 'c', 'chees': 'cheese', 'geisha': 'geisha', 'newspap': 'newspaper', 'scandispot': 'scandispot', 'jingl': 'jingle', 'key': 'key', 'instrument': 'instrument', 'crown': 'crowns', 'chalet': 'chalet', 'motorbik': 'motorbike', 'medicin': 'medicine', 'ma': 'ma', 'campagn': 'campagne', 'yuletid': 'yuletide', 'shade': 'shade', 'base': 'base', 'folkart': 'folkart', 'smallfolkart': 'smallfolkart', 'glass+zinc': 'glass+zinc', 'set/3': 'set/3', 'eucalyptus': 'eucalyptus', 'pinecon': 'pinecone', 's/4': 's/4', 'cacti': 'cacti', 'marshmallow': 'marshmallow', 'mum': 'mum', 'indian': 'indians', 'fuschia': 'fuschia', 'brocad': 'brocade', 'swallow': 'swallows', 'm': 'm', 'v': 'v', 's': 's', 'j': 'j', 'bingo': 'bingo', 'floor': 'floor', 'fauna': 'fauna', 'ear': 'ear', 'muff': 'muff', 'headphon': 'headphones', 'tutti': 'tutti', 'frutti': 'frutti', 'brush': 'brush', 'ladybird': 'ladybird', 'bee': 'bee', 'bamboo': 'bamboo', 'rib': 'ribs', 'lampshad': 'lampshade', 'badg': 'badges', 'creatur': 'creatures', 'pocket': 'pocket', 'brocant': 'brocante', 'maria': 'maria', 'memo': 'memo', 'room': 'room', 'sall': 'salle', 'bain': 'bain', 'robot': 'robot', 'war': 'war', 'glider': 'gliders', 'coathang': 'coathanger', 'bomb': 'bomb', 'pump': 'pump', 'stencil': 'stencil', 'cute': 'cute', 'toothpast': 'toothpaste', 'purdey': 'purdey', 'account': 'account', 'penni': 'penny', 'pig': 'pig', 'loveheart': 'loveheart', 'en': 'en', 'pin': 'pin', 'area': 'area', 'portrait': 'portrait', 'plastic': 'plastic', 'eleph': 'elephant', 'rainbow': 'rainbow', 'model': 'modelling', 'clay': 'clay', 'disc': 'disc', 'sugar': 'sugar', 'teapot': 'teapot', 'dairi': 'dairy', 'maid': 'maid', 'pud': 'pudding', 'contain': 'container', 'moodi': 'moody', 'hen': 'hen', 'wish': 'wishes', 'thank': 'thank', 'planter': 'planter', 'stripey': 'stripey', 'dragon': 'dragon', 'ruler': 'ruler', 'digitali': 'digitalis', 'post': 'post', 'milkshak': 'milkshake', 'babi': 'baby', 'chart': 'chart', 'figur': 'figures', 'shine': 'shine', 'armi': 'army', 'camo': 'camo', 'bookcov': 'bookcover', 'carrot': 'carrot', 'chick': 'chick', 'chunki': 'chunky', 'tassel': 'tassel', 'glass+bead': 'glass+bead', 'livingroom': 'livingroom', 'posi': 'posy', 'vine': 'vine', 'food/drink': 'food/drink', 'lilac': 'lilac', 'juici': 'juicy', 'creepi': 'creepy', 'crawli': 'crawlie', 'memoboard': 'memoboard', 'wash': 'wash', 'cafe': 'cafe', 'bow': 'bow', 'brooch': 'brooch', 'amethyst': 'amethyst', 'pair': 'pair', 'hairclip': 'hairclip', 'gemston': 'gemstone', 'drop': 'drop', 'earring': 'earrings', 'hoop': 'hoop', 'leaf': 'leaf', 'clam': 'clam', 'shell': 'shell', 'cockl': 'cockle', 'fob': 'fob', 'garag': 'garage', 'chopstick': 'chopsticks', 'frog': 'frog', 'puppet': 'puppet', 'wine': 'wine', 'candlestand': 'candlestand', 'gaoler': 'gaolers', 'champagn': 'champagne', 'curio': 'curio', 'fan': 'fan', 'charg': 'charge', 'butter': 'butter', 'farm': 'farm', 'snowstorm': 'snowstorm', 'tinsel': 'tinsel', 'space': 'space', 'cadet': 'cadet', 'monster': 'monster', 'citronella': 'citronella', 'folk': 'folk', 'burst': 'burst', 'fanni': 'fanny', 'rest': 'rest', 'stopmet': 'stopmetal', 'way': 'way', 'corona': 'corona', 'weekend': 'weekend', 'fish': 'fishing', 'gnome': 'gnome', 'coland': 'colander', 'blue/cream': 'blue/cream', 'strawberi': 'strawbery', 'shop': 'shop', 'washbag': 'washbag', 'feng': 'feng', 'shui': 'shui', 'pillar': 'pillar', 'novelti': 'novelty', 'toastrack': 'toastrack', 'rustic': 'rustic', 'bead': 'bead', 'croquet': 'croquet', 'choc': 'choc', 'truffl': 'truffle', 'cabin': 'cabin', 'knit': 'knitting', 'nanci': 'nancy', 'throw': 'throw', 'lush': 'lush', 'necklace+bracelet': 'necklace+bracelet', 'salad': 'salad', 'check': 'check', 'ludo': 'ludo', 'la': 'la', 'palmiera': 'palmiera', 'display': 'display', 'pack/12': 'pack/12', 'secateur': 'secateurs', 'lei': 'leis', 'camphor': 'camphor', 'field': 'field', 'portobello': 'portobello', 'fairy,5': 'fairy,5', 'summer': 'summer', \"b'draw\": \"b'draw\", 'liner': 'liners', 'blue/yellow': 'blue/yellow', 'green/blu': 'green/blue', 'yellow/pink': 'yellow/pink', 'a5': 'a5', 'neighbourhood': 'neighbourhood', 'witch': 'witch', 'pharmaci': 'pharmacie', 'naughti': 'naughty', 'sound': 'sound', 'hello': 'hello', 'sailor': 'sailor', 'bewar': 'beware', 'cinnamon': 'cinnamon', 'jasmin': 'jasmine', 'bone': 'bone', 'circl': 'circle', 'midnight': 'midnight', 'glamour': 'glamour', 'frappucino': 'frappucino', 'phone': 'phone', 'blue/green': 'blue/green', 'pendant': 'pendant', 'spirit': 'spirit', 'skirt': 'skirt', 'mous': 'mouse', 't-shirt': 't-shirt', 'jewel': 'jewel', 'nurs': 'nurse', 'melamin': 'melamine', 'wool': 'wool', 'peacock': 'peacock', 'footprint': 'footprints', 'album': 'album', 'gardenia': 'gardenia', 'multi': 'multi', 'mousey': 'mousey', 'laundri': 'laundry', 'cactus': 'cactus', 'cockerel': 'cockerel', 'bouquet': 'bouquet', 'danish': 'danish', 'cast': 'cast', 'iron': 'iron', 'fork': 'fork', 'trowel': 'trowel', 'pearl': 'pearl', 'lime': 'lime', 'boudicca': 'boudicca', 'pennant': 'pennant', 'label': 'labels', 'ream': 'ream', 'pop': 'pop', 'poncho': 'poncho', 'flask': 'flask', 'keyr': 'keyring', 'chair': 'chair', 'petit': 'petit', 'dream': 'dream', 'windsock': 'windsock', 'microwav': 'microwave', 'delight': 'delight', 'organis': 'organiser', 'leap': 'leap', 'silicon': 'silicon', 'bulb': 'bulb', 'seat': 'seat', 'madra': 'madras', 'feather': 'feather', 'sandalwood': 'sandalwood', 'rocket': 'rocket', 'sombrero': 'sombrero', 'bitti': 'bitty', 'stone': 'stone', 'glow': 'glow', 'tiara': 'tiaras', 'robin': 'robin', 'kensington': 'kensington', 'set/12': 'set/12', 'mobil': 'mobile', 's/12': 's/12', 'bib': 'bib', 'teatim': 'teatime', 'flu': 'flu', 'embroideri': 'embroidery', 'ashtray': 'ashtray', 'shower': 'shower', 'cap': 'cap', 'queen': 'queen', 'sky': 'sky', 'economi': 'economy', 'oil': 'oil', 'burner': 'burner', 'notelet': 'notelets', 'deco': 'deco', 'w/knif': 'w/knif', 'deco.whit': 'deco.white', 'sage': 'sage', 'flowerpot': 'flowerpot', 'paperweight': 'paperweight', 'carry-al': 'carry-all', 'balm': 'balm', 'tumbler': 'tumbler', 'brown': 'brown', 'travelogu': 'travelogue', 'pink/whit': 'pink/white', 'clean': 'clean', 'bullet': 'bullet', 'puppi': 'puppies', 'sunris': 'sunrise', 'carousel': 'carousel', 'sunglass': 'sunglasses', 'blackchristma': 'blackchristmas', 'sweeti': 'sweeties', 'wireless': 'wireless', 'doorbel': 'doorbell', 'lattic': 'lattice', 'neckl': 'neckl', 'bronz': 'bronze', 'smokey': 'smokey', 'd.o.f': 'd.o.f', 'pouri': 'pouri', 'windmil': 'windmill', 'pale': 'pale', 'bea': 'bea', 'mao': 'mao', 'goos': 'goose', 'bear': 'bear', 'du': 'du', 'cosmet': 'cosmetics', 'flytrap': 'flytrap', 'sunflow': 'sunflower', 'butterfl': 'butterfl', 'pouff': 'pouffe', 'regatta': 'regatta', 'budah': 'budah', 'wise': 'wise', 'potion': 'potion', 'masala': 'masala', 'favourit': 'favourites', 'banquet': 'banquet', 'xmas': 'xmas', 'nut': 'nut', 'basin': 'basin', 'eau': 'eau', 'tigri': 'tigris', 'eye': 'eye', 'vinyl': 'vinyl', 'las': 'las', 'vega': 'vegas', 'mould': 'mould', 'voil': 'voile', 'pointi': 'pointy', 'k': 'k', 'address': 'address', 'stool': 'stool', 'photofram': 'photoframe', 'jungl': 'jungle', 'popsicl': 'popsicles', 'twine': 'twine', 'rnd': 'rnd', 'str': 'str', 'strap': 'strap', 'beauti': 'beauty', 'cd': 'cd', 'gebra': 'gebra', 'shutter': 'shutters', 'seafood': 'seafood', 'compact': 'compact', 'magic': 'magic', 'octagon': 'octagon', 'diva': 'diva', 'chime': 'chime', 'neckl.36': 'neckl.36', 'fold': 'folding', 'edg': 'edge', 'forti': 'forties', 'blood': 'blood', 'coney': 'coney', 'island': 'island', 'pompom': 'pompom', 'curtain': 'curtain', 'grass': 'grass', 'mix': 'mixing', 'rosett': 'rosette', 'welcom': 'welcome', 'class': 'class', 'plaqu': 'plaque', 'popart': 'popart', 'rect': 'rect', 'sharpen': 'sharpener', 'asst': 'asst', 'tortilla': 'tortilla', 'w/sucker': 'w/sucker', 'origami': 'origami', 'incense/candl': 'incense/candl', 'opium': 'opium', 'sandlewood': 'sandlewood', 'incense/cand': 'incense/cand', 'rococo': 'rococo', 'sprig': 'sprig', 'cage': 'cage', 'strawbri': 'strawbry', 'mosaic': 'mosaic', 'goblet': 'goblet', 'highlight': 'highlighter', 'kitten': 'kittens', 'silver/amethyst': 'silver/amethyst', 'slide': 'slide', 'cartoon': 'cartoon', 'vip': 'vip', 'doc': 'doc', 'russel': 'russel', 'dad': 'dad', 'scroll': 'scroll', 'marmalad': 'marmalade', 'garld': 'garld', 'neckl36': 'neckl36', 'copper': 'copper', 'turq': 'turq', 'sunda': 'sundae', 'droplet': 'droplet', 'murano': 'murano', 'twist': 'twist', 'race': 'racing', 'silouett': 'silouette', 'demi': 'demi', 'choker': 'choker', 'orbit': 'orbit', 'pastel': 'pastel', 'flow': 'flowe', 'beaten': 'beaten', 'charger': 'charger', 'aperitif': 'aperitif', 'spice': 'spice', 'cannist': 'cannister', 'berti': 'bertie', 'steel': 'steel', 'mr': 'mr', 'vippassport': 'vippassport', 'asstd': 'asstd', 'butterfly/cryst': 'butterfly/crystal', 'w/chime': 'w/chime', 'screwdriv': 'screwdriver', 'spacebal': 'spaceball', 'mrs': 'mrs', 'princ': 'prince', 'chalic': 'chalice', 'blackboard': 'blackboard', 'ice': 'ice', 'bum': 'bum', 'roccoco': 'roccoco', 'chandeli': 'chandelier', 'fli': 'fly', 'swat': 'swat', 'sheep': 'sheep', 'fruitbowl': 'fruitbowl', 'freshwat': 'freshwater', 'pink/amethyst': 'pink/amethyst', 'teal/fuschia': 'teal/fuschia', 'botan': 'botanical', 'groovi': 'groovy', 'fruit+flow': 'fruit+flowers', 'blackblu': 'blackblue', 'bus': 'bus', 'enamel+glass': 'enamel+glass', 'comb': 'comb', 'diamond': 'diamond', 'incense+flow': 'incense+flower', 'fluffi': 'fluffy', 'desk': 'desk', 'mock': 'mock', 'lobster': 'lobster', 'diamon': 'diamon', 'raspberr': 'raspberr', 'lazer': 'lazer', 'amber': 'amber', 'band': 'band', 'delphinium': 'delphinium', 'white/pink': 'white/pink', 'toybox': 'toybox', 'banner': 'banner', 'm.o.p': 'm.o.p', 'cannabi': 'cannabis', 'd': 'd', 'dark': 'dark', 'dolphin': 'dolphin', 'wheelbarrow': 'wheelbarrow', 'rake': 'rake', 'frangipani': 'frangipani', 'rosebud': 'rosebud', 'chenill': 'chenille', 'box/12': 'box/12', 'ladl': 'ladle', 'wed': 'wedding', 'briar': 'briar', 'poodl': 'poodle', 'pink/flow': 'pink/flower', 'wast': 'waste', 'carpet': 'carpet', 'flamingo': 'flamingo', 'bar': 'bar', 'condiment': 'condiment', 'hilda': 'hilda', 'congratul': 'congratulations', 'icon': 'icon', 'elvi': 'elvis', 'drawstr': 'drawstring', 'hare': 'hare', 'gordon': 'gordon', 'pool': 'pool', 'sister': 'sisters', 'citrus': 'citrus', 'beetl': 'beetles', 'crystal+glass': 'crystal+glass', 'resin': 'resin', 'ridg': 'ridge', 'cruso': 'crusoe', 'veget': 'vegetables', 'flore': 'flore', 'doiley': 'doiley', 'multicol': 'multicol', 'blond': 'blond', 'glass/silv': 'glass/silver', 'hunt': 'hunt', 'start': 'start', 'rasta': 'rasta', 'key-chain': 'key-chains', 'back': 'back', 'hen+chick': 'hen+chicks', 'petal': 'petals', 'candystuft': 'candystuft', 'st': 'st', 'georg': 'george', 'savannah': 'savannah', 'hamper': 'hamper', 'barn': 'barn', 'red/cream': 'red/cream', 'r': 'r', 'sued': 'suede', 'oyster': 'oyster', 'flame': 'flame', 'lens': 'lenses', 'support': 'support', 'g': 'g', 'ceram': 'ceramic', 'rectangular': 'rectangular', 'unit': 'unit', 'ivi': 'ivy', 's/2': 's/2', 'list': 'list', 'cutglass': 'cutglass', 'gold/m.o.p': 'gold/m.o.p', 'silver/m.o.p': 'silver/m.o.p', 'roman': 'roman', 'peach': 'peach', 'bazaar': 'bazaar', 'tranquil': 'tranquility', 'gauz': 'gauze', 'radio': 'radio', 'buddha': 'buddha', 'pet': 'pet', 'revolutionari': 'revolutionary', 'tie': 'tie', 'jade': 'jade', 'cluster': 'cluster', 'sea': 'sea', 'windchim': 'windchime', 'pom-pom': 'pom-pom', 'vint': 'vint', 'blue/nat': 'blue/nat', 'silver/nat': 'silver/nat', 'hopper': 'hopper', 'pole': 'pole', 'mont': 'monte', 'carlo': 'carlo', 'wallet': 'wallet', 'meadow': 'meadow', 'transport': 'transport', 'calm': 'calm', 'giraff': 'giraffe', 'revolv': 'revolver', 'pill': 'pill', 'ticket': 'ticket', 'dotcomgiftshop': 'dotcomgiftshop', 'raspberri': 'raspberry', 'berri': 'berries', 'scallop': 'scallop', 'bling': 'bling', 'riviera': 'riviera', 'heaven': 'heavens', 'fragranc': 'fragrance', 'anemon': 'anemone', 'allium': 'allium', 'artifici': 'artificial', 'buffalo': 'buffalo', 'bill': 'bill', 'pastri': 'pastry', 'dollcraft': 'dollcraft', 'nicol': 'nicole', 'mother': 'mother', 'corer': 'corer', 'tripl': 'triple', 'acapulco': 'acapulco', 'mat': 'mat', 'live': 'lives', 'jean-paul': 'jean-paul', 'bull': 'bull', 'open': 'opener', 'guitar': 'guitar', 'ol': 'ol', 'p': 'p', 'splodg': 'splodges', 'purple/turq': 'purple/turq', 'hole': 'hole', 'punch': 'punch', 'bonbon': 'bonbons', 'ameli': 'amelie', 'gem': 'gems', 'geometr': 'geometric', 'lt.blue': 'lt.blue', 'sanskrit': 'sanskrit', '/': '/', 'turquoi': 'turquois', 'kukui': 'kukui', 'coconut': 'coconut', 'lip': 'lip', 'gloss': 'gloss', 'red/blu': 'red/blue', 'flower/butterfli': 'flower/butterfly', 'mummi': 'mummy', 'cupboard': 'cupboard', 'hibiscus': 'hibiscus', 'nativ': 'nativity', 'silver/black': 'silver/black', 'goldi': 'goldie', 'hurrican': 'hurricane', 'backpack': 'backpack', 'mop': 'mop', 'yellow/orang': 'yellow/orange', 'hardman': 'hardman', 'tahiti': 'tahiti', 'aluminium': 'aluminium', 'parlour': 'parlour', 'barrel': 'barrel', 'mari': 'marie', 'antoienett': 'antoienett', 'miniatur': 'miniature', 'gel': 'gel', 'cote': 'cote', \"d'azur\": \"d'azure\", 'tropez': 'tropez', 'tone': 'tone', 'page': 'page', 'run': 'run', 'laser': 'laser', 'tong': 'tongs', 'come': 'come', 'strainer': 'strainer', 'zinc/glass': 'zinc/glass', 'point': 'point', 'snow': 'snow', 'cinderella': 'cinderella', 'minitur': 'miniture', 'antoinett': 'antoinette', 'l': 'l', 'sequin': 'sequin', 'spliff': 'spliff', 'bundl': 'bundle', 'exercis': 'exercise', 'note': 'note', 'suppli': 'supplies', 'parisienn': 'parisienne', 'chic': 'chic', 'secret': 'secret', 'bedsid': 'bedside', 'dispens': 'dispenser', 'bon': 'bon', 'montan': 'montan', 'gerden': 'gerden', 'housework': 'housework', 'y': 'y', 'peoni': 'peony', 'stiletto': 'stiletto', 'flowr': 'flowr', 'capiz': 'capiz', 'quartz': 'quartz', 'braclet': 'braclet', 'lt': 'lt', 'laurel': 'laurel', 'rock': 'rocking', 'olli': 'ollie', 'beak': 'beak', 'ghost': 'ghost', 'disc/mirror': 'disc/mirror', 'willi': 'willie', 'icicl': 'icicle', 'push': 'push', 'e': 'e', 'knack': 'knack', 'gymkhana': 'gymkhana', 'hold': 'hold', 'bubblegum': 'bubblegum', 'h': 'h', 'sleigh': 'sleigh', 'trim': 'trim', 'mid': 'mid', 'spike': 'spike', 'meter': 'meter', 'donkey': 'donkey', 'perfum': 'perfume', 'elixir': 'elixir', 'songbird': 'songbird', 'crackl': 'crackle', 'glaze': 'glaze', 'tonic': 'tonic', 'doorknob': 'doorknob', 'bonn': 'bonne', 'sword': 'swords', 'dispos': 'disposable', 'handl': 'handle', 'hexagon': 'hexagon', 'notepad': 'notepad', 'refectori': 'refectory', 'reto': 'reto', 'madelin': 'madeline', 'mark': 'mark', 'hens+flow': 'hens+flower', 'sucker': 'sucker', 'cracker': 'cracker', 'brass': 'brass', 'hairslid': 'hairslide', 'loaf': 'loaf', 'w/suck': 'w/suck', 'tablecloth': 'tablecloth', 'bili': 'bili', 'poster': 'poster', 'park': 'park', 'ceatur': 'ceature', 'forest': 'forest', 'branch': 'branch', 'pink/blu': 'pink/blue', 'frill': 'frill', 'adult': 'adult', 'jampot': 'jampot', 'sex': 'sex', 'stuff': 'stuff', 'bubbl': 'bubbles', 'patchwork': 'patchwork', 'utensil': 'utensil', 'teddy/cak': 'teddy/cake', 'dotcom': 'dotcom', 'commiss': 'commission', 'franc': 'france', 'foot': 'foot', 'bonheur': 'bonheur', 'botaniqu': 'botanique', 'sweeet': 'sweeet', 'pant': 'pants', 'maker': 'makers', 'grinder': 'grinder', 'linen': 'linen', 'spatula': 'spatula', 'whisk': 'whisk', 'toilett': 'toilette', 'chambr': 'chambre', 'le': 'le', 'draw': 'draw', 'carri': 'carry', 'jubile': 'jubilee', 'rebecca': 'rebecca', 'rachel': 'rachel', 'susi': 'susie', 'rucksack': 'rucksack', 'peridot': 'peridot', 'sophi': 'sophie', 'clair': 'claire', 'blk/whit': 'blk/whit', 'villa': 'villa', 'dovecot': 'dovecote', 'bicycl': 'bicycle', 'saftey': 'saftey', 'stop': 'stop', 'licenc': 'licence', 'haven': 'haven', 'ahoy': 'ahoy', 'natur': 'nature', 'show': 'show', 'centuri': 'century', 'modern': 'modern', 'work': 'work', 'basebal': 'baseball', 'boot': 'boot', 'feed': 'feeding', 'station': 'station', 'safeti': 'safety', 'metr': 'metre', 'triobas': 'triobase', 'feeder': 'feeder', 'henrietta': 'henrietta', 'carrier': 'carrier', 'helga': 'helga', 'heidi': 'heidi', 'resolut': 'resolution', 'landmark': 'landmark', 'bridg': 'bridge', 'oxford': 'oxford', 'street': 'street', 'baker': 'baker', 'hill': 'hill', 'town': 'town', 'miror': 'miror', 'decrotivevintag': 'decrotivevintage', 'pick': 'pick', 'naught': 'naughts', 'cross': 'cross', 'blueberri': 'blueberry', 'fondant': 'fondant', 'chrome': 'chrome', \"sil't\": \"sil't\", 'squ': 'squ', 'crome': 'crome', 'candle+incens': 'candle+incense', 'panetton': 'panettone', 'czech': 'czech', 'punctur': 'puncture', 'countri': 'country', 'f': 'f', 'o': 'o', 't': 't', 'z': 'z', 'birdi': 'birdie'} \n",
            " {'heart': 267, 'holder': 120, 'metal': 99, 'lantern': 8, 'cream': 49, 'cupid': 2, 'coat': 7, 'hanger': 19, 'union': 28, 'flag': 12, 'water': 36, 'bottl': 44, 'nest': 3, 'box': 155, 'glass': 149, 'star': 59, 'hand': 20, 'jack': 21, 'warmer': 17, 'dot': 3, 'bird': 45, 'ornament': 1, 'poppi': 7, 'playhous': 4, 'bedroom': 1, 'kitchen': 20, 'feltcraft': 24, 'princess': 3, 'charlott': 11, 'doll': 11, 'ivori': 54, 'cosi': 6, 'colour': 26, 'teaspoon': 1, 'vintag': 211, 'jigsaw': 15, 'block': 9, 'alphabet': 13, 'home': 49, 'build': 3, 'word': 3, 'love': 9, 'recip': 6, 'england': 4, 'jam': 18, 'jar': 39, 'rack': 15, 'pari': 5, 'fashion': 3, 'bath': 8, 'alarm': 7, 'clock': 44, 'bakelik': 4, 'pink': 189, 'green': 14, 'panda': 1, 'bunni': 25, 'sheet': 8, 'tape': 18, 'globe': 1, 'head': 3, 'tail': 4, 'game': 6, 'set/2': 1, 'retrospot': 90, 'tea': 55, 'towel': 22, 'round': 30, 'snack': 9, 'woodland': 21, 'spaceboy': 29, 'lunch': 27, 'i': 19, 'london': 22, 'circus': 12, 'bag': 165, 'design': 128, 'toadstool': 13, 'night': 5, 'light': 29, 'seasid': 3, 'puzzl': 1, 'mini': 56, 'parad': 9, 'paint': 1, 'postag': 2, 'paper': 84, 'chain': 11, 'christma': 137, 'parasol': 16, 'coffe': 24, 'mug': 66, 'planet': 3, 'billboard': 7, 'love/h': 1, 'wood': 40, 'drawer': 37, 'cabinet': 22, 'finish': 4, 's/3': 3, 'pictur': 14, 'frame': 52, 'wooden': 14, 'sympathi': 1, 'polkadot': 68, 'baroqu': 22, 'charli': 9, 'lola': 8, 'toy': 18, 'strawberri': 21, 'piec': 14, 'cutleri': 29, 'set': 206, 'set/6': 8, 'plate': 35, 'pack': 61, 'case': 31, 'dinosaur': 11, 'paisley': 42, 'fairi': 23, 'tomato': 1, 'charlie+lola': 7, 'coaster': 15, 'wastepap': 2, 'bin': 12, 'flora': 2, 'doorsign': 2, 'storag': 26, 'suki': 8, 'make': 1, 'pc': 2, 'tool': 3, 'airlin': 6, 'loung': 2, 'sign': 64, 'spot': 33, 'knob': 18, 'photo': 36, 'clip': 12, 'line': 1, 'felt': 10, 'egg': 61, 'chicken': 5, 'bank': 8, 'shoulder': 5, 'cook': 1, 'gin': 4, '+': 13, 'breakfast': 11, 'cup': 37, 'saucer': 10, 'flower': 120, 'time': 13, 'rabbit': 28, 'zinc': 37, 'winki': 4, 'candl': 121, 'stick': 10, 'cherri': 16, 'money': 15, 'milk': 13, 'jug': 11, 'funki': 13, 'beaker': 10, 'owl': 10, 'balloon': 10, 'art': 75, 'cloch': 2, 'gumbal': 2, 'monochrom': 1, 'doormat': 18, 'fanci': 1, 'sweet': 22, 'discount': 1, 'snake': 2, 'ladder': 4, 'chocol': 25, 'calcul': 3, 'tidi': 13, 'tabl': 19, 'pot': 27, 'garden': 55, 'thermomet': 7, 'cake': 70, 'tin': 66, 'wicker': 21, 'basket': 25, 'lid': 6, 'duck': 7, 'board': 9, 'hang': 11, 'medina': 6, 'chalkboard': 5, 'lovebird': 6, 'birdcag': 2, 'plant': 13, 'card': 90, 'enamel': 31, 'fire': 8, 'bucket': 8, 'bread': 7, 'ribbon': 40, 'wire': 22, 'chilli': 1, 'garland': 39, 'butterfil': 1, 'tale': 2, 'cottag': 15, 'letter': 42, 'doorstop': 10, 'decor': 109, 'magnet': 28, 'fridg': 7, 'homemad': 1, 'enfant': 1, 'caravan': 4, 'hook': 39, 'reindeer': 2, 'cushion': 54, 'cover': 68, 'gold': 39, 'umbrella': 8, 'black/blu': 1, 'diner': 13, 'wall': 55, 'measur': 7, 'spoon': 10, 'keepsak': 1, 'disco': 6, 'ball': 18, 'popcorn': 2, 'set/20': 2, 'napkin': 10, 'rain': 3, 'hat': 1, 'delux': 2, 'kit': 22, 'cube': 5, 'plaster': 6, 'tissu': 30, 'grey': 2, 'skull': 34, 'mice': 1, 'soldier': 2, 'skittl': 4, 'skip': 1, 'rope': 3, 'domino': 2, 'seventeen': 1, 'sideboard': 1, 'parti': 42, 'cone': 8, 'carniv': 4, 'candi': 12, 'picnic': 9, 'lamp': 10, 'font': 5, 'birthday': 25, 'scotti': 5, 'dog': 24, 'bowl': 57, 'cloth': 3, 'travel': 16, 'trinket': 23, 'orang': 11, 'quilt': 1, 'babushka': 22, 'string': 10, 'doughnut': 4, 'silk': 4, 'purs': 20, 'hous': 13, 'boudoir': 1, 'squar': 13, 'cornic': 4, 's/6': 1, 'sew': 2, 'crochet': 11, 'red': 1, 'lavend': 10, 'incens': 15, 'tv': 8, 'dinner': 20, 'tray': 35, 'placemat': 9, 'famili': 4, 'rotat': 1, 'batteri': 2, 'silver': 72, 'mirror': 50, 'ladi': 3, 'gentlemen': 1, 'bathroom': 14, 'toilet': 4, 'holiday': 6, 'basil': 2, 'set/10': 3, 't-light': 22, 'snowmen': 2, 'santa': 3, 'spong': 5, 'appl': 21, 'pirat': 3, 'treasur': 12, 'chest': 5, 'snowflak': 5, 'oval': 8, 'cigar': 2, 'match': 6, 'hour': 2, 'giant': 3, 'tube': 21, 'jazz': 3, 'notebook': 22, 'candlehold': 9, 'candlestick': 7, 'baroquecandlestick': 1, 'flannel': 8, 'style': 20, 'footbal': 3, 'celebr': 2, 'girl': 14, 'blue': 80, 'invit': 6, 'butterfli': 33, 'cooki': 7, 'cutter': 7, 'sweetheart': 30, 'car': 5, 'trelli': 3, 'set/5': 2, 'slate': 10, 'bake': 7, 'pencil': 35, 'harmonica': 2, 'transfer': 1, 'tattoo': 1, 'panneton': 3, 'kid': 10, 'pen': 19, 'rectangl': 3, 'face': 1, 'wrap': 65, 'cowboy': 3, 'doili': 16, 'cat': 25, 'eras': 4, 'angel': 5, 'hldr': 2, 'reel': 22, 'spin': 1, 'top': 4, 'marbl': 3, 'strand': 6, 'necklac': 85, 'crystal': 15, 'squarecushion': 2, 'children': 32, 'candelabra': 1, 'luggag': 10, 'tag': 15, 'tassl': 6, 'charm': 41, 'acryl': 2, 'bangl': 4, 'gun': 1, 'rose': 6, 'vanilla': 10, 'scent': 5, 'bell': 36, 'stand': 30, 'filigre': 1, 'pattern': 5, 'sticker': 30, \"b'fli\": 5, 'c/cover': 2, 'w': 23, 'bobbl': 1, 'boom': 3, 'speaker': 2, 'dress': 3, 'shopper': 4, 'fruit': 14, 'parcel': 1, 'slipper': 4, 'shoe': 6, 'daisi': 21, 'peg': 9, 'craft': 13, 'tree': 28, 'friend': 3, 'rosi': 2, 'olivia': 1, 'rex': 1, 'cash+carri': 1, 'tote': 7, 'pinkwhit': 1, 'red/whit': 1, 'valentin': 1, 'decoupag': 7, 'sock': 7, 'baubl': 5, 'villag': 6, 'turquois': 7, 'wreath': 17, 'advent': 5, 'calendar': 9, 'gingham': 23, 'sack': 2, 'snap': 1, 'drawerknob': 1, 'apron': 9, 'mushroom': 7, 'chalk': 4, 'hairband': 4, 'purpl': 9, 'anim': 10, 'fair': 3, 'cupcak': 3, 'lace': 13, 'catch': 1, 'cotton': 12, 'beach': 7, 'spade': 3, 'boy': 6, 'king': 10, 'choic': 7, 'caddi': 3, 'biscuit': 16, 'empir': 8, 'fawn': 2, 'gift': 49, 'namast': 1, 'swagat': 1, 'vase': 2, 'chrysanthemum': 3, 'scissor': 5, 'tealight': 2, 'place': 7, 's/15': 1, 'wc': 1, 'soap': 11, 'medium': 15, 'washroom': 1, 'bracelet': 61, 'hair': 25, 'grip': 6, 'pack/2': 6, 'dia': 1, 'diamant': 29, 'ring': 46, 'rubi': 5, 'montana': 3, 'present': 2, 'aid': 1, 'monsoon': 1, 'rubber': 4, 'stationeri': 6, 'mitten': 1, 'scandinavian': 3, 'canva': 4, 'stamp': 6, 'cinammon': 2, 'stripe': 17, 'provenc': 1, 'flock': 23, 'offic': 9, 'record': 4, 'size': 7, 'hors': 9, 'regenc': 16, 'cakestand': 3, 'tier': 6, 'longboard': 1, 'play': 2, 'shirt': 1, 'repair': 2, 'foxi': 1, 'gent': 1, 'jet': 8, \"'n\": 1, 'grow': 1, 'world': 2, 'champion': 1, 'seed': 4, 'envelop': 6, 'hi': 1, 'polyest': 6, 'filler': 6, 'pad': 7, 'scarf': 6, 'pear': 5, 'gazebo': 1, 'birdhous': 7, 'antiqu': 22, 'market': 1, 'crate': 3, 'bed': 1, 'pizza': 5, 'leav': 4, 'button': 4, 'messag': 1, 'herb': 10, 'marker': 9, 'mint': 9, 'rosemari': 1, 'chive': 1, 'parsley': 1, 'thyme': 1, 'merri': 2, 'foil': 1, 'handbag': 9, 'easter': 39, 'cut': 6, 'season': 1, 'toast': 5, 'path': 4, 'journal': 6, 'squeezer': 1, 'glove': 6, 'licoric': 1, 'des': 4, 'roll': 8, 'multicolour': 8, 'confetti': 4, 'morri': 9, 'pistachio': 1, 'honeycomb': 9, 'english': 10, 'level': 2, 'platter': 3, 'teacup': 3, 'slice': 3, 'fun': 7, 'ass': 7, 'col': 6, 'sand': 3, 'gecko': 1, \"p'weight\": 2, 'postcard': 3, 'spring': 6, 'chateau': 5, 'scale': 6, 'lizard': 1, 'suction': 4, 'engine/car': 1, 'patch': 9, 'psychedel': 1, 'flowerpow': 1, 'life': 3, 'rounder': 1, 'child': 14, 'taper': 1, 'confectioneri': 2, 'stopper': 1, 'set/4': 10, 'junk': 1, 'mail': 1, 'tile': 8, 'finger': 1, 'beurr': 1, 'dish': 15, 'diet': 1, 'screen': 5, 'print': 11, 'peac': 3, 'earth': 1, 'cocktail': 3, 'strongman': 1, 'school': 4, 'crayon': 1, 'booz': 1, 'women': 1, 'lad': 1, 'man': 3, 'heat': 1, 'person': 4, 'shape': 17, 'pan': 14, 'bendi': 1, 'straw': 5, 'pantri': 28, 'sketchbook': 7, 'sing': 1, 'emerg': 1, 'friez': 1, 'door': 23, 'joy': 2, 'black+silv': 1, 'regal': 1, 'candlepot': 4, 'swirlglass': 1, 'pedest': 1, 'magazin': 4, 'food': 14, 'raffia': 6, 'polka': 2, 'jardin': 8, 'bunt': 11, 'kashmir': 1, 'chocolatecandl': 1, 'shelf': 9, 'imag': 15, 'day': 8, 'jewelleri': 10, 'let': 1, 'camouflag': 3, 'torch': 1, 'dragonfli': 3, 'helicopt': 6, 'shark': 3, 'doctor': 1, 'carriag': 4, 'salt': 2, 'pepper': 1, 'porcelain': 7, 'star+': 1, 'moon': 3, 'fring': 1, 'hammock': 3, 'dec': 7, 'crossbon': 2, 'fabric': 5, 'poni': 4, 'cordon': 2, 'barrier': 2, 'teddi': 5, 'air': 1, 'hostess': 1, 'stack': 4, 'hut': 4, 'blossom': 11, 'passport': 7, 'retro': 22, 'mod': 1, 'cardhold': 3, 'book': 26, 'spiral': 1, 'coal': 1, 'airmail': 1, 'number': 22, 'smiley': 1, 'collag': 5, 'childhood': 2, 'memori': 2, 'funk': 1, 'monkey': 8, 'choc+blu': 1, 'glitter': 9, 'b': 2, 'c': 2, 'chees': 1, 'geisha': 2, 'newspap': 1, 'scandispot': 1, 'jingl': 6, 'key': 4, 'instrument': 1, 'crown': 1, 'chalet': 1, 'motorbik': 1, 'medicin': 1, 'ma': 4, 'campagn': 4, 'yuletid': 2, 'shade': 2, 'base': 5, 'folkart': 5, 'smallfolkart': 1, 'glass+zinc': 1, 'set/3': 8, 'eucalyptus': 1, 'pinecon': 1, 's/4': 3, 'cacti': 2, 'marshmallow': 2, 'mum': 3, 'indian': 1, 'fuschia': 5, 'brocad': 1, 'swallow': 2, 'm': 2, 'v': 1, 's': 3, 'j': 1, 'bingo': 1, 'floor': 3, 'fauna': 1, 'ear': 2, 'muff': 3, 'headphon': 3, 'tutti': 10, 'frutti': 4, 'brush': 5, 'ladybird': 2, 'bee': 1, 'bamboo': 2, 'rib': 1, 'lampshad': 5, 'badg': 5, 'creatur': 1, 'pocket': 12, 'brocant': 4, 'maria': 1, 'memo': 3, 'room': 2, 'sall': 1, 'bain': 1, 'robot': 4, 'war': 1, 'glider': 1, 'coathang': 1, 'bomb': 2, 'pump': 1, 'stencil': 2, 'cute': 1, 'toothpast': 1, 'purdey': 2, 'account': 1, 'penni': 1, 'pig': 3, 'loveheart': 1, 'en': 1, 'pin': 5, 'area': 2, 'portrait': 5, 'plastic': 5, 'eleph': 3, 'rainbow': 3, 'model': 1, 'clay': 1, 'disc': 1, 'sugar': 9, 'teapot': 5, 'dairi': 5, 'maid': 3, 'pud': 7, 'contain': 10, 'moodi': 2, 'hen': 16, 'wish': 1, 'thank': 3, 'planter': 6, 'stripey': 2, 'dragon': 2, 'ruler': 5, 'digitali': 1, 'post': 5, 'milkshak': 1, 'babi': 9, 'chart': 1, 'figur': 1, 'shine': 1, 'armi': 2, 'camo': 1, 'bookcov': 2, 'carrot': 1, 'chick': 19, 'chunki': 9, 'tassel': 4, 'glass+bead': 2, 'livingroom': 1, 'posi': 5, 'vine': 1, 'food/drink': 1, 'lilac': 3, 'juici': 2, 'creepi': 2, 'crawli': 2, 'memoboard': 1, 'wash': 2, 'cafe': 3, 'bow': 4, 'brooch': 5, 'amethyst': 9, 'pair': 7, 'hairclip': 3, 'gemston': 5, 'drop': 23, 'earring': 49, 'hoop': 9, 'leaf': 19, 'clam': 2, 'shell': 21, 'cockl': 1, 'fob': 5, 'garag': 2, 'chopstick': 3, 'frog': 8, 'puppet': 3, 'wine': 3, 'candlestand': 1, 'gaoler': 1, 'champagn': 2, 'curio': 3, 'fan': 7, 'charg': 2, 'butter': 3, 'farm': 5, 'snowstorm': 1, 'tinsel': 2, 'space': 6, 'cadet': 3, 'monster': 6, 'citronella': 3, 'folk': 3, 'burst': 1, 'fanni': 1, 'rest': 3, 'stopmet': 1, 'way': 2, 'corona': 1, 'weekend': 1, 'fish': 2, 'gnome': 4, 'coland': 1, 'blue/cream': 1, 'strawberi': 2, 'shop': 12, 'washbag': 8, 'feng': 1, 'shui': 1, 'pillar': 2, 'novelti': 1, 'toastrack': 1, 'rustic': 3, 'bead': 38, 'croquet': 1, 'choc': 4, 'truffl': 1, 'cabin': 2, 'knit': 1, 'nanci': 1, 'throw': 2, 'lush': 1, 'necklace+bracelet': 5, 'salad': 2, 'check': 4, 'ludo': 1, 'la': 4, 'palmiera': 3, 'display': 2, 'pack/12': 3, 'secateur': 1, 'lei': 1, 'camphor': 5, 'field': 3, 'portobello': 1, 'fairy,5': 1, 'summer': 5, \"b'draw\": 1, 'liner': 3, 'blue/yellow': 1, 'green/blu': 1, 'yellow/pink': 1, 'a5': 1, 'neighbourhood': 2, 'witch': 2, 'pharmaci': 1, 'naughti': 1, 'sound': 1, 'hello': 2, 'sailor': 2, 'bewar': 1, 'cinnamon': 1, 'jasmin': 2, 'bone': 2, 'circl': 9, 'midnight': 7, 'glamour': 1, 'frappucino': 1, 'phone': 9, 'blue/green': 1, 'pendant': 5, 'spirit': 1, 'skirt': 2, 'mous': 3, 't-shirt': 1, 'jewel': 13, 'nurs': 1, 'melamin': 1, 'wool': 2, 'peacock': 1, 'footprint': 1, 'album': 4, 'gardenia': 2, 'multi': 3, 'mousey': 1, 'laundri': 1, 'cactus': 3, 'cockerel': 3, 'bouquet': 2, 'danish': 8, 'cast': 2, 'iron': 5, 'fork': 5, 'trowel': 3, 'pearl': 12, 'lime': 2, 'boudicca': 10, 'pennant': 1, 'label': 1, 'ream': 1, 'pop': 3, 'poncho': 2, 'flask': 2, 'keyr': 2, 'chair': 5, 'petit': 2, 'dream': 2, 'windsock': 1, 'microwav': 3, 'delight': 2, 'organis': 7, 'leap': 1, 'silicon': 2, 'bulb': 1, 'seat': 2, 'madra': 3, 'feather': 7, 'sandalwood': 1, 'rocket': 2, 'sombrero': 1, 'bitti': 2, 'stone': 5, 'glow': 2, 'tiara': 1, 'robin': 1, 'kensington': 1, 'set/12': 1, 'mobil': 7, 's/12': 2, 'bib': 2, 'teatim': 6, 'flu': 1, 'embroideri': 2, 'ashtray': 4, 'shower': 2, 'cap': 2, 'queen': 4, 'sky': 4, 'economi': 2, 'oil': 3, 'burner': 2, 'notelet': 1, 'deco': 4, 'w/knif': 1, 'deco.whit': 1, 'sage': 1, 'flowerpot': 1, 'paperweight': 2, 'carry-al': 1, 'balm': 1, 'tumbler': 3, 'brown': 3, 'travelogu': 2, 'pink/whit': 1, 'clean': 1, 'bullet': 1, 'puppi': 1, 'sunris': 1, 'carousel': 6, 'sunglass': 2, 'blackchristma': 1, 'sweeti': 1, 'wireless': 1, 'doorbel': 1, 'lattic': 6, 'neckl': 4, 'bronz': 1, 'smokey': 2, 'd.o.f': 1, 'pouri': 1, 'windmil': 5, 'pale': 1, 'bea': 1, 'mao': 1, 'goos': 4, 'bear': 3, 'du': 1, 'cosmet': 1, 'flytrap': 1, 'sunflow': 2, 'butterfl': 1, 'pouff': 2, 'regatta': 1, 'budah': 1, 'wise': 1, 'potion': 1, 'masala': 2, 'favourit': 1, 'banquet': 1, 'xmas': 1, 'nut': 2, 'basin': 1, 'eau': 5, 'tigri': 1, 'eye': 1, 'vinyl': 1, 'las': 4, 'vega': 2, 'mould': 4, 'voil': 2, 'pointi': 1, 'k': 1, 'address': 1, 'stool': 5, 'photofram': 3, 'jungl': 2, 'popsicl': 2, 'twine': 1, 'rnd': 1, 'str': 1, 'strap': 2, 'beauti': 1, 'cd': 2, 'gebra': 1, 'shutter': 1, 'seafood': 1, 'compact': 3, 'magic': 7, 'octagon': 1, 'diva': 1, 'chime': 1, 'neckl.36': 3, 'fold': 1, 'edg': 1, 'forti': 1, 'blood': 1, 'coney': 1, 'island': 2, 'pompom': 1, 'curtain': 9, 'grass': 2, 'mix': 1, 'rosett': 1, 'welcom': 1, 'class': 3, 'plaqu': 2, 'popart': 2, 'rect': 2, 'sharpen': 5, 'asst': 2, 'tortilla': 1, 'w/sucker': 1, 'origami': 4, 'incense/candl': 4, 'opium': 2, 'sandlewood': 2, 'incense/cand': 1, 'rococo': 4, 'sprig': 1, 'cage': 1, 'strawbri': 1, 'mosaic': 3, 'goblet': 2, 'highlight': 1, 'kitten': 1, 'silver/amethyst': 1, 'slide': 5, 'cartoon': 1, 'vip': 2, 'doc': 1, 'russel': 1, 'dad': 2, 'scroll': 1, 'marmalad': 1, 'garld': 2, 'neckl36': 2, 'copper': 7, 'turq': 3, 'sunda': 3, 'droplet': 3, 'murano': 9, 'twist': 7, 'race': 1, 'silouett': 1, 'demi': 1, 'choker': 1, 'orbit': 14, 'pastel': 10, 'flow': 2, 'beaten': 3, 'charger': 2, 'aperitif': 2, 'spice': 1, 'cannist': 2, 'berti': 4, 'steel': 2, 'mr': 1, 'vippassport': 1, 'asstd': 2, 'butterfly/cryst': 1, 'w/chime': 1, 'screwdriv': 1, 'spacebal': 1, 'mrs': 1, 'princ': 1, 'chalic': 3, 'blackboard': 2, 'ice': 6, 'bum': 1, 'roccoco': 1, 'chandeli': 4, 'fli': 2, 'swat': 2, 'sheep': 1, 'fruitbowl': 2, 'freshwat': 1, 'pink/amethyst': 1, 'teal/fuschia': 1, 'botan': 2, 'groovi': 2, 'fruit+flow': 1, 'blackblu': 1, 'bus': 1, 'enamel+glass': 3, 'comb': 5, 'diamond': 3, 'incense+flow': 1, 'fluffi': 2, 'desk': 1, 'mock': 1, 'lobster': 1, 'diamon': 1, 'raspberr': 1, 'lazer': 1, 'amber': 1, 'band': 2, 'delphinium': 2, 'white/pink': 6, 'toybox': 1, 'banner': 1, 'm.o.p': 6, 'cannabi': 1, 'd': 1, 'dark': 1, 'dolphin': 2, 'wheelbarrow': 1, 'rake': 1, 'frangipani': 3, 'rosebud': 6, 'chenill': 1, 'box/12': 1, 'ladl': 2, 'wed': 2, 'briar': 1, 'poodl': 1, 'pink/flow': 1, 'wast': 1, 'carpet': 1, 'flamingo': 1, 'bar': 2, 'condiment': 1, 'hilda': 1, 'congratul': 1, 'icon': 3, 'elvi': 2, 'drawstr': 1, 'hare': 1, 'gordon': 1, 'pool': 1, 'sister': 1, 'citrus': 1, 'beetl': 1, 'crystal+glass': 3, 'resin': 2, 'ridg': 1, 'cruso': 1, 'veget': 1, 'flore': 1, 'doiley': 18, 'multicol': 1, 'blond': 1, 'glass/silv': 3, 'hunt': 3, 'start': 3, 'rasta': 2, 'key-chain': 1, 'back': 1, 'hen+chick': 2, 'petal': 2, 'candystuft': 1, 'st': 4, 'georg': 4, 'savannah': 1, 'hamper': 2, 'barn': 1, 'red/cream': 1, 'r': 1, 'sued': 2, 'oyster': 1, 'flame': 2, 'lens': 1, 'support': 1, 'g': 1, 'ceram': 2, 'rectangular': 1, 'unit': 2, 'ivi': 1, 's/2': 1, 'list': 6, 'cutglass': 1, 'gold/m.o.p': 1, 'silver/m.o.p': 1, 'roman': 1, 'peach': 2, 'bazaar': 1, 'tranquil': 1, 'gauz': 2, 'radio': 2, 'buddha': 1, 'pet': 1, 'revolutionari': 1, 'tie': 4, 'jade': 2, 'cluster': 7, 'sea': 2, 'windchim': 1, 'pom-pom': 1, 'vint': 3, 'blue/nat': 1, 'silver/nat': 1, 'hopper': 1, 'pole': 2, 'mont': 2, 'carlo': 2, 'wallet': 13, 'meadow': 1, 'transport': 1, 'calm': 9, 'giraff': 1, 'revolv': 1, 'pill': 2, 'ticket': 1, 'dotcomgiftshop': 1, 'raspberri': 2, 'berri': 1, 'scallop': 1, 'bling': 1, 'riviera': 2, 'heaven': 1, 'fragranc': 1, 'anemon': 1, 'allium': 1, 'artifici': 1, 'buffalo': 4, 'bill': 5, 'pastri': 1, 'dollcraft': 4, 'nicol': 1, 'mother': 1, 'corer': 1, 'tripl': 5, 'acapulco': 6, 'mat': 7, 'live': 1, 'jean-paul': 1, 'bull': 2, 'open': 1, 'guitar': 1, 'ol': 1, 'p': 1, 'splodg': 1, 'purple/turq': 1, 'hole': 1, 'punch': 1, 'bonbon': 1, 'ameli': 1, 'gem': 1, 'geometr': 1, 'lt.blue': 1, 'sanskrit': 1, '/': 1, 'turquoi': 1, 'kukui': 2, 'coconut': 2, 'lip': 3, 'gloss': 3, 'red/blu': 1, 'flower/butterfli': 1, 'mummi': 1, 'cupboard': 1, 'hibiscus': 1, 'nativ': 1, 'silver/black': 1, 'goldi': 1, 'hurrican': 1, 'backpack': 5, 'mop': 1, 'yellow/orang': 1, 'hardman': 1, 'tahiti': 1, 'aluminium': 1, 'parlour': 6, 'barrel': 1, 'mari': 3, 'antoienett': 1, 'miniatur': 1, 'gel': 1, 'cote': 1, \"d'azur\": 1, 'tropez': 1, 'tone': 1, 'page': 1, 'run': 1, 'laser': 1, 'tong': 1, 'come': 1, 'strainer': 2, 'zinc/glass': 1, 'point': 13, 'snow': 4, 'cinderella': 1, 'minitur': 1, 'antoinett': 2, 'l': 2, 'sequin': 1, 'spliff': 1, 'bundl': 4, 'exercis': 2, 'note': 1, 'suppli': 1, 'parisienn': 5, 'chic': 1, 'secret': 3, 'bedsid': 2, 'dispens': 3, 'bon': 4, 'montan': 1, 'gerden': 1, 'housework': 1, 'y': 1, 'peoni': 3, 'stiletto': 1, 'flowr': 1, 'capiz': 1, 'quartz': 1, 'braclet': 1, 'lt': 1, 'laurel': 2, 'rock': 1, 'olli': 1, 'beak': 1, 'ghost': 1, 'disc/mirror': 1, 'willi': 3, 'icicl': 2, 'push': 1, 'e': 1, 'knack': 7, 'gymkhana': 2, 'hold': 1, 'bubblegum': 1, 'h': 1, 'sleigh': 1, 'trim': 3, 'mid': 1, 'spike': 2, 'meter': 1, 'donkey': 1, 'perfum': 1, 'elixir': 1, 'songbird': 2, 'crackl': 4, 'glaze': 5, 'tonic': 1, 'doorknob': 4, 'bonn': 4, 'sword': 1, 'dispos': 1, 'handl': 1, 'hexagon': 1, 'notepad': 2, 'refectori': 3, 'reto': 1, 'madelin': 1, 'mark': 1, 'hens+flow': 1, 'sucker': 4, 'cracker': 3, 'brass': 1, 'hairslid': 3, 'loaf': 1, 'w/suck': 1, 'tablecloth': 1, 'bili': 1, 'poster': 1, 'park': 7, 'ceatur': 2, 'forest': 4, 'branch': 1, 'pink/blu': 1, 'frill': 1, 'adult': 1, 'jampot': 2, 'sex': 1, 'stuff': 1, 'bubbl': 1, 'patchwork': 1, 'utensil': 1, 'teddy/cak': 1, 'dotcom': 1, 'commiss': 1, 'franc': 1, 'foot': 1, 'bonheur': 1, 'botaniqu': 2, 'sweeet': 1, 'pant': 1, 'maker': 2, 'grinder': 2, 'linen': 3, 'spatula': 1, 'whisk': 1, 'toilett': 1, 'chambr': 1, 'le': 1, 'draw': 1, 'carri': 1, 'jubile': 1, 'rebecca': 1, 'rachel': 1, 'susi': 1, 'rucksack': 4, 'peridot': 1, 'sophi': 1, 'clair': 1, 'blk/whit': 1, 'villa': 5, 'dovecot': 2, 'bicycl': 7, 'saftey': 2, 'stop': 2, 'licenc': 2, 'haven': 1, 'ahoy': 2, 'natur': 2, 'show': 2, 'centuri': 1, 'modern': 1, 'work': 1, 'basebal': 2, 'boot': 2, 'feed': 1, 'station': 1, 'safeti': 1, 'metr': 1, 'triobas': 2, 'feeder': 2, 'henrietta': 3, 'carrier': 1, 'helga': 1, 'heidi': 1, 'resolut': 1, 'landmark': 6, 'bridg': 1, 'oxford': 1, 'street': 2, 'baker': 1, 'hill': 1, 'town': 1, 'miror': 1, 'decrotivevintag': 1, 'pick': 1, 'naught': 1, 'cross': 2, 'blueberri': 1, 'fondant': 1, 'chrome': 1, \"sil't\": 1, 'squ': 1, 'crome': 1, 'candle+incens': 1, 'panetton': 3, 'czech': 1, 'punctur': 1, 'countri': 1, 'f': 1, 'o': 1, 't': 1, 'z': 1, 'birdi': 1}\n"
          ],
          "name": "stdout"
        }
      ]
    },
    {
      "cell_type": "markdown",
      "metadata": {
        "id": "tTaqln8TNu-d",
        "colab_type": "text"
      },
      "source": [
        "## 3.2) Dictionary to list convert the `count_keywords` dictionary into a list, to sort the keywords according to their occurences, show the 5 most common"
      ]
    },
    {
      "cell_type": "code",
      "metadata": {
        "id": "8RVrmpSHN1Jx",
        "colab_type": "code",
        "colab": {}
      },
      "source": [
        "# turn the dict into a list and sort by nb of occurrences\n",
        "list_products = []\n",
        "\n",
        "for key, value in count_keywords.items():\n",
        "    list_products.append([key,value])"
      ],
      "execution_count": null,
      "outputs": []
    },
    {
      "cell_type": "code",
      "metadata": {
        "id": "w2oL6XaOG6ZQ",
        "colab_type": "code",
        "colab": {}
      },
      "source": [
        "list_products.sort(key = lambda x: x[1], reverse=True)"
      ],
      "execution_count": null,
      "outputs": []
    },
    {
      "cell_type": "code",
      "metadata": {
        "id": "mp7-ESJMNRdX",
        "colab_type": "code",
        "colab": {
          "base_uri": "https://localhost:8080/",
          "height": 33
        },
        "outputId": "53a6a768-a0bb-4908-a57a-4108bad3f062"
      },
      "source": [
        "list_products[0:5]"
      ],
      "execution_count": null,
      "outputs": [
        {
          "output_type": "execute_result",
          "data": {
            "text/plain": [
              "[['heart', 267], ['vintag', 211], ['set', 206], ['pink', 189], ['bag', 165]]"
            ]
          },
          "metadata": {
            "tags": []
          },
          "execution_count": 8
        }
      ]
    },
    {
      "cell_type": "markdown",
      "metadata": {
        "id": "HFk2zmrhN7UY",
        "colab_type": "text"
      },
      "source": [
        "## 3.3) Plot the words"
      ]
    },
    {
      "cell_type": "code",
      "metadata": {
        "id": "6wOJ0DRsJ7lt",
        "colab_type": "code",
        "colab": {}
      },
      "source": [
        "most_common = list_products[0:25]"
      ],
      "execution_count": null,
      "outputs": []
    },
    {
      "cell_type": "code",
      "metadata": {
        "id": "R_Pp7dp1S8o-",
        "colab_type": "code",
        "colab": {
          "base_uri": "https://localhost:8080/",
          "height": 650
        },
        "outputId": "42b41b35-b7cd-4e5f-eaa5-a7a7ba6ea205"
      },
      "source": [
        "import matplotlib.pyplot as plt\n",
        "liste = list_products\n",
        "N_words = 25\n",
        "#\n",
        "plt.rc('font', weight='normal')\n",
        "fig, ax = plt.subplots(figsize=(7, 10))\n",
        "y_axis = [i[1] for i in liste[:N_words]]\n",
        "x_axis = [k for k,i in enumerate(liste[:N_words])]\n",
        "x_label = [i[0] for i in liste[:N_words]]\n",
        "plt.xticks(fontsize = 15)\n",
        "plt.yticks(fontsize = 13)\n",
        "plt.yticks(x_axis, x_label)\n",
        "plt.xlabel(\"Nb. of occurences\", fontsize = 18, labelpad = 10)\n",
        "ax.barh(x_axis, y_axis, align = 'center')\n",
        "ax = plt.gca()\n",
        "ax.invert_yaxis()\n",
        "#\n",
        "plt.title(\"Words occurence\", bbox={'facecolor':'k', 'pad':5}, color='w',fontsize = 25)\n",
        "plt.show()"
      ],
      "execution_count": null,
      "outputs": [
        {
          "output_type": "display_data",
          "data": {
            "image/png": "[encoded data removed]",
            "text/plain": [
              "<Figure size 504x720 with 1 Axes>"
            ]
          },
          "metadata": {
            "tags": [],
            "needs_background": "light"
          }
        }
      ]
    },
    {
      "cell_type": "markdown",
      "metadata": {
        "id": "WVqH9iH8OIAo",
        "colab_type": "text"
      },
      "source": [
        "## 3.4) Remove urrelevant words\n",
        "There are about 1480 keywords, but some of them are useless like colors. That's why we discard keywords which are too short (less than 3 charaters), colors, occur less than 13 times, or contain '+', '/'. "
      ]
    },
    {
      "cell_type": "code",
      "metadata": {
        "id": "VtVfNjVpW2U0",
        "colab_type": "code",
        "colab": {
          "base_uri": "https://localhost:8080/",
          "height": 102
        },
        "outputId": "69cbee16-8f4f-466b-97f3-d450c3d29c9c"
      },
      "source": [
        "!pip install colour"
      ],
      "execution_count": null,
      "outputs": [
        {
          "output_type": "stream",
          "text": [
            "Collecting colour\n",
            "  Downloading https://files.pythonhosted.org/packages/74/46/e81907704ab203206769dee1385dc77e1407576ff8f50a0681d0a6b541be/colour-0.1.5-py2.py3-none-any.whl\n",
            "Installing collected packages: colour\n",
            "Successfully installed colour-0.1.5\n"
          ],
          "name": "stdout"
        }
      ]
    },
    {
      "cell_type": "code",
      "metadata": {
        "id": "HogE6Or1WzPX",
        "colab_type": "code",
        "colab": {}
      },
      "source": [
        "from colour import Color\n",
        "def check_color(color):\n",
        "    try:\n",
        "        Color(color)\n",
        "        return True\n",
        "    except ValueError:\n",
        "        return False"
      ],
      "execution_count": null,
      "outputs": []
    },
    {
      "cell_type": "code",
      "metadata": {
        "id": "zvHNmQo3PLCa",
        "colab_type": "code",
        "colab": {
          "base_uri": "https://localhost:8080/",
          "height": 33
        },
        "outputId": "d27f5f19-8b17-4c98-db97-cf9e991e2284"
      },
      "source": [
        "relevant_words = [x for x in list_products if x[1] > 12]\n",
        "relevant_words = [x for x in relevant_words if len(x[0]) > 2]\n",
        "relevant_words = [word for word in relevant_words if not check_color(word[0])] \n",
        "relevant_words = [word for word in relevant_words if not ('+' in word[0]) or ('/' in word[0])] \n",
        "len(relevant_words)"
      ],
      "execution_count": null,
      "outputs": [
        {
          "output_type": "execute_result",
          "data": {
            "text/plain": [
              "192"
            ]
          },
          "metadata": {
            "tags": []
          },
          "execution_count": 14
        }
      ]
    },
    {
      "cell_type": "markdown",
      "metadata": {
        "id": "7WVc0nlKOPJS",
        "colab_type": "text"
      },
      "source": [
        "## 3.5) Encoding of words\n",
        "Define a matrix `X` with 192 columns - 192 key words above as categories rows correspond to items of unique_products (unique descriptions of the cleaned data): \n",
        "For each unique description (you should have 3878 of them) and for each 192 of key words you need to get 0 or 1: is this word in this description or not.\n"
      ]
    },
    {
      "cell_type": "code",
      "metadata": {
        "id": "8gexdnTbccyo",
        "colab_type": "code",
        "colab": {
          "base_uri": "https://localhost:8080/",
          "height": 191
        },
        "outputId": "cabfeb93-a051-4afa-c695-a2626523896e"
      },
      "source": [
        "df_produits.head()"
      ],
      "execution_count": null,
      "outputs": [
        {
          "output_type": "execute_result",
          "data": {
            "text/html": [
              "<div>\n",
              "<style scoped>\n",
              "    .dataframe tbody tr th:only-of-type {\n",
              "        vertical-align: middle;\n",
              "    }\n",
              "\n",
              "    .dataframe tbody tr th {\n",
              "        vertical-align: top;\n",
              "    }\n",
              "\n",
              "    .dataframe thead th {\n",
              "        text-align: right;\n",
              "    }\n",
              "</style>\n",
              "<table border=\"1\" class=\"dataframe\">\n",
              "  <thead>\n",
              "    <tr style=\"text-align: right;\">\n",
              "      <th></th>\n",
              "      <th>Description</th>\n",
              "    </tr>\n",
              "  </thead>\n",
              "  <tbody>\n",
              "    <tr>\n",
              "      <th>0</th>\n",
              "      <td>WHITE HANGING HEART T-LIGHT HOLDER</td>\n",
              "    </tr>\n",
              "    <tr>\n",
              "      <th>1</th>\n",
              "      <td>WHITE METAL LANTERN</td>\n",
              "    </tr>\n",
              "    <tr>\n",
              "      <th>2</th>\n",
              "      <td>CREAM CUPID HEARTS COAT HANGER</td>\n",
              "    </tr>\n",
              "    <tr>\n",
              "      <th>3</th>\n",
              "      <td>KNITTED UNION FLAG HOT WATER BOTTLE</td>\n",
              "    </tr>\n",
              "    <tr>\n",
              "      <th>4</th>\n",
              "      <td>RED WOOLLY HOTTIE WHITE HEART.</td>\n",
              "    </tr>\n",
              "  </tbody>\n",
              "</table>\n",
              "</div>"
            ],
            "text/plain": [
              "                           Description\n",
              "0   WHITE HANGING HEART T-LIGHT HOLDER\n",
              "1                  WHITE METAL LANTERN\n",
              "2       CREAM CUPID HEARTS COAT HANGER\n",
              "3  KNITTED UNION FLAG HOT WATER BOTTLE\n",
              "4       RED WOOLLY HOTTIE WHITE HEART."
            ]
          },
          "metadata": {
            "tags": []
          },
          "execution_count": 15
        }
      ]
    },
    {
      "cell_type": "code",
      "metadata": {
        "id": "SuChBujUhmM5",
        "colab_type": "code",
        "colab": {
          "base_uri": "https://localhost:8080/",
          "height": 255
        },
        "outputId": "85578c50-f3e9-4a32-da14-44c11be0c80a"
      },
      "source": [
        "unique_products = df_cleaned['Description'].unique()\n",
        "X = pd.DataFrame()\n",
        "for key, occurence in relevant_words:\n",
        "    X.loc[:, key] = list(map(lambda x:int(key.upper() in x), unique_products))\n",
        "print(X.shape)\n",
        "X.head()"
      ],
      "execution_count": null,
      "outputs": [
        {
          "output_type": "stream",
          "text": [
            "(3878, 192)\n"
          ],
          "name": "stdout"
        },
        {
          "output_type": "execute_result",
          "data": {
            "text/html": [
              "<div>\n",
              "<style scoped>\n",
              "    .dataframe tbody tr th:only-of-type {\n",
              "        vertical-align: middle;\n",
              "    }\n",
              "\n",
              "    .dataframe tbody tr th {\n",
              "        vertical-align: top;\n",
              "    }\n",
              "\n",
              "    .dataframe thead th {\n",
              "        text-align: right;\n",
              "    }\n",
              "</style>\n",
              "<table border=\"1\" class=\"dataframe\">\n",
              "  <thead>\n",
              "    <tr style=\"text-align: right;\">\n",
              "      <th></th>\n",
              "      <th>heart</th>\n",
              "      <th>vintag</th>\n",
              "      <th>set</th>\n",
              "      <th>bag</th>\n",
              "      <th>box</th>\n",
              "      <th>glass</th>\n",
              "      <th>christma</th>\n",
              "      <th>design</th>\n",
              "      <th>candl</th>\n",
              "      <th>holder</th>\n",
              "      <th>flower</th>\n",
              "      <th>decor</th>\n",
              "      <th>metal</th>\n",
              "      <th>retrospot</th>\n",
              "      <th>card</th>\n",
              "      <th>necklac</th>\n",
              "      <th>paper</th>\n",
              "      <th>art</th>\n",
              "      <th>cake</th>\n",
              "      <th>polkadot</th>\n",
              "      <th>cover</th>\n",
              "      <th>mug</th>\n",
              "      <th>tin</th>\n",
              "      <th>wrap</th>\n",
              "      <th>sign</th>\n",
              "      <th>pack</th>\n",
              "      <th>egg</th>\n",
              "      <th>bracelet</th>\n",
              "      <th>star</th>\n",
              "      <th>bowl</th>\n",
              "      <th>mini</th>\n",
              "      <th>tea</th>\n",
              "      <th>garden</th>\n",
              "      <th>wall</th>\n",
              "      <th>ivori</th>\n",
              "      <th>cushion</th>\n",
              "      <th>frame</th>\n",
              "      <th>mirror</th>\n",
              "      <th>cream</th>\n",
              "      <th>home</th>\n",
              "      <th>...</th>\n",
              "      <th>doili</th>\n",
              "      <th>biscuit</th>\n",
              "      <th>regenc</th>\n",
              "      <th>hen</th>\n",
              "      <th>jigsaw</th>\n",
              "      <th>rack</th>\n",
              "      <th>coaster</th>\n",
              "      <th>money</th>\n",
              "      <th>cottag</th>\n",
              "      <th>incens</th>\n",
              "      <th>crystal</th>\n",
              "      <th>tag</th>\n",
              "      <th>medium</th>\n",
              "      <th>dish</th>\n",
              "      <th>imag</th>\n",
              "      <th>pictur</th>\n",
              "      <th>wooden</th>\n",
              "      <th>piec</th>\n",
              "      <th>bathroom</th>\n",
              "      <th>girl</th>\n",
              "      <th>fruit</th>\n",
              "      <th>child</th>\n",
              "      <th>pan</th>\n",
              "      <th>food</th>\n",
              "      <th>orbit</th>\n",
              "      <th>alphabet</th>\n",
              "      <th>toadstool</th>\n",
              "      <th>time</th>\n",
              "      <th>milk</th>\n",
              "      <th>funki</th>\n",
              "      <th>tidi</th>\n",
              "      <th>plant</th>\n",
              "      <th>diner</th>\n",
              "      <th>hous</th>\n",
              "      <th>squar</th>\n",
              "      <th>craft</th>\n",
              "      <th>lace</th>\n",
              "      <th>jewel</th>\n",
              "      <th>wallet</th>\n",
              "      <th>point</th>\n",
              "    </tr>\n",
              "  </thead>\n",
              "  <tbody>\n",
              "    <tr>\n",
              "      <th>0</th>\n",
              "      <td>1</td>\n",
              "      <td>0</td>\n",
              "      <td>0</td>\n",
              "      <td>0</td>\n",
              "      <td>0</td>\n",
              "      <td>0</td>\n",
              "      <td>0</td>\n",
              "      <td>0</td>\n",
              "      <td>0</td>\n",
              "      <td>1</td>\n",
              "      <td>0</td>\n",
              "      <td>0</td>\n",
              "      <td>0</td>\n",
              "      <td>0</td>\n",
              "      <td>0</td>\n",
              "      <td>0</td>\n",
              "      <td>0</td>\n",
              "      <td>1</td>\n",
              "      <td>0</td>\n",
              "      <td>0</td>\n",
              "      <td>0</td>\n",
              "      <td>0</td>\n",
              "      <td>0</td>\n",
              "      <td>0</td>\n",
              "      <td>0</td>\n",
              "      <td>0</td>\n",
              "      <td>0</td>\n",
              "      <td>0</td>\n",
              "      <td>0</td>\n",
              "      <td>0</td>\n",
              "      <td>0</td>\n",
              "      <td>0</td>\n",
              "      <td>0</td>\n",
              "      <td>0</td>\n",
              "      <td>0</td>\n",
              "      <td>0</td>\n",
              "      <td>0</td>\n",
              "      <td>0</td>\n",
              "      <td>0</td>\n",
              "      <td>0</td>\n",
              "      <td>...</td>\n",
              "      <td>0</td>\n",
              "      <td>0</td>\n",
              "      <td>0</td>\n",
              "      <td>0</td>\n",
              "      <td>0</td>\n",
              "      <td>0</td>\n",
              "      <td>0</td>\n",
              "      <td>0</td>\n",
              "      <td>0</td>\n",
              "      <td>0</td>\n",
              "      <td>0</td>\n",
              "      <td>0</td>\n",
              "      <td>0</td>\n",
              "      <td>0</td>\n",
              "      <td>0</td>\n",
              "      <td>0</td>\n",
              "      <td>0</td>\n",
              "      <td>0</td>\n",
              "      <td>0</td>\n",
              "      <td>0</td>\n",
              "      <td>0</td>\n",
              "      <td>0</td>\n",
              "      <td>0</td>\n",
              "      <td>0</td>\n",
              "      <td>0</td>\n",
              "      <td>0</td>\n",
              "      <td>0</td>\n",
              "      <td>0</td>\n",
              "      <td>0</td>\n",
              "      <td>0</td>\n",
              "      <td>0</td>\n",
              "      <td>0</td>\n",
              "      <td>0</td>\n",
              "      <td>0</td>\n",
              "      <td>0</td>\n",
              "      <td>0</td>\n",
              "      <td>0</td>\n",
              "      <td>0</td>\n",
              "      <td>0</td>\n",
              "      <td>0</td>\n",
              "    </tr>\n",
              "    <tr>\n",
              "      <th>1</th>\n",
              "      <td>0</td>\n",
              "      <td>0</td>\n",
              "      <td>0</td>\n",
              "      <td>0</td>\n",
              "      <td>0</td>\n",
              "      <td>0</td>\n",
              "      <td>0</td>\n",
              "      <td>0</td>\n",
              "      <td>0</td>\n",
              "      <td>0</td>\n",
              "      <td>0</td>\n",
              "      <td>0</td>\n",
              "      <td>1</td>\n",
              "      <td>0</td>\n",
              "      <td>0</td>\n",
              "      <td>0</td>\n",
              "      <td>0</td>\n",
              "      <td>0</td>\n",
              "      <td>0</td>\n",
              "      <td>0</td>\n",
              "      <td>0</td>\n",
              "      <td>0</td>\n",
              "      <td>0</td>\n",
              "      <td>0</td>\n",
              "      <td>0</td>\n",
              "      <td>0</td>\n",
              "      <td>0</td>\n",
              "      <td>0</td>\n",
              "      <td>0</td>\n",
              "      <td>0</td>\n",
              "      <td>0</td>\n",
              "      <td>0</td>\n",
              "      <td>0</td>\n",
              "      <td>0</td>\n",
              "      <td>0</td>\n",
              "      <td>0</td>\n",
              "      <td>0</td>\n",
              "      <td>0</td>\n",
              "      <td>0</td>\n",
              "      <td>0</td>\n",
              "      <td>...</td>\n",
              "      <td>0</td>\n",
              "      <td>0</td>\n",
              "      <td>0</td>\n",
              "      <td>0</td>\n",
              "      <td>0</td>\n",
              "      <td>0</td>\n",
              "      <td>0</td>\n",
              "      <td>0</td>\n",
              "      <td>0</td>\n",
              "      <td>0</td>\n",
              "      <td>0</td>\n",
              "      <td>0</td>\n",
              "      <td>0</td>\n",
              "      <td>0</td>\n",
              "      <td>0</td>\n",
              "      <td>0</td>\n",
              "      <td>0</td>\n",
              "      <td>0</td>\n",
              "      <td>0</td>\n",
              "      <td>0</td>\n",
              "      <td>0</td>\n",
              "      <td>0</td>\n",
              "      <td>0</td>\n",
              "      <td>0</td>\n",
              "      <td>0</td>\n",
              "      <td>0</td>\n",
              "      <td>0</td>\n",
              "      <td>0</td>\n",
              "      <td>0</td>\n",
              "      <td>0</td>\n",
              "      <td>0</td>\n",
              "      <td>0</td>\n",
              "      <td>0</td>\n",
              "      <td>0</td>\n",
              "      <td>0</td>\n",
              "      <td>0</td>\n",
              "      <td>0</td>\n",
              "      <td>0</td>\n",
              "      <td>0</td>\n",
              "      <td>0</td>\n",
              "    </tr>\n",
              "    <tr>\n",
              "      <th>2</th>\n",
              "      <td>1</td>\n",
              "      <td>0</td>\n",
              "      <td>0</td>\n",
              "      <td>0</td>\n",
              "      <td>0</td>\n",
              "      <td>0</td>\n",
              "      <td>0</td>\n",
              "      <td>0</td>\n",
              "      <td>0</td>\n",
              "      <td>0</td>\n",
              "      <td>0</td>\n",
              "      <td>0</td>\n",
              "      <td>0</td>\n",
              "      <td>0</td>\n",
              "      <td>0</td>\n",
              "      <td>0</td>\n",
              "      <td>0</td>\n",
              "      <td>1</td>\n",
              "      <td>0</td>\n",
              "      <td>0</td>\n",
              "      <td>0</td>\n",
              "      <td>0</td>\n",
              "      <td>0</td>\n",
              "      <td>0</td>\n",
              "      <td>0</td>\n",
              "      <td>0</td>\n",
              "      <td>0</td>\n",
              "      <td>0</td>\n",
              "      <td>0</td>\n",
              "      <td>0</td>\n",
              "      <td>0</td>\n",
              "      <td>0</td>\n",
              "      <td>0</td>\n",
              "      <td>0</td>\n",
              "      <td>0</td>\n",
              "      <td>0</td>\n",
              "      <td>0</td>\n",
              "      <td>0</td>\n",
              "      <td>1</td>\n",
              "      <td>0</td>\n",
              "      <td>...</td>\n",
              "      <td>0</td>\n",
              "      <td>0</td>\n",
              "      <td>0</td>\n",
              "      <td>0</td>\n",
              "      <td>0</td>\n",
              "      <td>0</td>\n",
              "      <td>0</td>\n",
              "      <td>0</td>\n",
              "      <td>0</td>\n",
              "      <td>0</td>\n",
              "      <td>0</td>\n",
              "      <td>0</td>\n",
              "      <td>0</td>\n",
              "      <td>0</td>\n",
              "      <td>0</td>\n",
              "      <td>0</td>\n",
              "      <td>0</td>\n",
              "      <td>0</td>\n",
              "      <td>0</td>\n",
              "      <td>0</td>\n",
              "      <td>0</td>\n",
              "      <td>0</td>\n",
              "      <td>0</td>\n",
              "      <td>0</td>\n",
              "      <td>0</td>\n",
              "      <td>0</td>\n",
              "      <td>0</td>\n",
              "      <td>0</td>\n",
              "      <td>0</td>\n",
              "      <td>0</td>\n",
              "      <td>0</td>\n",
              "      <td>0</td>\n",
              "      <td>0</td>\n",
              "      <td>0</td>\n",
              "      <td>0</td>\n",
              "      <td>0</td>\n",
              "      <td>0</td>\n",
              "      <td>0</td>\n",
              "      <td>0</td>\n",
              "      <td>0</td>\n",
              "    </tr>\n",
              "    <tr>\n",
              "      <th>3</th>\n",
              "      <td>0</td>\n",
              "      <td>0</td>\n",
              "      <td>0</td>\n",
              "      <td>0</td>\n",
              "      <td>0</td>\n",
              "      <td>0</td>\n",
              "      <td>0</td>\n",
              "      <td>0</td>\n",
              "      <td>0</td>\n",
              "      <td>0</td>\n",
              "      <td>0</td>\n",
              "      <td>0</td>\n",
              "      <td>0</td>\n",
              "      <td>0</td>\n",
              "      <td>0</td>\n",
              "      <td>0</td>\n",
              "      <td>0</td>\n",
              "      <td>0</td>\n",
              "      <td>0</td>\n",
              "      <td>0</td>\n",
              "      <td>0</td>\n",
              "      <td>0</td>\n",
              "      <td>0</td>\n",
              "      <td>0</td>\n",
              "      <td>0</td>\n",
              "      <td>0</td>\n",
              "      <td>0</td>\n",
              "      <td>0</td>\n",
              "      <td>0</td>\n",
              "      <td>0</td>\n",
              "      <td>0</td>\n",
              "      <td>0</td>\n",
              "      <td>0</td>\n",
              "      <td>0</td>\n",
              "      <td>0</td>\n",
              "      <td>0</td>\n",
              "      <td>0</td>\n",
              "      <td>0</td>\n",
              "      <td>0</td>\n",
              "      <td>0</td>\n",
              "      <td>...</td>\n",
              "      <td>0</td>\n",
              "      <td>0</td>\n",
              "      <td>0</td>\n",
              "      <td>0</td>\n",
              "      <td>0</td>\n",
              "      <td>0</td>\n",
              "      <td>0</td>\n",
              "      <td>0</td>\n",
              "      <td>0</td>\n",
              "      <td>0</td>\n",
              "      <td>0</td>\n",
              "      <td>0</td>\n",
              "      <td>0</td>\n",
              "      <td>0</td>\n",
              "      <td>0</td>\n",
              "      <td>0</td>\n",
              "      <td>0</td>\n",
              "      <td>0</td>\n",
              "      <td>0</td>\n",
              "      <td>0</td>\n",
              "      <td>0</td>\n",
              "      <td>0</td>\n",
              "      <td>0</td>\n",
              "      <td>0</td>\n",
              "      <td>0</td>\n",
              "      <td>0</td>\n",
              "      <td>0</td>\n",
              "      <td>0</td>\n",
              "      <td>0</td>\n",
              "      <td>0</td>\n",
              "      <td>0</td>\n",
              "      <td>0</td>\n",
              "      <td>0</td>\n",
              "      <td>0</td>\n",
              "      <td>0</td>\n",
              "      <td>0</td>\n",
              "      <td>0</td>\n",
              "      <td>0</td>\n",
              "      <td>0</td>\n",
              "      <td>0</td>\n",
              "    </tr>\n",
              "    <tr>\n",
              "      <th>4</th>\n",
              "      <td>1</td>\n",
              "      <td>0</td>\n",
              "      <td>0</td>\n",
              "      <td>0</td>\n",
              "      <td>0</td>\n",
              "      <td>0</td>\n",
              "      <td>0</td>\n",
              "      <td>0</td>\n",
              "      <td>0</td>\n",
              "      <td>0</td>\n",
              "      <td>0</td>\n",
              "      <td>0</td>\n",
              "      <td>0</td>\n",
              "      <td>0</td>\n",
              "      <td>0</td>\n",
              "      <td>0</td>\n",
              "      <td>0</td>\n",
              "      <td>1</td>\n",
              "      <td>0</td>\n",
              "      <td>0</td>\n",
              "      <td>0</td>\n",
              "      <td>0</td>\n",
              "      <td>0</td>\n",
              "      <td>0</td>\n",
              "      <td>0</td>\n",
              "      <td>0</td>\n",
              "      <td>0</td>\n",
              "      <td>0</td>\n",
              "      <td>0</td>\n",
              "      <td>0</td>\n",
              "      <td>0</td>\n",
              "      <td>0</td>\n",
              "      <td>0</td>\n",
              "      <td>0</td>\n",
              "      <td>0</td>\n",
              "      <td>0</td>\n",
              "      <td>0</td>\n",
              "      <td>0</td>\n",
              "      <td>0</td>\n",
              "      <td>0</td>\n",
              "      <td>...</td>\n",
              "      <td>0</td>\n",
              "      <td>0</td>\n",
              "      <td>0</td>\n",
              "      <td>0</td>\n",
              "      <td>0</td>\n",
              "      <td>0</td>\n",
              "      <td>0</td>\n",
              "      <td>0</td>\n",
              "      <td>0</td>\n",
              "      <td>0</td>\n",
              "      <td>0</td>\n",
              "      <td>0</td>\n",
              "      <td>0</td>\n",
              "      <td>0</td>\n",
              "      <td>0</td>\n",
              "      <td>0</td>\n",
              "      <td>0</td>\n",
              "      <td>0</td>\n",
              "      <td>0</td>\n",
              "      <td>0</td>\n",
              "      <td>0</td>\n",
              "      <td>0</td>\n",
              "      <td>0</td>\n",
              "      <td>0</td>\n",
              "      <td>0</td>\n",
              "      <td>0</td>\n",
              "      <td>0</td>\n",
              "      <td>0</td>\n",
              "      <td>0</td>\n",
              "      <td>0</td>\n",
              "      <td>0</td>\n",
              "      <td>0</td>\n",
              "      <td>0</td>\n",
              "      <td>0</td>\n",
              "      <td>0</td>\n",
              "      <td>0</td>\n",
              "      <td>0</td>\n",
              "      <td>0</td>\n",
              "      <td>0</td>\n",
              "      <td>0</td>\n",
              "    </tr>\n",
              "  </tbody>\n",
              "</table>\n",
              "<p>5 rows × 192 columns</p>\n",
              "</div>"
            ],
            "text/plain": [
              "   heart  vintag  set  bag  box  ...  craft  lace  jewel  wallet  point\n",
              "0      1       0    0    0    0  ...      0     0      0       0      0\n",
              "1      0       0    0    0    0  ...      0     0      0       0      0\n",
              "2      1       0    0    0    0  ...      0     0      0       0      0\n",
              "3      0       0    0    0    0  ...      0     0      0       0      0\n",
              "4      1       0    0    0    0  ...      0     0      0       0      0\n",
              "\n",
              "[5 rows x 192 columns]"
            ]
          },
          "metadata": {
            "tags": []
          },
          "execution_count": 16
        }
      ]
    },
    {
      "cell_type": "markdown",
      "metadata": {
        "id": "k-TjXo2FOjw8",
        "colab_type": "text"
      },
      "source": [
        "## 3.6) Range of UnitPrice feature\n",
        "We want to add new feature: how expensive is one unit of our stock. We want to make several features: price in regions: $[0,1], [1,2], [2,3], [3,5], [5,10], [10,\\infty)$\n"
      ]
    },
    {
      "cell_type": "code",
      "metadata": {
        "id": "zkaMjXuQkCO3",
        "colab_type": "code",
        "colab": {
          "base_uri": "https://localhost:8080/",
          "height": 33
        },
        "outputId": "d7e835a4-fd10-455d-fe66-99cb1087c8eb"
      },
      "source": [
        "len(df_cleaned['Description'].unique())"
      ],
      "execution_count": null,
      "outputs": [
        {
          "output_type": "execute_result",
          "data": {
            "text/plain": [
              "3878"
            ]
          },
          "metadata": {
            "tags": []
          },
          "execution_count": 17
        }
      ]
    },
    {
      "cell_type": "code",
      "metadata": {
        "id": "9oyF7i8TOSEQ",
        "colab_type": "code",
        "colab": {
          "base_uri": "https://localhost:8080/",
          "height": 255
        },
        "outputId": "c66dbb57-7e8b-42dc-f39d-e4ae3571f185"
      },
      "source": [
        "# add price ranges\n",
        "threshold = [0, 1, 2, 3, 5, 10]\n",
        "label_col = []\n",
        "\n",
        "#create column with names 0<.<1, 1<.<2, ...   5<.10, .>10\n",
        "for i in range(len(threshold)):\n",
        "    if i == len(threshold)-1:\n",
        "        col = '.>{}'.format(threshold[i])\n",
        "    else:\n",
        "        col = '{}<.<{}'.format(threshold[i],threshold[i+1])\n",
        "    label_col.append(col)\n",
        "    X.loc[:, col] = 0\n",
        "\n",
        "#use average price for each product decrciption.\n",
        "for i, prod in enumerate(unique_products):\n",
        "  price = df_cleaned[ df_cleaned['Description'] == prod]['UnitPrice'].mean()\n",
        "  j = 0\n",
        "  while price > threshold[j]:\n",
        "      j+=1\n",
        "      if j == len(threshold): break\n",
        "  X.loc[i, label_col[j-1]] = 1\n",
        "\n",
        "# You X shoud have 198 columns now\n",
        "\n",
        "X.head()"
      ],
      "execution_count": null,
      "outputs": [
        {
          "output_type": "execute_result",
          "data": {
            "text/html": [
              "<div>\n",
              "<style scoped>\n",
              "    .dataframe tbody tr th:only-of-type {\n",
              "        vertical-align: middle;\n",
              "    }\n",
              "\n",
              "    .dataframe tbody tr th {\n",
              "        vertical-align: top;\n",
              "    }\n",
              "\n",
              "    .dataframe thead th {\n",
              "        text-align: right;\n",
              "    }\n",
              "</style>\n",
              "<table border=\"1\" class=\"dataframe\">\n",
              "  <thead>\n",
              "    <tr style=\"text-align: right;\">\n",
              "      <th></th>\n",
              "      <th>heart</th>\n",
              "      <th>vintag</th>\n",
              "      <th>set</th>\n",
              "      <th>bag</th>\n",
              "      <th>box</th>\n",
              "      <th>glass</th>\n",
              "      <th>christma</th>\n",
              "      <th>design</th>\n",
              "      <th>candl</th>\n",
              "      <th>holder</th>\n",
              "      <th>flower</th>\n",
              "      <th>decor</th>\n",
              "      <th>metal</th>\n",
              "      <th>retrospot</th>\n",
              "      <th>card</th>\n",
              "      <th>necklac</th>\n",
              "      <th>paper</th>\n",
              "      <th>art</th>\n",
              "      <th>cake</th>\n",
              "      <th>polkadot</th>\n",
              "      <th>cover</th>\n",
              "      <th>mug</th>\n",
              "      <th>tin</th>\n",
              "      <th>wrap</th>\n",
              "      <th>sign</th>\n",
              "      <th>pack</th>\n",
              "      <th>egg</th>\n",
              "      <th>bracelet</th>\n",
              "      <th>star</th>\n",
              "      <th>bowl</th>\n",
              "      <th>mini</th>\n",
              "      <th>tea</th>\n",
              "      <th>garden</th>\n",
              "      <th>wall</th>\n",
              "      <th>ivori</th>\n",
              "      <th>cushion</th>\n",
              "      <th>frame</th>\n",
              "      <th>mirror</th>\n",
              "      <th>cream</th>\n",
              "      <th>home</th>\n",
              "      <th>...</th>\n",
              "      <th>coaster</th>\n",
              "      <th>money</th>\n",
              "      <th>cottag</th>\n",
              "      <th>incens</th>\n",
              "      <th>crystal</th>\n",
              "      <th>tag</th>\n",
              "      <th>medium</th>\n",
              "      <th>dish</th>\n",
              "      <th>imag</th>\n",
              "      <th>pictur</th>\n",
              "      <th>wooden</th>\n",
              "      <th>piec</th>\n",
              "      <th>bathroom</th>\n",
              "      <th>girl</th>\n",
              "      <th>fruit</th>\n",
              "      <th>child</th>\n",
              "      <th>pan</th>\n",
              "      <th>food</th>\n",
              "      <th>orbit</th>\n",
              "      <th>alphabet</th>\n",
              "      <th>toadstool</th>\n",
              "      <th>time</th>\n",
              "      <th>milk</th>\n",
              "      <th>funki</th>\n",
              "      <th>tidi</th>\n",
              "      <th>plant</th>\n",
              "      <th>diner</th>\n",
              "      <th>hous</th>\n",
              "      <th>squar</th>\n",
              "      <th>craft</th>\n",
              "      <th>lace</th>\n",
              "      <th>jewel</th>\n",
              "      <th>wallet</th>\n",
              "      <th>point</th>\n",
              "      <th>0&lt;.&lt;1</th>\n",
              "      <th>1&lt;.&lt;2</th>\n",
              "      <th>2&lt;.&lt;3</th>\n",
              "      <th>3&lt;.&lt;5</th>\n",
              "      <th>5&lt;.&lt;10</th>\n",
              "      <th>.&gt;10</th>\n",
              "    </tr>\n",
              "  </thead>\n",
              "  <tbody>\n",
              "    <tr>\n",
              "      <th>0</th>\n",
              "      <td>1</td>\n",
              "      <td>0</td>\n",
              "      <td>0</td>\n",
              "      <td>0</td>\n",
              "      <td>0</td>\n",
              "      <td>0</td>\n",
              "      <td>0</td>\n",
              "      <td>0</td>\n",
              "      <td>0</td>\n",
              "      <td>1</td>\n",
              "      <td>0</td>\n",
              "      <td>0</td>\n",
              "      <td>0</td>\n",
              "      <td>0</td>\n",
              "      <td>0</td>\n",
              "      <td>0</td>\n",
              "      <td>0</td>\n",
              "      <td>1</td>\n",
              "      <td>0</td>\n",
              "      <td>0</td>\n",
              "      <td>0</td>\n",
              "      <td>0</td>\n",
              "      <td>0</td>\n",
              "      <td>0</td>\n",
              "      <td>0</td>\n",
              "      <td>0</td>\n",
              "      <td>0</td>\n",
              "      <td>0</td>\n",
              "      <td>0</td>\n",
              "      <td>0</td>\n",
              "      <td>0</td>\n",
              "      <td>0</td>\n",
              "      <td>0</td>\n",
              "      <td>0</td>\n",
              "      <td>0</td>\n",
              "      <td>0</td>\n",
              "      <td>0</td>\n",
              "      <td>0</td>\n",
              "      <td>0</td>\n",
              "      <td>0</td>\n",
              "      <td>...</td>\n",
              "      <td>0</td>\n",
              "      <td>0</td>\n",
              "      <td>0</td>\n",
              "      <td>0</td>\n",
              "      <td>0</td>\n",
              "      <td>0</td>\n",
              "      <td>0</td>\n",
              "      <td>0</td>\n",
              "      <td>0</td>\n",
              "      <td>0</td>\n",
              "      <td>0</td>\n",
              "      <td>0</td>\n",
              "      <td>0</td>\n",
              "      <td>0</td>\n",
              "      <td>0</td>\n",
              "      <td>0</td>\n",
              "      <td>0</td>\n",
              "      <td>0</td>\n",
              "      <td>0</td>\n",
              "      <td>0</td>\n",
              "      <td>0</td>\n",
              "      <td>0</td>\n",
              "      <td>0</td>\n",
              "      <td>0</td>\n",
              "      <td>0</td>\n",
              "      <td>0</td>\n",
              "      <td>0</td>\n",
              "      <td>0</td>\n",
              "      <td>0</td>\n",
              "      <td>0</td>\n",
              "      <td>0</td>\n",
              "      <td>0</td>\n",
              "      <td>0</td>\n",
              "      <td>0</td>\n",
              "      <td>0</td>\n",
              "      <td>0</td>\n",
              "      <td>1</td>\n",
              "      <td>0</td>\n",
              "      <td>0</td>\n",
              "      <td>0</td>\n",
              "    </tr>\n",
              "    <tr>\n",
              "      <th>1</th>\n",
              "      <td>0</td>\n",
              "      <td>0</td>\n",
              "      <td>0</td>\n",
              "      <td>0</td>\n",
              "      <td>0</td>\n",
              "      <td>0</td>\n",
              "      <td>0</td>\n",
              "      <td>0</td>\n",
              "      <td>0</td>\n",
              "      <td>0</td>\n",
              "      <td>0</td>\n",
              "      <td>0</td>\n",
              "      <td>1</td>\n",
              "      <td>0</td>\n",
              "      <td>0</td>\n",
              "      <td>0</td>\n",
              "      <td>0</td>\n",
              "      <td>0</td>\n",
              "      <td>0</td>\n",
              "      <td>0</td>\n",
              "      <td>0</td>\n",
              "      <td>0</td>\n",
              "      <td>0</td>\n",
              "      <td>0</td>\n",
              "      <td>0</td>\n",
              "      <td>0</td>\n",
              "      <td>0</td>\n",
              "      <td>0</td>\n",
              "      <td>0</td>\n",
              "      <td>0</td>\n",
              "      <td>0</td>\n",
              "      <td>0</td>\n",
              "      <td>0</td>\n",
              "      <td>0</td>\n",
              "      <td>0</td>\n",
              "      <td>0</td>\n",
              "      <td>0</td>\n",
              "      <td>0</td>\n",
              "      <td>0</td>\n",
              "      <td>0</td>\n",
              "      <td>...</td>\n",
              "      <td>0</td>\n",
              "      <td>0</td>\n",
              "      <td>0</td>\n",
              "      <td>0</td>\n",
              "      <td>0</td>\n",
              "      <td>0</td>\n",
              "      <td>0</td>\n",
              "      <td>0</td>\n",
              "      <td>0</td>\n",
              "      <td>0</td>\n",
              "      <td>0</td>\n",
              "      <td>0</td>\n",
              "      <td>0</td>\n",
              "      <td>0</td>\n",
              "      <td>0</td>\n",
              "      <td>0</td>\n",
              "      <td>0</td>\n",
              "      <td>0</td>\n",
              "      <td>0</td>\n",
              "      <td>0</td>\n",
              "      <td>0</td>\n",
              "      <td>0</td>\n",
              "      <td>0</td>\n",
              "      <td>0</td>\n",
              "      <td>0</td>\n",
              "      <td>0</td>\n",
              "      <td>0</td>\n",
              "      <td>0</td>\n",
              "      <td>0</td>\n",
              "      <td>0</td>\n",
              "      <td>0</td>\n",
              "      <td>0</td>\n",
              "      <td>0</td>\n",
              "      <td>0</td>\n",
              "      <td>0</td>\n",
              "      <td>0</td>\n",
              "      <td>0</td>\n",
              "      <td>1</td>\n",
              "      <td>0</td>\n",
              "      <td>0</td>\n",
              "    </tr>\n",
              "    <tr>\n",
              "      <th>2</th>\n",
              "      <td>1</td>\n",
              "      <td>0</td>\n",
              "      <td>0</td>\n",
              "      <td>0</td>\n",
              "      <td>0</td>\n",
              "      <td>0</td>\n",
              "      <td>0</td>\n",
              "      <td>0</td>\n",
              "      <td>0</td>\n",
              "      <td>0</td>\n",
              "      <td>0</td>\n",
              "      <td>0</td>\n",
              "      <td>0</td>\n",
              "      <td>0</td>\n",
              "      <td>0</td>\n",
              "      <td>0</td>\n",
              "      <td>0</td>\n",
              "      <td>1</td>\n",
              "      <td>0</td>\n",
              "      <td>0</td>\n",
              "      <td>0</td>\n",
              "      <td>0</td>\n",
              "      <td>0</td>\n",
              "      <td>0</td>\n",
              "      <td>0</td>\n",
              "      <td>0</td>\n",
              "      <td>0</td>\n",
              "      <td>0</td>\n",
              "      <td>0</td>\n",
              "      <td>0</td>\n",
              "      <td>0</td>\n",
              "      <td>0</td>\n",
              "      <td>0</td>\n",
              "      <td>0</td>\n",
              "      <td>0</td>\n",
              "      <td>0</td>\n",
              "      <td>0</td>\n",
              "      <td>0</td>\n",
              "      <td>1</td>\n",
              "      <td>0</td>\n",
              "      <td>...</td>\n",
              "      <td>0</td>\n",
              "      <td>0</td>\n",
              "      <td>0</td>\n",
              "      <td>0</td>\n",
              "      <td>0</td>\n",
              "      <td>0</td>\n",
              "      <td>0</td>\n",
              "      <td>0</td>\n",
              "      <td>0</td>\n",
              "      <td>0</td>\n",
              "      <td>0</td>\n",
              "      <td>0</td>\n",
              "      <td>0</td>\n",
              "      <td>0</td>\n",
              "      <td>0</td>\n",
              "      <td>0</td>\n",
              "      <td>0</td>\n",
              "      <td>0</td>\n",
              "      <td>0</td>\n",
              "      <td>0</td>\n",
              "      <td>0</td>\n",
              "      <td>0</td>\n",
              "      <td>0</td>\n",
              "      <td>0</td>\n",
              "      <td>0</td>\n",
              "      <td>0</td>\n",
              "      <td>0</td>\n",
              "      <td>0</td>\n",
              "      <td>0</td>\n",
              "      <td>0</td>\n",
              "      <td>0</td>\n",
              "      <td>0</td>\n",
              "      <td>0</td>\n",
              "      <td>0</td>\n",
              "      <td>0</td>\n",
              "      <td>0</td>\n",
              "      <td>0</td>\n",
              "      <td>1</td>\n",
              "      <td>0</td>\n",
              "      <td>0</td>\n",
              "    </tr>\n",
              "    <tr>\n",
              "      <th>3</th>\n",
              "      <td>0</td>\n",
              "      <td>0</td>\n",
              "      <td>0</td>\n",
              "      <td>0</td>\n",
              "      <td>0</td>\n",
              "      <td>0</td>\n",
              "      <td>0</td>\n",
              "      <td>0</td>\n",
              "      <td>0</td>\n",
              "      <td>0</td>\n",
              "      <td>0</td>\n",
              "      <td>0</td>\n",
              "      <td>0</td>\n",
              "      <td>0</td>\n",
              "      <td>0</td>\n",
              "      <td>0</td>\n",
              "      <td>0</td>\n",
              "      <td>0</td>\n",
              "      <td>0</td>\n",
              "      <td>0</td>\n",
              "      <td>0</td>\n",
              "      <td>0</td>\n",
              "      <td>0</td>\n",
              "      <td>0</td>\n",
              "      <td>0</td>\n",
              "      <td>0</td>\n",
              "      <td>0</td>\n",
              "      <td>0</td>\n",
              "      <td>0</td>\n",
              "      <td>0</td>\n",
              "      <td>0</td>\n",
              "      <td>0</td>\n",
              "      <td>0</td>\n",
              "      <td>0</td>\n",
              "      <td>0</td>\n",
              "      <td>0</td>\n",
              "      <td>0</td>\n",
              "      <td>0</td>\n",
              "      <td>0</td>\n",
              "      <td>0</td>\n",
              "      <td>...</td>\n",
              "      <td>0</td>\n",
              "      <td>0</td>\n",
              "      <td>0</td>\n",
              "      <td>0</td>\n",
              "      <td>0</td>\n",
              "      <td>0</td>\n",
              "      <td>0</td>\n",
              "      <td>0</td>\n",
              "      <td>0</td>\n",
              "      <td>0</td>\n",
              "      <td>0</td>\n",
              "      <td>0</td>\n",
              "      <td>0</td>\n",
              "      <td>0</td>\n",
              "      <td>0</td>\n",
              "      <td>0</td>\n",
              "      <td>0</td>\n",
              "      <td>0</td>\n",
              "      <td>0</td>\n",
              "      <td>0</td>\n",
              "      <td>0</td>\n",
              "      <td>0</td>\n",
              "      <td>0</td>\n",
              "      <td>0</td>\n",
              "      <td>0</td>\n",
              "      <td>0</td>\n",
              "      <td>0</td>\n",
              "      <td>0</td>\n",
              "      <td>0</td>\n",
              "      <td>0</td>\n",
              "      <td>0</td>\n",
              "      <td>0</td>\n",
              "      <td>0</td>\n",
              "      <td>0</td>\n",
              "      <td>0</td>\n",
              "      <td>0</td>\n",
              "      <td>0</td>\n",
              "      <td>1</td>\n",
              "      <td>0</td>\n",
              "      <td>0</td>\n",
              "    </tr>\n",
              "    <tr>\n",
              "      <th>4</th>\n",
              "      <td>1</td>\n",
              "      <td>0</td>\n",
              "      <td>0</td>\n",
              "      <td>0</td>\n",
              "      <td>0</td>\n",
              "      <td>0</td>\n",
              "      <td>0</td>\n",
              "      <td>0</td>\n",
              "      <td>0</td>\n",
              "      <td>0</td>\n",
              "      <td>0</td>\n",
              "      <td>0</td>\n",
              "      <td>0</td>\n",
              "      <td>0</td>\n",
              "      <td>0</td>\n",
              "      <td>0</td>\n",
              "      <td>0</td>\n",
              "      <td>1</td>\n",
              "      <td>0</td>\n",
              "      <td>0</td>\n",
              "      <td>0</td>\n",
              "      <td>0</td>\n",
              "      <td>0</td>\n",
              "      <td>0</td>\n",
              "      <td>0</td>\n",
              "      <td>0</td>\n",
              "      <td>0</td>\n",
              "      <td>0</td>\n",
              "      <td>0</td>\n",
              "      <td>0</td>\n",
              "      <td>0</td>\n",
              "      <td>0</td>\n",
              "      <td>0</td>\n",
              "      <td>0</td>\n",
              "      <td>0</td>\n",
              "      <td>0</td>\n",
              "      <td>0</td>\n",
              "      <td>0</td>\n",
              "      <td>0</td>\n",
              "      <td>0</td>\n",
              "      <td>...</td>\n",
              "      <td>0</td>\n",
              "      <td>0</td>\n",
              "      <td>0</td>\n",
              "      <td>0</td>\n",
              "      <td>0</td>\n",
              "      <td>0</td>\n",
              "      <td>0</td>\n",
              "      <td>0</td>\n",
              "      <td>0</td>\n",
              "      <td>0</td>\n",
              "      <td>0</td>\n",
              "      <td>0</td>\n",
              "      <td>0</td>\n",
              "      <td>0</td>\n",
              "      <td>0</td>\n",
              "      <td>0</td>\n",
              "      <td>0</td>\n",
              "      <td>0</td>\n",
              "      <td>0</td>\n",
              "      <td>0</td>\n",
              "      <td>0</td>\n",
              "      <td>0</td>\n",
              "      <td>0</td>\n",
              "      <td>0</td>\n",
              "      <td>0</td>\n",
              "      <td>0</td>\n",
              "      <td>0</td>\n",
              "      <td>0</td>\n",
              "      <td>0</td>\n",
              "      <td>0</td>\n",
              "      <td>0</td>\n",
              "      <td>0</td>\n",
              "      <td>0</td>\n",
              "      <td>0</td>\n",
              "      <td>0</td>\n",
              "      <td>0</td>\n",
              "      <td>0</td>\n",
              "      <td>1</td>\n",
              "      <td>0</td>\n",
              "      <td>0</td>\n",
              "    </tr>\n",
              "  </tbody>\n",
              "</table>\n",
              "<p>5 rows × 198 columns</p>\n",
              "</div>"
            ],
            "text/plain": [
              "   heart  vintag  set  bag  box  ...  1<.<2  2<.<3  3<.<5  5<.<10  .>10\n",
              "0      1       0    0    0    0  ...      0      1      0       0     0\n",
              "1      0       0    0    0    0  ...      0      0      1       0     0\n",
              "2      1       0    0    0    0  ...      0      0      1       0     0\n",
              "3      0       0    0    0    0  ...      0      0      1       0     0\n",
              "4      1       0    0    0    0  ...      0      0      1       0     0\n",
              "\n",
              "[5 rows x 198 columns]"
            ]
          },
          "metadata": {
            "tags": []
          },
          "execution_count": 18
        }
      ]
    },
    {
      "cell_type": "markdown",
      "metadata": {
        "id": "Xd-hvT6WP8fb",
        "colab_type": "text"
      },
      "source": [
        "## 3.7) Number of products for each price range\n"
      ]
    },
    {
      "cell_type": "code",
      "metadata": {
        "id": "Fo4jY_PJwqTV",
        "colab_type": "code",
        "colab": {
          "base_uri": "https://localhost:8080/",
          "height": 147
        },
        "outputId": "1eaaae46-4263-4b0d-9dcb-31661005e610"
      },
      "source": [
        "print(\"{:<8} {:<20} \\n\".format('range', 'number of products') + 30*'-')\n",
        "for i in range(len(threshold)):   \n",
        "    print(\"{:<10}  {:<20}\".format(label_col[i], X.loc[:, label_col[i]].sum()))"
      ],
      "execution_count": null,
      "outputs": [
        {
          "output_type": "stream",
          "text": [
            "range    number of products   \n",
            "------------------------------\n",
            "0<.<1       964                 \n",
            "1<.<2       1009                \n",
            "2<.<3       673                 \n",
            "3<.<5       606                 \n",
            "5<.<10      470                 \n",
            ".>10        156                 \n"
          ],
          "name": "stdout"
        }
      ]
    },
    {
      "cell_type": "markdown",
      "metadata": {
        "id": "J10hsEkmQE6t",
        "colab_type": "text"
      },
      "source": [
        "##3.8) Creating clusters of products\n",
        "\n",
        "In this section, we group the products into different classes. \n",
        "\n",
        "In the case of matrices with binary encoding, the most suitable metric for the calculation of distances is the Hamming distance. \n",
        "\n",
        "Here we simply use Euclidean distance with kmeans. To choose approximately the number of clusters that best describes the data, we use the silhouette score:"
      ]
    },
    {
      "cell_type": "code",
      "metadata": {
        "id": "zPSXbOEKJCXU",
        "colab_type": "code",
        "colab": {
          "base_uri": "https://localhost:8080/",
          "height": 131
        },
        "outputId": "97555d03-14fe-4d13-9fb9-4df037fc18bc"
      },
      "source": [
        "(df_cleaned.iloc[:, [5, 7, 10, 11]]).values"
      ],
      "execution_count": null,
      "outputs": [
        {
          "output_type": "execute_result",
          "data": {
            "text/plain": [
              "array([[ 6.  ,  2.55,  0.  , 15.3 ],\n",
              "       [ 6.  ,  3.39,  0.  , 20.34],\n",
              "       [ 8.  ,  2.75,  0.  , 22.  ],\n",
              "       ...,\n",
              "       [ 4.  ,  4.15,  0.  , 16.6 ],\n",
              "       [ 4.  ,  4.15,  0.  , 16.6 ],\n",
              "       [ 3.  ,  4.95,  0.  , 14.85]])"
            ]
          },
          "metadata": {
            "tags": []
          },
          "execution_count": 20
        }
      ]
    },
    {
      "cell_type": "code",
      "metadata": {
        "id": "Q1kuJzEpP-_1",
        "colab_type": "code",
        "colab": {
          "base_uri": "https://localhost:8080/",
          "height": 476
        },
        "outputId": "e0556bb6-abdd-44d6-d130-91ceb3f7df6c"
      },
      "source": [
        "from sklearn.cluster import KMeans\n",
        "from sklearn.metrics import silhouette_score\n",
        "\n",
        "matrix = X.values #make matrix from DataFrame\n",
        "Silhouettes = []\n",
        "N=[]\n",
        "for n_clusters in range(3,15):\n",
        "  N.append(n_clusters)\n",
        "  kmeans = KMeans(init='k-means++', n_clusters = n_clusters, n_init=200)\n",
        "  #fit model\n",
        "  kmeans.fit(matrix)\n",
        "  clusters = kmeans.predict(matrix)\n",
        "  #use silhouette score\n",
        "  silhouette_avg = silhouette_score(matrix, clusters)\n",
        "  Silhouettes.append(silhouette_avg)\n",
        "  print(\"For n_clusters =\", n_clusters, \"The average silhouette_score is :\", silhouette_avg)\n",
        "plt.plot(N, Silhouettes, c='r')"
      ],
      "execution_count": null,
      "outputs": [
        {
          "output_type": "stream",
          "text": [
            "For n_clusters = 3 The average silhouette_score is : 0.10301467233615781\n",
            "For n_clusters = 4 The average silhouette_score is : 0.1288457481525637\n",
            "For n_clusters = 5 The average silhouette_score is : 0.1497905203267311\n",
            "For n_clusters = 6 The average silhouette_score is : 0.14789088282015717\n",
            "For n_clusters = 7 The average silhouette_score is : 0.1522914550428206\n",
            "For n_clusters = 8 The average silhouette_score is : 0.1518707585435695\n",
            "For n_clusters = 9 The average silhouette_score is : 0.1459032332803687\n",
            "For n_clusters = 10 The average silhouette_score is : 0.15013734125437742\n",
            "For n_clusters = 11 The average silhouette_score is : 0.15341249393642703\n",
            "For n_clusters = 12 The average silhouette_score is : 0.14834185030914626\n",
            "For n_clusters = 13 The average silhouette_score is : 0.13219459330655922\n",
            "For n_clusters = 14 The average silhouette_score is : 0.1377772596551827\n"
          ],
          "name": "stdout"
        },
        {
          "output_type": "execute_result",
          "data": {
            "text/plain": [
              "[<matplotlib.lines.Line2D at 0x7ff92a8a7940>]"
            ]
          },
          "metadata": {
            "tags": []
          },
          "execution_count": 21
        },
        {
          "output_type": "display_data",
          "data": {
            "image/png": "[encoded data removed]",
            "text/plain": [
              "<Figure size 432x288 with 1 Axes>"
            ]
          },
          "metadata": {
            "tags": [],
            "needs_background": "light"
          }
        }
      ]
    },
    {
      "cell_type": "markdown",
      "metadata": {
        "id": "QumWgCVPQOzj",
        "colab_type": "text"
      },
      "source": [
        "## 3.9) Adjust the model\n",
        "K-means can converge to local minimum, and sometimes it is usefull to run it several times to get better silhouette score. Choose treshold equal to 0.145 (or more) and achieve score better than this number. Investigate nuber of elements in clusters."
      ]
    },
    {
      "cell_type": "code",
      "metadata": {
        "id": "IAwSlbQ_QHP-",
        "colab_type": "code",
        "colab": {
          "base_uri": "https://localhost:8080/",
          "height": 131
        },
        "outputId": "a3652300-1167-4ba6-9be8-5faa07cf2dfa"
      },
      "source": [
        "# run Kmeans in loop until you get good result\n",
        "silhouette_avg = -1\n",
        "n_clusters = 5\n",
        "while silhouette_avg < 0.147:\n",
        "    kmeans = KMeans(init='k-means++', n_clusters = n_clusters, n_init=200)\n",
        "    kmeans.fit(matrix)\n",
        "    clusters = kmeans.predict(matrix)\n",
        "    silhouette_avg = silhouette_score(matrix, clusters)\n",
        "    print(\"For n_clusters =\", n_clusters, \"The average silhouette_score is :\", silhouette_avg)\n",
        "\n",
        "pd.Series(clusters).value_counts()"
      ],
      "execution_count": null,
      "outputs": [
        {
          "output_type": "stream",
          "text": [
            "For n_clusters = 5 The average silhouette_score is : 0.1497905203267311\n"
          ],
          "name": "stdout"
        },
        {
          "output_type": "execute_result",
          "data": {
            "text/plain": [
              "3    1009\n",
              "4     964\n",
              "0     673\n",
              "1     626\n",
              "2     606\n",
              "dtype: int64"
            ]
          },
          "metadata": {
            "tags": []
          },
          "execution_count": 22
        }
      ]
    },
    {
      "cell_type": "code",
      "metadata": {
        "id": "22JRBYV0TwlP",
        "colab_type": "code",
        "colab": {
          "base_uri": "https://localhost:8080/",
          "height": 98
        },
        "outputId": "9a6a98e9-d644-4573-a898-5cba443c548f"
      },
      "source": [
        "features = X.keys()\n",
        "for center in kmeans.cluster_centers_:\n",
        "   features_dict = {features[i]:center[i] for i in range(len(features))}\n",
        "   sorted_features = sorted(features_dict.items(), key =lambda kv:(-kv[1], kv[0]))\n",
        "   sorted_features = [f[0] for f in sorted_features]\n",
        "   print(sorted_features[:7])"
      ],
      "execution_count": null,
      "outputs": [
        {
          "output_type": "stream",
          "text": [
            "['2<.<3', 'art', 'bag', 'set', 'sign', 'pot', 'box']\n",
            "['5<.<10', '.>10', 'art', 'lace', 'necklac', 'wall', 'glass']\n",
            "['3<.<5', 'art', 'set', 'heart', 'pot', 'tag', 'vintag']\n",
            "['1<.<2', 'art', 'set', 'heart', 'tag', 'sign', 'vintag']\n",
            "['0<.<1', 'art', 'card', 'christma', 'heart', 'wrap', 'decor']\n"
          ],
          "name": "stdout"
        }
      ]
    },
    {
      "cell_type": "markdown",
      "metadata": {
        "id": "sDu0Z0PkQVw0",
        "colab_type": "text"
      },
      "source": [
        "## 3.10) Plot \n",
        "Plot the [silhouette](https://scikit-learn.org/stable/auto_examples/cluster/plot_kmeans_silhouette_analysis.html) scores:"
      ]
    },
    {
      "cell_type": "code",
      "metadata": {
        "id": "tQGoXJKvQSAu",
        "colab_type": "code",
        "colab": {}
      },
      "source": [
        "def graph_component_silhouette(n_clusters, lim_x, mat_size, sample_silhouette_values, clusters):\n",
        "    plt.rcParams[\"patch.force_edgecolor\"] = True\n",
        "    plt.style.use('fivethirtyeight')\n",
        "    mpl.rc('patch', edgecolor = 'dimgray', linewidth=1)\n",
        "    #\n",
        "    fig, ax1 = plt.subplots(1, 1)\n",
        "    fig.set_size_inches(8, 8)\n",
        "    ax1.set_xlim([lim_x[0], lim_x[1]])\n",
        "    ax1.set_ylim([0, mat_size + (n_clusters + 1) * 10])\n",
        "    y_lower = 10\n",
        "    for i in range(n_clusters):\n",
        "        \n",
        "        # Aggregate the silhouette scores for samples belonging to cluster i, and sort them\n",
        "        ith_cluster_silhouette_values = sample_silhouette_values[clusters == i]\n",
        "        ith_cluster_silhouette_values.sort()\n",
        "        size_cluster_i = ith_cluster_silhouette_values.shape[0]\n",
        "        y_upper = y_lower + size_cluster_i\n",
        "        cmap = cm.get_cmap(\"Spectral\")\n",
        "        color = cmap(float(i) / n_clusters)        \n",
        "        ax1.fill_betweenx(np.arange(y_lower, y_upper), 0, ith_cluster_silhouette_values,\n",
        "                           facecolor=color, edgecolor=color, alpha=0.8)\n",
        "        \n",
        "        # Label the silhouette plots with their cluster numbers at the middle\n",
        "        ax1.text(-0.03, y_lower + 0.5 * size_cluster_i, str(i), color = 'red', fontweight = 'bold',\n",
        "                bbox=dict(facecolor='white', edgecolor='black', boxstyle='round, pad=0.3'))\n",
        "        \n",
        "        # Compute the new y_lower for next plot\n",
        "        y_lower = y_upper + 10  "
      ],
      "execution_count": null,
      "outputs": []
    },
    {
      "cell_type": "code",
      "metadata": {
        "id": "r1xRku7CQYlq",
        "colab_type": "code",
        "colab": {
          "base_uri": "https://localhost:8080/",
          "height": 515
        },
        "outputId": "ae5f0b31-e824-44ab-e260-8dd82780b905"
      },
      "source": [
        "from sklearn.metrics import silhouette_samples\n",
        "import matplotlib as mpl\n",
        "import matplotlib.cm as cm\n",
        "import numpy as np\n",
        "\n",
        "# define individual silouhette scores\n",
        "sample_silhouette_values = silhouette_samples(matrix, clusters)\n",
        "\n",
        "# and the graph\n",
        "graph_component_silhouette(n_clusters, [-0.07, 0.33], len(X), sample_silhouette_values, clusters)"
      ],
      "execution_count": null,
      "outputs": [
        {
          "output_type": "display_data",
          "data": {
            "image/png": "[encoded data removed]",
            "text/plain": [
              "<Figure size 576x576 with 1 Axes>"
            ]
          },
          "metadata": {
            "tags": []
          }
        }
      ]
    },
    {
      "cell_type": "markdown",
      "metadata": {
        "id": "0SI2cIhvQkYE",
        "colab_type": "text"
      },
      "source": [
        "## 3.11) Save data\n",
        "Save variables `Matrix_X.csv` and `clusters` to your google drive"
      ]
    },
    {
      "cell_type": "code",
      "metadata": {
        "id": "nNy9xlTbQaZD",
        "colab_type": "code",
        "colab": {}
      },
      "source": [
        "X.to_csv(relative_path + 'Matrix_X.csv')\n",
        "(pd.Series(clusters)).to_csv(relative_path + 'Matrix_X_clusters.csv', header = 'False')"
      ],
      "execution_count": null,
      "outputs": []
    }
  ]
}